{
 "cells": [
  {
   "cell_type": "code",
   "execution_count": 65,
   "id": "7b415d35",
   "metadata": {
    "executionInfo": {
     "elapsed": 38354,
     "status": "ok",
     "timestamp": 1761346593056,
     "user": {
      "displayName": "Johan Sebastian Castellanos Avila",
      "userId": "11374531528507303616"
     },
     "user_tz": 300
    },
    "id": "7b415d35"
   },
   "outputs": [],
   "source": [
    "# python imports\n",
    "from transformers import BertModel, BertTokenizer, AdamWeightDecay, get_linear_schedule_with_warmup\n",
    "import torch\n",
    "import numpy as np\n",
    "from sklearn.model_selection import train_test_split\n",
    "from torch import nn, optim\n",
    "from torch.utils.data import DataLoader, Dataset\n",
    "import pandas as pd\n",
    "from textwrap import wrap\n",
    "\n",
    "# MLflow imports\n",
    "import mlflow\n",
    "import mlflow.pytorch\n",
    "import mlflow.sklearn\n",
    "from mlflow.tracking import MlflowClient\n",
    "import os\n",
    "import hashlib\n",
    "import json\n",
    "import matplotlib.pyplot as plt\n",
    "import seaborn as sns\n",
    "from sklearn.metrics import classification_report, confusion_matrix\n",
    "import plotly.express as px\n",
    "import plotly.graph_objects as go\n",
    "from datetime import datetime"
   ]
  },
  {
   "cell_type": "code",
   "execution_count": 66,
   "id": "a812773d",
   "metadata": {},
   "outputs": [
    {
     "name": "stdout",
     "output_type": "stream",
     "text": [
      "Usando experimento existente: BERT_Text_Classification_Experiment\n",
      "MLflow configurado. Experimento ID: 1\n",
      "Tracking URI: http://127.0.0.1:5000\n"
     ]
    }
   ],
   "source": [
    "# CONFIGURACIÓN DE MLFLOW \n",
    "\n",
    "# Configurar MLflow\n",
    "mlflow.set_tracking_uri(\"http://127.0.0.1:5000\")  # Cambia por tu servidor MLflow si tienes uno\n",
    "experiment_name = \"BERT_Text_Classification_Experiment\"\n",
    "\n",
    "# Crear o usar experimento existente\n",
    "try:\n",
    "    experiment_id = mlflow.get_experiment_by_name(experiment_name).experiment_id\n",
    "    print(f\"Usando experimento existente: {experiment_name}\")\n",
    "except:\n",
    "    experiment_id = mlflow.create_experiment(experiment_name)\n",
    "    print(f\"Experimento creado: {experiment_name}\")\n",
    "\n",
    "mlflow.set_experiment(experiment_name)\n",
    "\n",
    "# Habilitar autologging para PyTorch y sklearn\n",
    "mlflow.pytorch.autolog(log_models=True, log_every_n_epoch=1, log_every_n_step=None)\n",
    "mlflow.sklearn.autolog()\n",
    "\n",
    "print(f\"MLflow configurado. Experimento ID: {experiment_id}\")\n",
    "print(f\"Tracking URI: {mlflow.get_tracking_uri()}\")\n",
    "\n",
    "# Función para calcular hash del dataset\n",
    "def calculate_data_hash(df):\n",
    "    \"\"\"Calcula un hash único del dataset para tracking de versiones\"\"\"\n",
    "    data_string = df.to_string()\n",
    "    return hashlib.md5(data_string.encode()).hexdigest()\n",
    "\n",
    "# Función para obtener información del código\n",
    "def get_code_version():\n",
    "    \"\"\"Obtiene información sobre la versión del código\"\"\"\n",
    "    import sys\n",
    "    return {\n",
    "        \"python_version\": sys.version,\n",
    "        \"torch_version\": torch.__version__,\n",
    "        \"transformers_version\": None,  # Se actualizará después de importar transformers\n",
    "        \"timestamp\": datetime.now().isoformat()\n",
    "    }"
   ]
  },
  {
   "cell_type": "code",
   "execution_count": 67,
   "id": "91217330",
   "metadata": {
    "colab": {
     "base_uri": "https://localhost:8080/"
    },
    "executionInfo": {
     "elapsed": 11,
     "status": "ok",
     "timestamp": 1761346593071,
     "user": {
      "displayName": "Johan Sebastian Castellanos Avila",
      "userId": "11374531528507303616"
     },
     "user_tz": 300
    },
    "id": "91217330",
    "outputId": "9c8a97ca-cddf-48f5-b3a8-4aab00be5576"
   },
   "outputs": [
    {
     "name": "stdout",
     "output_type": "stream",
     "text": [
      "Using device: cuda:0\n",
      "\n",
      "====== CONFIGURACIÓN DEL EXPERIMENTO ======\n",
      "Hiperparámetros:\n",
      "  learning_rate: 2e-05\n",
      "  epochs: 10\n",
      "  dropout_rate: 0.3\n",
      "  batch_size: 24\n",
      "  max_length: 500\n",
      "  warmup_steps: 0\n",
      "  weight_decay: 0.01\n",
      "  max_grad_norm: 1.0\n",
      "  sample_size: 5000\n",
      "\n",
      "Configuración del modelo:\n",
      "  pre_trained_model: bert-base-multilingual-cased\n",
      "  n_classes: 6\n",
      "  random_seed: 42\n",
      "\n",
      "Configuración de datos:\n",
      "  dataset_path: historias_clinicas_procesadas.xlsx\n",
      "  test_size: 0.2\n"
     ]
    }
   ],
   "source": [
    "# INICIALIZACIÓN Y CONFIGURACIÓN DE HIPERPARÁMETROS \n",
    "\n",
    "# Configuración base\n",
    "RANDOM_SEED = 42\n",
    "MAX_LEN = 500\n",
    "BATCH_SIZE = 24\n",
    "DATASET_PATH = \"historias_clinicas_procesadas.xlsx\"\n",
    "NCLASS = 6\n",
    "\n",
    "# Hiperparámetros configurables para optimización\n",
    "HYPERPARAMS = {\n",
    "    'learning_rate': 2e-5,\n",
    "    'epochs': 10,\n",
    "    'dropout_rate': 0.3,\n",
    "    'batch_size': BATCH_SIZE,\n",
    "    'max_length': MAX_LEN,\n",
    "    'warmup_steps': 0,\n",
    "    'weight_decay': 0.01,\n",
    "    'max_grad_norm': 1.0,\n",
    "    'sample_size': 5000,  # Para experimentación rápida\n",
    "}\n",
    "\n",
    "# Configuración del modelo\n",
    "MODEL_CONFIG = {\n",
    "    'pre_trained_model': 'bert-base-multilingual-cased',\n",
    "    'n_classes': NCLASS,\n",
    "    'random_seed': RANDOM_SEED,\n",
    "}\n",
    "\n",
    "# Configuración de datos\n",
    "DATA_CONFIG = {\n",
    "    'dataset_path': DATASET_PATH,\n",
    "    'test_size': 0.2\n",
    "}\n",
    "\n",
    "# Semillas para reproducibilidad\n",
    "np.random.seed(RANDOM_SEED)\n",
    "torch.manual_seed(RANDOM_SEED)\n",
    "if torch.cuda.is_available():\n",
    "    torch.cuda.manual_seed_all(RANDOM_SEED)\n",
    "\n",
    "device = torch.device(\"cuda:0\" if torch.cuda.is_available() else \"cpu\")\n",
    "print(f\"Using device: {device}\")\n",
    "\n",
    "# Mostrar configuración\n",
    "print(\"\\n====== CONFIGURACIÓN DEL EXPERIMENTO ======\")\n",
    "print(\"Hiperparámetros:\")\n",
    "for key, value in HYPERPARAMS.items():\n",
    "    print(f\"  {key}: {value}\")\n",
    "    \n",
    "print(\"\\nConfiguración del modelo:\")\n",
    "for key, value in MODEL_CONFIG.items():\n",
    "    print(f\"  {key}: {value}\")\n",
    "    \n",
    "print(\"\\nConfiguración de datos:\")\n",
    "for key, value in DATA_CONFIG.items():\n",
    "    print(f\"  {key}: {value}\")"
   ]
  },
  {
   "cell_type": "code",
   "execution_count": 68,
   "id": "132a2098",
   "metadata": {
    "colab": {
     "base_uri": "https://localhost:8080/"
    },
    "executionInfo": {
     "elapsed": 21,
     "status": "ok",
     "timestamp": 1761346593094,
     "user": {
      "displayName": "Johan Sebastian Castellanos Avila",
      "userId": "11374531528507303616"
     },
     "user_tz": 300
    },
    "id": "132a2098",
    "outputId": "8563515e-9179-443a-9e62-83e83dcf247b"
   },
   "outputs": [
    {
     "data": {
      "text/plain": [
       "True"
      ]
     },
     "execution_count": 68,
     "metadata": {},
     "output_type": "execute_result"
    }
   ],
   "source": [
    "import torch\n",
    "torch.cuda.is_available()"
   ]
  },
  {
   "cell_type": "code",
   "execution_count": 69,
   "id": "7a1a589d",
   "metadata": {
    "colab": {
     "base_uri": "https://localhost:8080/"
    },
    "executionInfo": {
     "elapsed": 13,
     "status": "ok",
     "timestamp": 1761346593096,
     "user": {
      "displayName": "Johan Sebastian Castellanos Avila",
      "userId": "11374531528507303616"
     },
     "user_tz": 300
    },
    "id": "7a1a589d",
    "outputId": "09c72151-fad3-4524-8246-0c9e7fbf150e"
   },
   "outputs": [
    {
     "name": "stdout",
     "output_type": "stream",
     "text": [
      "True\n",
      "12.8\n"
     ]
    }
   ],
   "source": [
    "import torch\n",
    "print(torch.cuda.is_available())\n",
    "print(torch.version.cuda)"
   ]
  },
  {
   "cell_type": "code",
   "execution_count": 70,
   "id": "2f1260e3",
   "metadata": {
    "colab": {
     "base_uri": "https://localhost:8080/"
    },
    "executionInfo": {
     "elapsed": 8,
     "status": "ok",
     "timestamp": 1761346593104,
     "user": {
      "displayName": "Johan Sebastian Castellanos Avila",
      "userId": "11374531528507303616"
     },
     "user_tz": 300
    },
    "id": "2f1260e3",
    "outputId": "63f60d55-cd06-4ef7-e652-fbabb594d097"
   },
   "outputs": [
    {
     "name": "stdout",
     "output_type": "stream",
     "text": [
      "CUDA disponible: True\n",
      "Versión compilada con PyTorch: 12.8\n",
      "Versión de cuDNN: 91002\n",
      "Nombre de GPU: NVIDIA GeForce RTX 4060 Laptop GPU\n"
     ]
    }
   ],
   "source": [
    "print(\"CUDA disponible:\", torch.cuda.is_available())\n",
    "print(\"Versión compilada con PyTorch:\", torch.version.cuda)\n",
    "print(\"Versión de cuDNN:\", torch.backends.cudnn.version())\n",
    "print(\"Nombre de GPU:\", torch.cuda.get_device_name(0))"
   ]
  },
  {
   "cell_type": "code",
   "execution_count": 71,
   "id": "302ae9b5",
   "metadata": {
    "colab": {
     "base_uri": "https://localhost:8080/",
     "height": 483
    },
    "executionInfo": {
     "elapsed": 2466,
     "status": "ok",
     "timestamp": 1761346595571,
     "user": {
      "displayName": "Johan Sebastian Castellanos Avila",
      "userId": "11374531528507303616"
     },
     "user_tz": 300
    },
    "id": "302ae9b5",
    "outputId": "50de89aa-accd-44fa-b0db-60c7b6c1eb46"
   },
   "outputs": [
    {
     "name": "stdout",
     "output_type": "stream",
     "text": [
      "Cargando dataset...\n",
      "Dataset cargado: 9809 registros, 9 columnas\n",
      "Hash del dataset original: 05deb52767a543339ba651baf113e3e6\n"
     ]
    },
    {
     "data": {
      "text/html": [
       "<div>\n",
       "<style scoped>\n",
       "    .dataframe tbody tr th:only-of-type {\n",
       "        vertical-align: middle;\n",
       "    }\n",
       "\n",
       "    .dataframe tbody tr th {\n",
       "        vertical-align: top;\n",
       "    }\n",
       "\n",
       "    .dataframe thead th {\n",
       "        text-align: right;\n",
       "    }\n",
       "</style>\n",
       "<table border=\"1\" class=\"dataframe\">\n",
       "  <thead>\n",
       "    <tr style=\"text-align: right;\">\n",
       "      <th></th>\n",
       "      <th>sexo</th>\n",
       "      <th>edad</th>\n",
       "      <th>grupo</th>\n",
       "      <th>especialidad_medica</th>\n",
       "      <th>subjetivo</th>\n",
       "      <th>objetivo</th>\n",
       "      <th>concatenada</th>\n",
       "      <th>sexo_codificado</th>\n",
       "      <th>grupo_codificado</th>\n",
       "    </tr>\n",
       "  </thead>\n",
       "  <tbody>\n",
       "    <tr>\n",
       "      <th>0</th>\n",
       "      <td>Femenino</td>\n",
       "      <td>38</td>\n",
       "      <td>Otros trastornos</td>\n",
       "      <td>PSICOLOGÍA</td>\n",
       "      <td>Paciente refiere: \"Me empezaron a dar como uno...</td>\n",
       "      <td>Paciente alerta, colaboradora con apariencia o...</td>\n",
       "      <td>['empezar', 'episodio', 'tom', 'pastilla', 'do...</td>\n",
       "      <td>0</td>\n",
       "      <td>0</td>\n",
       "    </tr>\n",
       "    <tr>\n",
       "      <th>1</th>\n",
       "      <td>Masculino</td>\n",
       "      <td>22</td>\n",
       "      <td>T. externalizantes</td>\n",
       "      <td>PSICOLOGÍA</td>\n",
       "      <td>Paciente refiere \"Me he sentido muy mal, en el...</td>\n",
       "      <td>Paciente a quien evaluó por primera vez, alert...</td>\n",
       "      <td>['sentido', 'trabajar', 'concentrar yo', 'cosa...</td>\n",
       "      <td>1</td>\n",
       "      <td>4</td>\n",
       "    </tr>\n",
       "    <tr>\n",
       "      <th>2</th>\n",
       "      <td>Masculino</td>\n",
       "      <td>9</td>\n",
       "      <td>Otros trastornos</td>\n",
       "      <td>PSICOLOGÍA</td>\n",
       "      <td>La madre refiere \"el viene por un acompañamien...</td>\n",
       "      <td>NaN</td>\n",
       "      <td>['madre', 'venir', 'acompañamiento', 'emociona...</td>\n",
       "      <td>1</td>\n",
       "      <td>0</td>\n",
       "    </tr>\n",
       "    <tr>\n",
       "      <th>3</th>\n",
       "      <td>Masculino</td>\n",
       "      <td>28</td>\n",
       "      <td>Otros trastornos</td>\n",
       "      <td>PSICOLOGÍA</td>\n",
       "      <td>Paciente refiere \"Estas cosas que han pasado m...</td>\n",
       "      <td>Paciente quien evalúo por primera vez, alerta,...</td>\n",
       "      <td>['cosa', 'problema', 'empresa', 'ocasión', 'sa...</td>\n",
       "      <td>1</td>\n",
       "      <td>0</td>\n",
       "    </tr>\n",
       "    <tr>\n",
       "      <th>4</th>\n",
       "      <td>Femenino</td>\n",
       "      <td>8</td>\n",
       "      <td>Otros trastornos</td>\n",
       "      <td>PSICOLOGÍA</td>\n",
       "      <td>La madre refiere \"Ella ha manifestado ciertas ...</td>\n",
       "      <td>Paciente ingresa en compañía de la madre, aler...</td>\n",
       "      <td>['madre', 'manifestar', 'conducta', 'palabrase...</td>\n",
       "      <td>0</td>\n",
       "      <td>0</td>\n",
       "    </tr>\n",
       "  </tbody>\n",
       "</table>\n",
       "</div>"
      ],
      "text/plain": [
       "        sexo  edad               grupo especialidad_medica  \\\n",
       "0   Femenino    38    Otros trastornos          PSICOLOGÍA   \n",
       "1  Masculino    22  T. externalizantes          PSICOLOGÍA   \n",
       "2  Masculino     9    Otros trastornos          PSICOLOGÍA   \n",
       "3  Masculino    28    Otros trastornos          PSICOLOGÍA   \n",
       "4   Femenino     8    Otros trastornos          PSICOLOGÍA   \n",
       "\n",
       "                                           subjetivo  \\\n",
       "0  Paciente refiere: \"Me empezaron a dar como uno...   \n",
       "1  Paciente refiere \"Me he sentido muy mal, en el...   \n",
       "2  La madre refiere \"el viene por un acompañamien...   \n",
       "3  Paciente refiere \"Estas cosas que han pasado m...   \n",
       "4  La madre refiere \"Ella ha manifestado ciertas ...   \n",
       "\n",
       "                                            objetivo  \\\n",
       "0  Paciente alerta, colaboradora con apariencia o...   \n",
       "1  Paciente a quien evaluó por primera vez, alert...   \n",
       "2                                                NaN   \n",
       "3  Paciente quien evalúo por primera vez, alerta,...   \n",
       "4  Paciente ingresa en compañía de la madre, aler...   \n",
       "\n",
       "                                         concatenada  sexo_codificado  \\\n",
       "0  ['empezar', 'episodio', 'tom', 'pastilla', 'do...                0   \n",
       "1  ['sentido', 'trabajar', 'concentrar yo', 'cosa...                1   \n",
       "2  ['madre', 'venir', 'acompañamiento', 'emociona...                1   \n",
       "3  ['cosa', 'problema', 'empresa', 'ocasión', 'sa...                1   \n",
       "4  ['madre', 'manifestar', 'conducta', 'palabrase...                0   \n",
       "\n",
       "   grupo_codificado  \n",
       "0                 0  \n",
       "1                 4  \n",
       "2                 0  \n",
       "3                 0  \n",
       "4                 0  "
      ]
     },
     "execution_count": 71,
     "metadata": {},
     "output_type": "execute_result"
    }
   ],
   "source": [
    "# CARGA Y PROCESAMIENTO DE DATOS \n",
    "\n",
    "# Cargar dataset\n",
    "print(\"Cargando dataset...\")\n",
    "df = pd.read_excel(DATASET_PATH)\n",
    "print(f\"Dataset cargado: {df.shape[0]} registros, {df.shape[1]} columnas\")\n",
    "\n",
    "# Calcular hash del dataset original para tracking\n",
    "original_data_hash = calculate_data_hash(df)\n",
    "print(f\"Hash del dataset original: {original_data_hash}\")\n",
    "\n",
    "df.head()"
   ]
  },
  {
   "cell_type": "code",
   "execution_count": 72,
   "id": "d5e401ba",
   "metadata": {
    "executionInfo": {
     "elapsed": 2,
     "status": "ok",
     "timestamp": 1761346595575,
     "user": {
      "displayName": "Johan Sebastian Castellanos Avila",
      "userId": "11374531528507303616"
     },
     "user_tz": 300
    },
    "id": "d5e401ba"
   },
   "outputs": [
    {
     "name": "stdout",
     "output_type": "stream",
     "text": [
      "Usando muestra de 5000 registros para experimentación\n",
      "Hash del dataset procesado: bab15416c50bc9dc09e2b48681cca820\n"
     ]
    }
   ],
   "source": [
    "# Muestreo de datos para experimentación\n",
    "sample_size = HYPERPARAMS['sample_size']\n",
    "df = df.sample(n=sample_size, random_state=RANDOM_SEED).reset_index(drop=True)\n",
    "print(f\"Usando muestra de {sample_size} registros para experimentación\")\n",
    "\n",
    "# Calcular hash del dataset procesado\n",
    "processed_data_hash = calculate_data_hash(df)\n",
    "print(f\"Hash del dataset procesado: {processed_data_hash}\")\n",
    "\n",
    "# Información del dataset para MLflow\n",
    "dataset_info = {\n",
    "    'original_size': None,  # Se actualizará con el tamaño original\n",
    "    'sample_size': len(df),\n",
    "    'features': list(df.columns),\n",
    "    'target_column': 'grupo_codificado',\n",
    "    'n_classes': NCLASS,\n",
    "    'original_hash': original_data_hash,\n",
    "    'processed_hash': processed_data_hash\n",
    "}"
   ]
  },
  {
   "cell_type": "code",
   "execution_count": 73,
   "id": "45734f51",
   "metadata": {
    "colab": {
     "base_uri": "https://localhost:8080/",
     "height": 449
    },
    "executionInfo": {
     "elapsed": 21,
     "status": "ok",
     "timestamp": 1761346595598,
     "user": {
      "displayName": "Johan Sebastian Castellanos Avila",
      "userId": "11374531528507303616"
     },
     "user_tz": 300
    },
    "id": "45734f51",
    "outputId": "911965d1-271a-46cf-baa9-693d39c3bacb"
   },
   "outputs": [
    {
     "data": {
      "text/html": [
       "<div>\n",
       "<style scoped>\n",
       "    .dataframe tbody tr th:only-of-type {\n",
       "        vertical-align: middle;\n",
       "    }\n",
       "\n",
       "    .dataframe tbody tr th {\n",
       "        vertical-align: top;\n",
       "    }\n",
       "\n",
       "    .dataframe thead th {\n",
       "        text-align: right;\n",
       "    }\n",
       "</style>\n",
       "<table border=\"1\" class=\"dataframe\">\n",
       "  <thead>\n",
       "    <tr style=\"text-align: right;\">\n",
       "      <th></th>\n",
       "      <th>sexo</th>\n",
       "      <th>edad</th>\n",
       "      <th>grupo</th>\n",
       "      <th>especialidad_medica</th>\n",
       "      <th>subjetivo</th>\n",
       "      <th>objetivo</th>\n",
       "      <th>concatenada</th>\n",
       "      <th>sexo_codificado</th>\n",
       "      <th>grupo_codificado</th>\n",
       "    </tr>\n",
       "  </thead>\n",
       "  <tbody>\n",
       "    <tr>\n",
       "      <th>0</th>\n",
       "      <td>Masculino</td>\n",
       "      <td>16</td>\n",
       "      <td>T. de adaptación</td>\n",
       "      <td>PSICOLOGÍA</td>\n",
       "      <td>SEGUIMIENTO: La paciente refiere altibajos emo...</td>\n",
       "      <td>Paciente orientada en tiempo, lugar y persona,...</td>\n",
       "      <td>['seguimiento', 'altibajo', 'emocional', 'pone...</td>\n",
       "      <td>1</td>\n",
       "      <td>1</td>\n",
       "    </tr>\n",
       "    <tr>\n",
       "      <th>1</th>\n",
       "      <td>Femenino</td>\n",
       "      <td>36</td>\n",
       "      <td>T. de ansiedad</td>\n",
       "      <td>PSICOLOGÍA</td>\n",
       "      <td>\"mi mamá estuvo conmigo dos semanas, la verdad...</td>\n",
       "      <td>Paciente alerta, elocuente, colaboradora, con ...</td>\n",
       "      <td>['mam', 'semana', 'cosa', 'matrimonio', 'segui...</td>\n",
       "      <td>0</td>\n",
       "      <td>2</td>\n",
       "    </tr>\n",
       "    <tr>\n",
       "      <th>2</th>\n",
       "      <td>Femenino</td>\n",
       "      <td>37</td>\n",
       "      <td>T. depresivos</td>\n",
       "      <td>PSICOLOGÍA</td>\n",
       "      <td>Paciente refiere: \\n\"La semana pasada estuvo d...</td>\n",
       "      <td>Se realiza consulta de seguimiento por psicolo...</td>\n",
       "      <td>['semana', 'duro', 'pasar', 'cosa', 'man', 'ch...</td>\n",
       "      <td>0</td>\n",
       "      <td>3</td>\n",
       "    </tr>\n",
       "    <tr>\n",
       "      <th>3</th>\n",
       "      <td>Femenino</td>\n",
       "      <td>18</td>\n",
       "      <td>T. externalizantes</td>\n",
       "      <td>PSICOLOGÍA</td>\n",
       "      <td>Cita #2- 17/06/25\\n\\n\"Bien, ya en vacaciones, ...</td>\n",
       "      <td>Paciente alerta, orientada en las tres esferas...</td>\n",
       "      <td>['cita', 'vacación', 'logr', 'salvar', 'materi...</td>\n",
       "      <td>0</td>\n",
       "      <td>4</td>\n",
       "    </tr>\n",
       "    <tr>\n",
       "      <th>4</th>\n",
       "      <td>Femenino</td>\n",
       "      <td>65</td>\n",
       "      <td>Otros trastornos</td>\n",
       "      <td>PSICOLOGÍA</td>\n",
       "      <td>me he sentido muy triste, muy mal estos dias p...</td>\n",
       "      <td>Paciente quien evalúo por primera vez, con bas...</td>\n",
       "      <td>['sentido', 'triste', 'dar', 'esposo', 'person...</td>\n",
       "      <td>0</td>\n",
       "      <td>0</td>\n",
       "    </tr>\n",
       "  </tbody>\n",
       "</table>\n",
       "</div>"
      ],
      "text/plain": [
       "        sexo  edad               grupo especialidad_medica  \\\n",
       "0  Masculino    16    T. de adaptación          PSICOLOGÍA   \n",
       "1   Femenino    36      T. de ansiedad          PSICOLOGÍA   \n",
       "2   Femenino    37       T. depresivos          PSICOLOGÍA   \n",
       "3   Femenino    18  T. externalizantes          PSICOLOGÍA   \n",
       "4   Femenino    65    Otros trastornos          PSICOLOGÍA   \n",
       "\n",
       "                                           subjetivo  \\\n",
       "0  SEGUIMIENTO: La paciente refiere altibajos emo...   \n",
       "1  \"mi mamá estuvo conmigo dos semanas, la verdad...   \n",
       "2  Paciente refiere: \\n\"La semana pasada estuvo d...   \n",
       "3  Cita #2- 17/06/25\\n\\n\"Bien, ya en vacaciones, ...   \n",
       "4  me he sentido muy triste, muy mal estos dias p...   \n",
       "\n",
       "                                            objetivo  \\\n",
       "0  Paciente orientada en tiempo, lugar y persona,...   \n",
       "1  Paciente alerta, elocuente, colaboradora, con ...   \n",
       "2  Se realiza consulta de seguimiento por psicolo...   \n",
       "3  Paciente alerta, orientada en las tres esferas...   \n",
       "4  Paciente quien evalúo por primera vez, con bas...   \n",
       "\n",
       "                                         concatenada  sexo_codificado  \\\n",
       "0  ['seguimiento', 'altibajo', 'emocional', 'pone...                1   \n",
       "1  ['mam', 'semana', 'cosa', 'matrimonio', 'segui...                0   \n",
       "2  ['semana', 'duro', 'pasar', 'cosa', 'man', 'ch...                0   \n",
       "3  ['cita', 'vacación', 'logr', 'salvar', 'materi...                0   \n",
       "4  ['sentido', 'triste', 'dar', 'esposo', 'person...                0   \n",
       "\n",
       "   grupo_codificado  \n",
       "0                 1  \n",
       "1                 2  \n",
       "2                 3  \n",
       "3                 4  \n",
       "4                 0  "
      ]
     },
     "execution_count": 73,
     "metadata": {},
     "output_type": "execute_result"
    }
   ],
   "source": [
    "df.head()"
   ]
  },
  {
   "cell_type": "code",
   "execution_count": 74,
   "id": "d7464a84",
   "metadata": {
    "colab": {
     "base_uri": "https://localhost:8080/"
    },
    "executionInfo": {
     "elapsed": 48,
     "status": "ok",
     "timestamp": 1761346595649,
     "user": {
      "displayName": "Johan Sebastian Castellanos Avila",
      "userId": "11374531528507303616"
     },
     "user_tz": 300
    },
    "id": "d7464a84",
    "outputId": "a245cd72-08f1-4e0e-bf35-14bfb7f8b19f"
   },
   "outputs": [
    {
     "name": "stdout",
     "output_type": "stream",
     "text": [
      "La longitud máxima de las historias clínicas es: 852 palabras.\n"
     ]
    }
   ],
   "source": [
    "# Calcular la longitud máxima de las historias clínicas en términos de número de palabras\n",
    "max_lenght = df[\"concatenada\"].apply(lambda x: len(x.split())).max()\n",
    "\n",
    "print(f\"La longitud máxima de las historias clínicas es: {max_lenght} palabras.\")"
   ]
  },
  {
   "cell_type": "code",
   "execution_count": 75,
   "id": "688c3164",
   "metadata": {
    "colab": {
     "base_uri": "https://localhost:8080/"
    },
    "executionInfo": {
     "elapsed": 11,
     "status": "ok",
     "timestamp": 1761346595658,
     "user": {
      "displayName": "Johan Sebastian Castellanos Avila",
      "userId": "11374531528507303616"
     },
     "user_tz": 300
    },
    "id": "688c3164",
    "outputId": "b5aac80a-5af6-4e9f-d639-2263327aa37d"
   },
   "outputs": [
    {
     "name": "stdout",
     "output_type": "stream",
     "text": [
      "<class 'pandas.core.frame.DataFrame'>\n",
      "RangeIndex: 5000 entries, 0 to 4999\n",
      "Data columns (total 9 columns):\n",
      " #   Column               Non-Null Count  Dtype \n",
      "---  ------               --------------  ----- \n",
      " 0   sexo                 5000 non-null   object\n",
      " 1   edad                 5000 non-null   int64 \n",
      " 2   grupo                5000 non-null   object\n",
      " 3   especialidad_medica  5000 non-null   object\n",
      " 4   subjetivo            4952 non-null   object\n",
      " 5   objetivo             4978 non-null   object\n",
      " 6   concatenada          5000 non-null   object\n",
      " 7   sexo_codificado      5000 non-null   int64 \n",
      " 8   grupo_codificado     5000 non-null   int64 \n",
      "dtypes: int64(3), object(6)\n",
      "memory usage: 351.7+ KB\n"
     ]
    }
   ],
   "source": [
    "df.info()"
   ]
  },
  {
   "cell_type": "code",
   "execution_count": 76,
   "id": "acd03ce6",
   "metadata": {
    "colab": {
     "base_uri": "https://localhost:8080/",
     "height": 883
    },
    "executionInfo": {
     "elapsed": 23,
     "status": "ok",
     "timestamp": 1761346595680,
     "user": {
      "displayName": "Johan Sebastian Castellanos Avila",
      "userId": "11374531528507303616"
     },
     "user_tz": 300
    },
    "id": "acd03ce6",
    "outputId": "62ddd547-aef5-486f-f053-f35d01ee6a47"
   },
   "outputs": [
    {
     "data": {
      "text/html": [
       "<div>\n",
       "<style scoped>\n",
       "    .dataframe tbody tr th:only-of-type {\n",
       "        vertical-align: middle;\n",
       "    }\n",
       "\n",
       "    .dataframe tbody tr th {\n",
       "        vertical-align: top;\n",
       "    }\n",
       "\n",
       "    .dataframe thead th {\n",
       "        text-align: right;\n",
       "    }\n",
       "</style>\n",
       "<table border=\"1\" class=\"dataframe\">\n",
       "  <thead>\n",
       "    <tr style=\"text-align: right;\">\n",
       "      <th></th>\n",
       "      <th>sexo</th>\n",
       "      <th>edad</th>\n",
       "      <th>grupo</th>\n",
       "      <th>especialidad_medica</th>\n",
       "      <th>subjetivo</th>\n",
       "      <th>objetivo</th>\n",
       "      <th>concatenada</th>\n",
       "      <th>sexo_codificado</th>\n",
       "      <th>grupo_codificado</th>\n",
       "    </tr>\n",
       "  </thead>\n",
       "  <tbody>\n",
       "    <tr>\n",
       "      <th>0</th>\n",
       "      <td>Masculino</td>\n",
       "      <td>16</td>\n",
       "      <td>T. de adaptación</td>\n",
       "      <td>PSICOLOGÍA</td>\n",
       "      <td>SEGUIMIENTO: La paciente refiere altibajos emo...</td>\n",
       "      <td>Paciente orientada en tiempo, lugar y persona,...</td>\n",
       "      <td>['seguimiento', 'altibajo', 'emocional', 'pone...</td>\n",
       "      <td>1</td>\n",
       "      <td>1</td>\n",
       "    </tr>\n",
       "    <tr>\n",
       "      <th>1</th>\n",
       "      <td>Femenino</td>\n",
       "      <td>36</td>\n",
       "      <td>T. de ansiedad</td>\n",
       "      <td>PSICOLOGÍA</td>\n",
       "      <td>\"mi mamá estuvo conmigo dos semanas, la verdad...</td>\n",
       "      <td>Paciente alerta, elocuente, colaboradora, con ...</td>\n",
       "      <td>['mam', 'semana', 'cosa', 'matrimonio', 'segui...</td>\n",
       "      <td>0</td>\n",
       "      <td>2</td>\n",
       "    </tr>\n",
       "    <tr>\n",
       "      <th>2</th>\n",
       "      <td>Femenino</td>\n",
       "      <td>37</td>\n",
       "      <td>T. depresivos</td>\n",
       "      <td>PSICOLOGÍA</td>\n",
       "      <td>Paciente refiere: \\n\"La semana pasada estuvo d...</td>\n",
       "      <td>Se realiza consulta de seguimiento por psicolo...</td>\n",
       "      <td>['semana', 'duro', 'pasar', 'cosa', 'man', 'ch...</td>\n",
       "      <td>0</td>\n",
       "      <td>3</td>\n",
       "    </tr>\n",
       "    <tr>\n",
       "      <th>3</th>\n",
       "      <td>Femenino</td>\n",
       "      <td>18</td>\n",
       "      <td>T. externalizantes</td>\n",
       "      <td>PSICOLOGÍA</td>\n",
       "      <td>Cita #2- 17/06/25\\n\\n\"Bien, ya en vacaciones, ...</td>\n",
       "      <td>Paciente alerta, orientada en las tres esferas...</td>\n",
       "      <td>['cita', 'vacación', 'logr', 'salvar', 'materi...</td>\n",
       "      <td>0</td>\n",
       "      <td>4</td>\n",
       "    </tr>\n",
       "    <tr>\n",
       "      <th>4</th>\n",
       "      <td>Femenino</td>\n",
       "      <td>65</td>\n",
       "      <td>Otros trastornos</td>\n",
       "      <td>PSICOLOGÍA</td>\n",
       "      <td>me he sentido muy triste, muy mal estos dias p...</td>\n",
       "      <td>Paciente quien evalúo por primera vez, con bas...</td>\n",
       "      <td>['sentido', 'triste', 'dar', 'esposo', 'person...</td>\n",
       "      <td>0</td>\n",
       "      <td>0</td>\n",
       "    </tr>\n",
       "    <tr>\n",
       "      <th>5</th>\n",
       "      <td>Femenino</td>\n",
       "      <td>34</td>\n",
       "      <td>T. de ansiedad</td>\n",
       "      <td>PSICOLOGÍA</td>\n",
       "      <td>Paciente refiere: \"He estado bien, aunque a ve...</td>\n",
       "      <td>Paciente alerta, colaboradora con apariencia o...</td>\n",
       "      <td>['sentir', 'depresin', 'poner', 'recordar', 'm...</td>\n",
       "      <td>0</td>\n",
       "      <td>2</td>\n",
       "    </tr>\n",
       "    <tr>\n",
       "      <th>6</th>\n",
       "      <td>Masculino</td>\n",
       "      <td>22</td>\n",
       "      <td>Otros trastornos</td>\n",
       "      <td>PSICOLOGÍA</td>\n",
       "      <td>SEGUIMIENTO: El paciente expresa \"bien, traté ...</td>\n",
       "      <td>Paciente quien evalúo por teleconsulta, se evi...</td>\n",
       "      <td>['seguimiento', 'expresar', 'trat', 'seguir', ...</td>\n",
       "      <td>1</td>\n",
       "      <td>0</td>\n",
       "    </tr>\n",
       "    <tr>\n",
       "      <th>7</th>\n",
       "      <td>Femenino</td>\n",
       "      <td>23</td>\n",
       "      <td>T. de ansiedad</td>\n",
       "      <td>PSICOLOGÍA</td>\n",
       "      <td>Paciente refiere:\\n\"Tuve cita con psiquiatría ...</td>\n",
       "      <td>Paciente alerta y consciente, orientada en per...</td>\n",
       "      <td>['refieretuve', 'cita', 'psiquiatra', 'mand', ...</td>\n",
       "      <td>0</td>\n",
       "      <td>2</td>\n",
       "    </tr>\n",
       "    <tr>\n",
       "      <th>8</th>\n",
       "      <td>Femenino</td>\n",
       "      <td>69</td>\n",
       "      <td>T. de ansiedad</td>\n",
       "      <td>PSICOLOGÍA</td>\n",
       "      <td>14/08/25- Cuarta cita\\n\\n\"Creo que un poquito ...</td>\n",
       "      <td>Paciente alerta, orientado en las tres esferas...</td>\n",
       "      <td>['cuarto', 'citacreo', 'poquito', 'quedar', 'e...</td>\n",
       "      <td>0</td>\n",
       "      <td>2</td>\n",
       "    </tr>\n",
       "    <tr>\n",
       "      <th>9</th>\n",
       "      <td>Femenino</td>\n",
       "      <td>86</td>\n",
       "      <td>T. depresivos</td>\n",
       "      <td>PSICOLOGÍA</td>\n",
       "      <td>La acompañante refiere: “mi abuela viene hace ...</td>\n",
       "      <td>Paciente orientada en tiempo, lugar y persona,...</td>\n",
       "      <td>['acompañante', 'abuela', 'venir', 'dar', 'dol...</td>\n",
       "      <td>0</td>\n",
       "      <td>3</td>\n",
       "    </tr>\n",
       "  </tbody>\n",
       "</table>\n",
       "</div>"
      ],
      "text/plain": [
       "        sexo  edad               grupo especialidad_medica  \\\n",
       "0  Masculino    16    T. de adaptación          PSICOLOGÍA   \n",
       "1   Femenino    36      T. de ansiedad          PSICOLOGÍA   \n",
       "2   Femenino    37       T. depresivos          PSICOLOGÍA   \n",
       "3   Femenino    18  T. externalizantes          PSICOLOGÍA   \n",
       "4   Femenino    65    Otros trastornos          PSICOLOGÍA   \n",
       "5   Femenino    34      T. de ansiedad          PSICOLOGÍA   \n",
       "6  Masculino    22    Otros trastornos          PSICOLOGÍA   \n",
       "7   Femenino    23      T. de ansiedad          PSICOLOGÍA   \n",
       "8   Femenino    69      T. de ansiedad          PSICOLOGÍA   \n",
       "9   Femenino    86       T. depresivos          PSICOLOGÍA   \n",
       "\n",
       "                                           subjetivo  \\\n",
       "0  SEGUIMIENTO: La paciente refiere altibajos emo...   \n",
       "1  \"mi mamá estuvo conmigo dos semanas, la verdad...   \n",
       "2  Paciente refiere: \\n\"La semana pasada estuvo d...   \n",
       "3  Cita #2- 17/06/25\\n\\n\"Bien, ya en vacaciones, ...   \n",
       "4  me he sentido muy triste, muy mal estos dias p...   \n",
       "5  Paciente refiere: \"He estado bien, aunque a ve...   \n",
       "6  SEGUIMIENTO: El paciente expresa \"bien, traté ...   \n",
       "7  Paciente refiere:\\n\"Tuve cita con psiquiatría ...   \n",
       "8  14/08/25- Cuarta cita\\n\\n\"Creo que un poquito ...   \n",
       "9  La acompañante refiere: “mi abuela viene hace ...   \n",
       "\n",
       "                                            objetivo  \\\n",
       "0  Paciente orientada en tiempo, lugar y persona,...   \n",
       "1  Paciente alerta, elocuente, colaboradora, con ...   \n",
       "2  Se realiza consulta de seguimiento por psicolo...   \n",
       "3  Paciente alerta, orientada en las tres esferas...   \n",
       "4  Paciente quien evalúo por primera vez, con bas...   \n",
       "5  Paciente alerta, colaboradora con apariencia o...   \n",
       "6  Paciente quien evalúo por teleconsulta, se evi...   \n",
       "7  Paciente alerta y consciente, orientada en per...   \n",
       "8  Paciente alerta, orientado en las tres esferas...   \n",
       "9  Paciente orientada en tiempo, lugar y persona,...   \n",
       "\n",
       "                                         concatenada  sexo_codificado  \\\n",
       "0  ['seguimiento', 'altibajo', 'emocional', 'pone...                1   \n",
       "1  ['mam', 'semana', 'cosa', 'matrimonio', 'segui...                0   \n",
       "2  ['semana', 'duro', 'pasar', 'cosa', 'man', 'ch...                0   \n",
       "3  ['cita', 'vacación', 'logr', 'salvar', 'materi...                0   \n",
       "4  ['sentido', 'triste', 'dar', 'esposo', 'person...                0   \n",
       "5  ['sentir', 'depresin', 'poner', 'recordar', 'm...                0   \n",
       "6  ['seguimiento', 'expresar', 'trat', 'seguir', ...                1   \n",
       "7  ['refieretuve', 'cita', 'psiquiatra', 'mand', ...                0   \n",
       "8  ['cuarto', 'citacreo', 'poquito', 'quedar', 'e...                0   \n",
       "9  ['acompañante', 'abuela', 'venir', 'dar', 'dol...                0   \n",
       "\n",
       "   grupo_codificado  \n",
       "0                 1  \n",
       "1                 2  \n",
       "2                 3  \n",
       "3                 4  \n",
       "4                 0  \n",
       "5                 2  \n",
       "6                 0  \n",
       "7                 2  \n",
       "8                 2  \n",
       "9                 3  "
      ]
     },
     "execution_count": 76,
     "metadata": {},
     "output_type": "execute_result"
    }
   ],
   "source": [
    "df.head(10)"
   ]
  },
  {
   "cell_type": "code",
   "execution_count": 77,
   "id": "4d007e36",
   "metadata": {
    "executionInfo": {
     "elapsed": 31,
     "status": "ok",
     "timestamp": 1761346595713,
     "user": {
      "displayName": "Johan Sebastian Castellanos Avila",
      "userId": "11374531528507303616"
     },
     "user_tz": 300
    },
    "id": "4d007e36"
   },
   "outputs": [],
   "source": [
    "# Removemos los corchetes\n",
    "df[\"concatenada\"] = df[\"concatenada\"].apply(lambda x: str(x).replace(\"[\",\"\").replace(\"]\",\"\"))\n",
    "\n",
    "# Removemos las comillas simples\n",
    "df[\"concatenada\"] = df[\"concatenada\"].apply(lambda x: str(x).replace(\"'\",\"\"))\n",
    "\n",
    "# Unimos las palabras separadas por comas\n",
    "df[\"concatenada\"] = df[\"concatenada\"].apply(lambda x: str(x).replace(\",\",\" \"))"
   ]
  },
  {
   "cell_type": "code",
   "execution_count": 78,
   "id": "67670eec",
   "metadata": {
    "colab": {
     "base_uri": "https://localhost:8080/",
     "height": 449
    },
    "executionInfo": {
     "elapsed": 34,
     "status": "ok",
     "timestamp": 1761346595742,
     "user": {
      "displayName": "Johan Sebastian Castellanos Avila",
      "userId": "11374531528507303616"
     },
     "user_tz": 300
    },
    "id": "67670eec",
    "outputId": "bd401cd0-68bd-4636-f535-82d80f464ef1"
   },
   "outputs": [
    {
     "data": {
      "text/html": [
       "<div>\n",
       "<style scoped>\n",
       "    .dataframe tbody tr th:only-of-type {\n",
       "        vertical-align: middle;\n",
       "    }\n",
       "\n",
       "    .dataframe tbody tr th {\n",
       "        vertical-align: top;\n",
       "    }\n",
       "\n",
       "    .dataframe thead th {\n",
       "        text-align: right;\n",
       "    }\n",
       "</style>\n",
       "<table border=\"1\" class=\"dataframe\">\n",
       "  <thead>\n",
       "    <tr style=\"text-align: right;\">\n",
       "      <th></th>\n",
       "      <th>sexo</th>\n",
       "      <th>edad</th>\n",
       "      <th>grupo</th>\n",
       "      <th>especialidad_medica</th>\n",
       "      <th>subjetivo</th>\n",
       "      <th>objetivo</th>\n",
       "      <th>concatenada</th>\n",
       "      <th>sexo_codificado</th>\n",
       "      <th>grupo_codificado</th>\n",
       "    </tr>\n",
       "  </thead>\n",
       "  <tbody>\n",
       "    <tr>\n",
       "      <th>0</th>\n",
       "      <td>Masculino</td>\n",
       "      <td>16</td>\n",
       "      <td>T. de adaptación</td>\n",
       "      <td>PSICOLOGÍA</td>\n",
       "      <td>SEGUIMIENTO: La paciente refiere altibajos emo...</td>\n",
       "      <td>Paciente orientada en tiempo, lugar y persona,...</td>\n",
       "      <td>seguimiento  altibajo  emocional  poner  escri...</td>\n",
       "      <td>1</td>\n",
       "      <td>1</td>\n",
       "    </tr>\n",
       "    <tr>\n",
       "      <th>1</th>\n",
       "      <td>Femenino</td>\n",
       "      <td>36</td>\n",
       "      <td>T. de ansiedad</td>\n",
       "      <td>PSICOLOGÍA</td>\n",
       "      <td>\"mi mamá estuvo conmigo dos semanas, la verdad...</td>\n",
       "      <td>Paciente alerta, elocuente, colaboradora, con ...</td>\n",
       "      <td>mam  semana  cosa  matrimonio  seguir  sentir ...</td>\n",
       "      <td>0</td>\n",
       "      <td>2</td>\n",
       "    </tr>\n",
       "    <tr>\n",
       "      <th>2</th>\n",
       "      <td>Femenino</td>\n",
       "      <td>37</td>\n",
       "      <td>T. depresivos</td>\n",
       "      <td>PSICOLOGÍA</td>\n",
       "      <td>Paciente refiere: \\n\"La semana pasada estuvo d...</td>\n",
       "      <td>Se realiza consulta de seguimiento por psicolo...</td>\n",
       "      <td>semana  duro  pasar  cosa  man  charlar  poda ...</td>\n",
       "      <td>0</td>\n",
       "      <td>3</td>\n",
       "    </tr>\n",
       "    <tr>\n",
       "      <th>3</th>\n",
       "      <td>Femenino</td>\n",
       "      <td>18</td>\n",
       "      <td>T. externalizantes</td>\n",
       "      <td>PSICOLOGÍA</td>\n",
       "      <td>Cita #2- 17/06/25\\n\\n\"Bien, ya en vacaciones, ...</td>\n",
       "      <td>Paciente alerta, orientada en las tres esferas...</td>\n",
       "      <td>cita  vacación  logr  salvar  materia  tenar  ...</td>\n",
       "      <td>0</td>\n",
       "      <td>4</td>\n",
       "    </tr>\n",
       "    <tr>\n",
       "      <th>4</th>\n",
       "      <td>Femenino</td>\n",
       "      <td>65</td>\n",
       "      <td>Otros trastornos</td>\n",
       "      <td>PSICOLOGÍA</td>\n",
       "      <td>me he sentido muy triste, muy mal estos dias p...</td>\n",
       "      <td>Paciente quien evalúo por primera vez, con bas...</td>\n",
       "      <td>sentido  triste  dar  esposo  persona  tiempo ...</td>\n",
       "      <td>0</td>\n",
       "      <td>0</td>\n",
       "    </tr>\n",
       "  </tbody>\n",
       "</table>\n",
       "</div>"
      ],
      "text/plain": [
       "        sexo  edad               grupo especialidad_medica  \\\n",
       "0  Masculino    16    T. de adaptación          PSICOLOGÍA   \n",
       "1   Femenino    36      T. de ansiedad          PSICOLOGÍA   \n",
       "2   Femenino    37       T. depresivos          PSICOLOGÍA   \n",
       "3   Femenino    18  T. externalizantes          PSICOLOGÍA   \n",
       "4   Femenino    65    Otros trastornos          PSICOLOGÍA   \n",
       "\n",
       "                                           subjetivo  \\\n",
       "0  SEGUIMIENTO: La paciente refiere altibajos emo...   \n",
       "1  \"mi mamá estuvo conmigo dos semanas, la verdad...   \n",
       "2  Paciente refiere: \\n\"La semana pasada estuvo d...   \n",
       "3  Cita #2- 17/06/25\\n\\n\"Bien, ya en vacaciones, ...   \n",
       "4  me he sentido muy triste, muy mal estos dias p...   \n",
       "\n",
       "                                            objetivo  \\\n",
       "0  Paciente orientada en tiempo, lugar y persona,...   \n",
       "1  Paciente alerta, elocuente, colaboradora, con ...   \n",
       "2  Se realiza consulta de seguimiento por psicolo...   \n",
       "3  Paciente alerta, orientada en las tres esferas...   \n",
       "4  Paciente quien evalúo por primera vez, con bas...   \n",
       "\n",
       "                                         concatenada  sexo_codificado  \\\n",
       "0  seguimiento  altibajo  emocional  poner  escri...                1   \n",
       "1  mam  semana  cosa  matrimonio  seguir  sentir ...                0   \n",
       "2  semana  duro  pasar  cosa  man  charlar  poda ...                0   \n",
       "3  cita  vacación  logr  salvar  materia  tenar  ...                0   \n",
       "4  sentido  triste  dar  esposo  persona  tiempo ...                0   \n",
       "\n",
       "   grupo_codificado  \n",
       "0                 1  \n",
       "1                 2  \n",
       "2                 3  \n",
       "3                 4  \n",
       "4                 0  "
      ]
     },
     "execution_count": 78,
     "metadata": {},
     "output_type": "execute_result"
    }
   ],
   "source": [
    "df.head()"
   ]
  },
  {
   "cell_type": "code",
   "execution_count": 79,
   "id": "b8ec03ec",
   "metadata": {
    "colab": {
     "base_uri": "https://localhost:8080/"
    },
    "executionInfo": {
     "elapsed": 1474,
     "status": "ok",
     "timestamp": 1761346597245,
     "user": {
      "displayName": "Johan Sebastian Castellanos Avila",
      "userId": "11374531528507303616"
     },
     "user_tz": 300
    },
    "id": "b8ec03ec",
    "outputId": "3544752d-647f-46fe-a930-284f1f57a856"
   },
   "outputs": [
    {
     "name": "stdout",
     "output_type": "stream",
     "text": [
      "Tokenizer cargado: bert-base-multilingual-cased\n",
      "Versión de transformers: 4.57.1\n"
     ]
    }
   ],
   "source": [
    "# ====== TOKENIZACIÓN ======\n",
    "\n",
    "from transformers import BertTokenizer, BertModel\n",
    "\n",
    "PRE_TRAINED_MODEL_NAME = MODEL_CONFIG['pre_trained_model']\n",
    "tokenizer = BertTokenizer.from_pretrained(PRE_TRAINED_MODEL_NAME)\n",
    "\n",
    "print(f\"Tokenizer cargado: {PRE_TRAINED_MODEL_NAME}\")\n",
    "\n",
    "# Actualizar información de versiones\n",
    "import transformers\n",
    "code_version = get_code_version()\n",
    "code_version['transformers_version'] = transformers.__version__\n",
    "\n",
    "print(f\"Versión de transformers: {transformers.__version__}\")"
   ]
  },
  {
   "cell_type": "code",
   "execution_count": 80,
   "id": "f5bc9d24",
   "metadata": {
    "colab": {
     "base_uri": "https://localhost:8080/"
    },
    "executionInfo": {
     "elapsed": 25,
     "status": "ok",
     "timestamp": 1761346597272,
     "user": {
      "displayName": "Johan Sebastian Castellanos Avila",
      "userId": "11374531528507303616"
     },
     "user_tz": 300
    },
    "id": "f5bc9d24",
    "outputId": "2e68eace-e04f-40e8-d7a3-8f9c0e55ead3"
   },
   "outputs": [
    {
     "name": "stdout",
     "output_type": "stream",
     "text": [
      "Texto original: Hola soy un texto de ejemplo para la tokenización.\n",
      "Tokens: ['Ho', '##la', 'soy', 'un', 'texto', 'de', 'ejemplo', 'para', 'la', 'tok', '##eni', '##zación', '.']\n",
      "IDs de tokens: [20220, 10330, 103559, 10119, 27888, 10104, 20223, 10220, 10109, 18436, 18687, 23700, 119]\n"
     ]
    }
   ],
   "source": [
    "# Ejemplos de tokenización\n",
    "\n",
    "sample_text = \"Hola soy un texto de ejemplo para la tokenización.\"\n",
    "tokens = tokenizer.tokenize(sample_text)\n",
    "tokens_ids = tokenizer.convert_tokens_to_ids(tokens)\n",
    "print(f\"Texto original: {sample_text}\")\n",
    "print(f\"Tokens: {tokens}\")\n",
    "print(f\"IDs de tokens: {tokens_ids}\")"
   ]
  },
  {
   "cell_type": "code",
   "execution_count": 81,
   "id": "40261280",
   "metadata": {
    "colab": {
     "base_uri": "https://localhost:8080/"
    },
    "executionInfo": {
     "elapsed": 62,
     "status": "ok",
     "timestamp": 1761346597336,
     "user": {
      "displayName": "Johan Sebastian Castellanos Avila",
      "userId": "11374531528507303616"
     },
     "user_tz": 300
    },
    "id": "40261280",
    "outputId": "f7b28cdf-30a5-4f8b-f86e-d2faef65d774"
   },
   "outputs": [
    {
     "name": "stdout",
     "output_type": "stream",
     "text": [
      "2.9.0+cu128\n",
      "True\n"
     ]
    }
   ],
   "source": [
    "import torch\n",
    "print(torch.__version__)\n",
    "print(torch.cuda.is_available())"
   ]
  },
  {
   "cell_type": "code",
   "execution_count": 82,
   "id": "ababcc13",
   "metadata": {
    "executionInfo": {
     "elapsed": 12,
     "status": "ok",
     "timestamp": 1761346597351,
     "user": {
      "displayName": "Johan Sebastian Castellanos Avila",
      "userId": "11374531528507303616"
     },
     "user_tz": 300
    },
    "id": "ababcc13"
   },
   "outputs": [],
   "source": [
    "# Instala PyTorch si no está instalado\n",
    "\n",
    "# Codificacion para introducir a BERT\n",
    "\n",
    "encoding = tokenizer.encode_plus(\n",
    "    sample_text,\n",
    "    add_special_tokens=True,\n",
    "    max_length=MAX_LEN,\n",
    "    return_token_type_ids=False,\n",
    "    padding=\"max_length\",\n",
    "    truncation=True,\n",
    "    return_attention_mask=True,\n",
    "    return_tensors=\"pt\",\n",
    ")"
   ]
  },
  {
   "cell_type": "code",
   "execution_count": 83,
   "id": "10d13546",
   "metadata": {
    "colab": {
     "base_uri": "https://localhost:8080/"
    },
    "executionInfo": {
     "elapsed": 13,
     "status": "ok",
     "timestamp": 1761346597354,
     "user": {
      "displayName": "Johan Sebastian Castellanos Avila",
      "userId": "11374531528507303616"
     },
     "user_tz": 300
    },
    "id": "10d13546",
    "outputId": "4bf63723-07e2-4dc0-8076-0c1e496e53c4"
   },
   "outputs": [
    {
     "data": {
      "text/plain": [
       "KeysView({'input_ids': tensor([[   101,  20220,  10330, 103559,  10119,  27888,  10104,  20223,  10220,\n",
       "          10109,  18436,  18687,  23700,    119,    102,      0,      0,      0,\n",
       "              0,      0,      0,      0,      0,      0,      0,      0,      0,\n",
       "              0,      0,      0,      0,      0,      0,      0,      0,      0,\n",
       "              0,      0,      0,      0,      0,      0,      0,      0,      0,\n",
       "              0,      0,      0,      0,      0,      0,      0,      0,      0,\n",
       "              0,      0,      0,      0,      0,      0,      0,      0,      0,\n",
       "              0,      0,      0,      0,      0,      0,      0,      0,      0,\n",
       "              0,      0,      0,      0,      0,      0,      0,      0,      0,\n",
       "              0,      0,      0,      0,      0,      0,      0,      0,      0,\n",
       "              0,      0,      0,      0,      0,      0,      0,      0,      0,\n",
       "              0,      0,      0,      0,      0,      0,      0,      0,      0,\n",
       "              0,      0,      0,      0,      0,      0,      0,      0,      0,\n",
       "              0,      0,      0,      0,      0,      0,      0,      0,      0,\n",
       "              0,      0,      0,      0,      0,      0,      0,      0,      0,\n",
       "              0,      0,      0,      0,      0,      0,      0,      0,      0,\n",
       "              0,      0,      0,      0,      0,      0,      0,      0,      0,\n",
       "              0,      0,      0,      0,      0,      0,      0,      0,      0,\n",
       "              0,      0,      0,      0,      0,      0,      0,      0,      0,\n",
       "              0,      0,      0,      0,      0,      0,      0,      0,      0,\n",
       "              0,      0,      0,      0,      0,      0,      0,      0,      0,\n",
       "              0,      0,      0,      0,      0,      0,      0,      0,      0,\n",
       "              0,      0,      0,      0,      0,      0,      0,      0,      0,\n",
       "              0,      0,      0,      0,      0,      0,      0,      0,      0,\n",
       "              0,      0,      0,      0,      0,      0,      0,      0,      0,\n",
       "              0,      0,      0,      0,      0,      0,      0,      0,      0,\n",
       "              0,      0,      0,      0,      0,      0,      0,      0,      0,\n",
       "              0,      0,      0,      0,      0,      0,      0,      0,      0,\n",
       "              0,      0,      0,      0,      0,      0,      0,      0,      0,\n",
       "              0,      0,      0,      0,      0,      0,      0,      0,      0,\n",
       "              0,      0,      0,      0,      0,      0,      0,      0,      0,\n",
       "              0,      0,      0,      0,      0,      0,      0,      0,      0,\n",
       "              0,      0,      0,      0,      0,      0,      0,      0,      0,\n",
       "              0,      0,      0,      0,      0,      0,      0,      0,      0,\n",
       "              0,      0,      0,      0,      0,      0,      0,      0,      0,\n",
       "              0,      0,      0,      0,      0,      0,      0,      0,      0,\n",
       "              0,      0,      0,      0,      0,      0,      0,      0,      0,\n",
       "              0,      0,      0,      0,      0,      0,      0,      0,      0,\n",
       "              0,      0,      0,      0,      0,      0,      0,      0,      0,\n",
       "              0,      0,      0,      0,      0,      0,      0,      0,      0,\n",
       "              0,      0,      0,      0,      0,      0,      0,      0,      0,\n",
       "              0,      0,      0,      0,      0,      0,      0,      0,      0,\n",
       "              0,      0,      0,      0,      0,      0,      0,      0,      0,\n",
       "              0,      0,      0,      0,      0,      0,      0,      0,      0,\n",
       "              0,      0,      0,      0,      0,      0,      0,      0,      0,\n",
       "              0,      0,      0,      0,      0,      0,      0,      0,      0,\n",
       "              0,      0,      0,      0,      0,      0,      0,      0,      0,\n",
       "              0,      0,      0,      0,      0,      0,      0,      0,      0,\n",
       "              0,      0,      0,      0,      0,      0,      0,      0,      0,\n",
       "              0,      0,      0,      0,      0,      0,      0,      0,      0,\n",
       "              0,      0,      0,      0,      0,      0,      0,      0,      0,\n",
       "              0,      0,      0,      0,      0,      0,      0,      0,      0,\n",
       "              0,      0,      0,      0,      0,      0,      0,      0,      0,\n",
       "              0,      0,      0,      0,      0,      0,      0,      0,      0,\n",
       "              0,      0,      0,      0,      0,      0,      0,      0,      0,\n",
       "              0,      0,      0,      0,      0]]), 'attention_mask': tensor([[1, 1, 1, 1, 1, 1, 1, 1, 1, 1, 1, 1, 1, 1, 1, 0, 0, 0, 0, 0, 0, 0, 0, 0,\n",
       "         0, 0, 0, 0, 0, 0, 0, 0, 0, 0, 0, 0, 0, 0, 0, 0, 0, 0, 0, 0, 0, 0, 0, 0,\n",
       "         0, 0, 0, 0, 0, 0, 0, 0, 0, 0, 0, 0, 0, 0, 0, 0, 0, 0, 0, 0, 0, 0, 0, 0,\n",
       "         0, 0, 0, 0, 0, 0, 0, 0, 0, 0, 0, 0, 0, 0, 0, 0, 0, 0, 0, 0, 0, 0, 0, 0,\n",
       "         0, 0, 0, 0, 0, 0, 0, 0, 0, 0, 0, 0, 0, 0, 0, 0, 0, 0, 0, 0, 0, 0, 0, 0,\n",
       "         0, 0, 0, 0, 0, 0, 0, 0, 0, 0, 0, 0, 0, 0, 0, 0, 0, 0, 0, 0, 0, 0, 0, 0,\n",
       "         0, 0, 0, 0, 0, 0, 0, 0, 0, 0, 0, 0, 0, 0, 0, 0, 0, 0, 0, 0, 0, 0, 0, 0,\n",
       "         0, 0, 0, 0, 0, 0, 0, 0, 0, 0, 0, 0, 0, 0, 0, 0, 0, 0, 0, 0, 0, 0, 0, 0,\n",
       "         0, 0, 0, 0, 0, 0, 0, 0, 0, 0, 0, 0, 0, 0, 0, 0, 0, 0, 0, 0, 0, 0, 0, 0,\n",
       "         0, 0, 0, 0, 0, 0, 0, 0, 0, 0, 0, 0, 0, 0, 0, 0, 0, 0, 0, 0, 0, 0, 0, 0,\n",
       "         0, 0, 0, 0, 0, 0, 0, 0, 0, 0, 0, 0, 0, 0, 0, 0, 0, 0, 0, 0, 0, 0, 0, 0,\n",
       "         0, 0, 0, 0, 0, 0, 0, 0, 0, 0, 0, 0, 0, 0, 0, 0, 0, 0, 0, 0, 0, 0, 0, 0,\n",
       "         0, 0, 0, 0, 0, 0, 0, 0, 0, 0, 0, 0, 0, 0, 0, 0, 0, 0, 0, 0, 0, 0, 0, 0,\n",
       "         0, 0, 0, 0, 0, 0, 0, 0, 0, 0, 0, 0, 0, 0, 0, 0, 0, 0, 0, 0, 0, 0, 0, 0,\n",
       "         0, 0, 0, 0, 0, 0, 0, 0, 0, 0, 0, 0, 0, 0, 0, 0, 0, 0, 0, 0, 0, 0, 0, 0,\n",
       "         0, 0, 0, 0, 0, 0, 0, 0, 0, 0, 0, 0, 0, 0, 0, 0, 0, 0, 0, 0, 0, 0, 0, 0,\n",
       "         0, 0, 0, 0, 0, 0, 0, 0, 0, 0, 0, 0, 0, 0, 0, 0, 0, 0, 0, 0, 0, 0, 0, 0,\n",
       "         0, 0, 0, 0, 0, 0, 0, 0, 0, 0, 0, 0, 0, 0, 0, 0, 0, 0, 0, 0, 0, 0, 0, 0,\n",
       "         0, 0, 0, 0, 0, 0, 0, 0, 0, 0, 0, 0, 0, 0, 0, 0, 0, 0, 0, 0, 0, 0, 0, 0,\n",
       "         0, 0, 0, 0, 0, 0, 0, 0, 0, 0, 0, 0, 0, 0, 0, 0, 0, 0, 0, 0, 0, 0, 0, 0,\n",
       "         0, 0, 0, 0, 0, 0, 0, 0, 0, 0, 0, 0, 0, 0, 0, 0, 0, 0, 0, 0]])})"
      ]
     },
     "execution_count": 83,
     "metadata": {},
     "output_type": "execute_result"
    }
   ],
   "source": [
    "encoding.keys()"
   ]
  },
  {
   "cell_type": "code",
   "execution_count": 84,
   "id": "b4c52761",
   "metadata": {
    "colab": {
     "base_uri": "https://localhost:8080/"
    },
    "executionInfo": {
     "elapsed": 13,
     "status": "ok",
     "timestamp": 1761346597366,
     "user": {
      "displayName": "Johan Sebastian Castellanos Avila",
      "userId": "11374531528507303616"
     },
     "user_tz": 300
    },
    "id": "b4c52761",
    "outputId": "fb8aed07-2bb9-4148-f02f-ee76913ed300"
   },
   "outputs": [
    {
     "name": "stdout",
     "output_type": "stream",
     "text": [
      "['[CLS]', 'Ho', '##la', 'soy', 'un', 'texto', 'de', 'ejemplo', 'para', 'la', 'tok', '##eni', '##zación', '.', '[SEP]', '[PAD]', '[PAD]', '[PAD]', '[PAD]', '[PAD]', '[PAD]', '[PAD]', '[PAD]', '[PAD]', '[PAD]', '[PAD]', '[PAD]', '[PAD]', '[PAD]', '[PAD]', '[PAD]', '[PAD]', '[PAD]', '[PAD]', '[PAD]', '[PAD]', '[PAD]', '[PAD]', '[PAD]', '[PAD]', '[PAD]', '[PAD]', '[PAD]', '[PAD]', '[PAD]', '[PAD]', '[PAD]', '[PAD]', '[PAD]', '[PAD]', '[PAD]', '[PAD]', '[PAD]', '[PAD]', '[PAD]', '[PAD]', '[PAD]', '[PAD]', '[PAD]', '[PAD]', '[PAD]', '[PAD]', '[PAD]', '[PAD]', '[PAD]', '[PAD]', '[PAD]', '[PAD]', '[PAD]', '[PAD]', '[PAD]', '[PAD]', '[PAD]', '[PAD]', '[PAD]', '[PAD]', '[PAD]', '[PAD]', '[PAD]', '[PAD]', '[PAD]', '[PAD]', '[PAD]', '[PAD]', '[PAD]', '[PAD]', '[PAD]', '[PAD]', '[PAD]', '[PAD]', '[PAD]', '[PAD]', '[PAD]', '[PAD]', '[PAD]', '[PAD]', '[PAD]', '[PAD]', '[PAD]', '[PAD]', '[PAD]', '[PAD]', '[PAD]', '[PAD]', '[PAD]', '[PAD]', '[PAD]', '[PAD]', '[PAD]', '[PAD]', '[PAD]', '[PAD]', '[PAD]', '[PAD]', '[PAD]', '[PAD]', '[PAD]', '[PAD]', '[PAD]', '[PAD]', '[PAD]', '[PAD]', '[PAD]', '[PAD]', '[PAD]', '[PAD]', '[PAD]', '[PAD]', '[PAD]', '[PAD]', '[PAD]', '[PAD]', '[PAD]', '[PAD]', '[PAD]', '[PAD]', '[PAD]', '[PAD]', '[PAD]', '[PAD]', '[PAD]', '[PAD]', '[PAD]', '[PAD]', '[PAD]', '[PAD]', '[PAD]', '[PAD]', '[PAD]', '[PAD]', '[PAD]', '[PAD]', '[PAD]', '[PAD]', '[PAD]', '[PAD]', '[PAD]', '[PAD]', '[PAD]', '[PAD]', '[PAD]', '[PAD]', '[PAD]', '[PAD]', '[PAD]', '[PAD]', '[PAD]', '[PAD]', '[PAD]', '[PAD]', '[PAD]', '[PAD]', '[PAD]', '[PAD]', '[PAD]', '[PAD]', '[PAD]', '[PAD]', '[PAD]', '[PAD]', '[PAD]', '[PAD]', '[PAD]', '[PAD]', '[PAD]', '[PAD]', '[PAD]', '[PAD]', '[PAD]', '[PAD]', '[PAD]', '[PAD]', '[PAD]', '[PAD]', '[PAD]', '[PAD]', '[PAD]', '[PAD]', '[PAD]', '[PAD]', '[PAD]', '[PAD]', '[PAD]', '[PAD]', '[PAD]', '[PAD]', '[PAD]', '[PAD]', '[PAD]', '[PAD]', '[PAD]', '[PAD]', '[PAD]', '[PAD]', '[PAD]', '[PAD]', '[PAD]', '[PAD]', '[PAD]', '[PAD]', '[PAD]', '[PAD]', '[PAD]', '[PAD]', '[PAD]', '[PAD]', '[PAD]', '[PAD]', '[PAD]', '[PAD]', '[PAD]', '[PAD]', '[PAD]', '[PAD]', '[PAD]', '[PAD]', '[PAD]', '[PAD]', '[PAD]', '[PAD]', '[PAD]', '[PAD]', '[PAD]', '[PAD]', '[PAD]', '[PAD]', '[PAD]', '[PAD]', '[PAD]', '[PAD]', '[PAD]', '[PAD]', '[PAD]', '[PAD]', '[PAD]', '[PAD]', '[PAD]', '[PAD]', '[PAD]', '[PAD]', '[PAD]', '[PAD]', '[PAD]', '[PAD]', '[PAD]', '[PAD]', '[PAD]', '[PAD]', '[PAD]', '[PAD]', '[PAD]', '[PAD]', '[PAD]', '[PAD]', '[PAD]', '[PAD]', '[PAD]', '[PAD]', '[PAD]', '[PAD]', '[PAD]', '[PAD]', '[PAD]', '[PAD]', '[PAD]', '[PAD]', '[PAD]', '[PAD]', '[PAD]', '[PAD]', '[PAD]', '[PAD]', '[PAD]', '[PAD]', '[PAD]', '[PAD]', '[PAD]', '[PAD]', '[PAD]', '[PAD]', '[PAD]', '[PAD]', '[PAD]', '[PAD]', '[PAD]', '[PAD]', '[PAD]', '[PAD]', '[PAD]', '[PAD]', '[PAD]', '[PAD]', '[PAD]', '[PAD]', '[PAD]', '[PAD]', '[PAD]', '[PAD]', '[PAD]', '[PAD]', '[PAD]', '[PAD]', '[PAD]', '[PAD]', '[PAD]', '[PAD]', '[PAD]', '[PAD]', '[PAD]', '[PAD]', '[PAD]', '[PAD]', '[PAD]', '[PAD]', '[PAD]', '[PAD]', '[PAD]', '[PAD]', '[PAD]', '[PAD]', '[PAD]', '[PAD]', '[PAD]', '[PAD]', '[PAD]', '[PAD]', '[PAD]', '[PAD]', '[PAD]', '[PAD]', '[PAD]', '[PAD]', '[PAD]', '[PAD]', '[PAD]', '[PAD]', '[PAD]', '[PAD]', '[PAD]', '[PAD]', '[PAD]', '[PAD]', '[PAD]', '[PAD]', '[PAD]', '[PAD]', '[PAD]', '[PAD]', '[PAD]', '[PAD]', '[PAD]', '[PAD]', '[PAD]', '[PAD]', '[PAD]', '[PAD]', '[PAD]', '[PAD]', '[PAD]', '[PAD]', '[PAD]', '[PAD]', '[PAD]', '[PAD]', '[PAD]', '[PAD]', '[PAD]', '[PAD]', '[PAD]', '[PAD]', '[PAD]', '[PAD]', '[PAD]', '[PAD]', '[PAD]', '[PAD]', '[PAD]', '[PAD]', '[PAD]', '[PAD]', '[PAD]', '[PAD]', '[PAD]', '[PAD]', '[PAD]', '[PAD]', '[PAD]', '[PAD]', '[PAD]', '[PAD]', '[PAD]', '[PAD]', '[PAD]', '[PAD]', '[PAD]', '[PAD]', '[PAD]', '[PAD]', '[PAD]', '[PAD]', '[PAD]', '[PAD]', '[PAD]', '[PAD]', '[PAD]', '[PAD]', '[PAD]', '[PAD]', '[PAD]', '[PAD]', '[PAD]', '[PAD]', '[PAD]', '[PAD]', '[PAD]', '[PAD]', '[PAD]', '[PAD]', '[PAD]', '[PAD]', '[PAD]', '[PAD]', '[PAD]', '[PAD]', '[PAD]', '[PAD]', '[PAD]', '[PAD]', '[PAD]', '[PAD]', '[PAD]', '[PAD]', '[PAD]', '[PAD]', '[PAD]', '[PAD]', '[PAD]', '[PAD]', '[PAD]', '[PAD]', '[PAD]', '[PAD]', '[PAD]', '[PAD]', '[PAD]', '[PAD]', '[PAD]', '[PAD]', '[PAD]', '[PAD]', '[PAD]', '[PAD]', '[PAD]', '[PAD]', '[PAD]', '[PAD]', '[PAD]', '[PAD]', '[PAD]', '[PAD]', '[PAD]', '[PAD]', '[PAD]', '[PAD]', '[PAD]', '[PAD]', '[PAD]', '[PAD]', '[PAD]', '[PAD]', '[PAD]', '[PAD]', '[PAD]', '[PAD]', '[PAD]', '[PAD]', '[PAD]', '[PAD]', '[PAD]', '[PAD]']\n",
      "tensor([   101,  20220,  10330, 103559,  10119,  27888,  10104,  20223,  10220,\n",
      "         10109,  18436,  18687,  23700,    119,    102,      0,      0,      0,\n",
      "             0,      0,      0,      0,      0,      0,      0,      0,      0,\n",
      "             0,      0,      0,      0,      0,      0,      0,      0,      0,\n",
      "             0,      0,      0,      0,      0,      0,      0,      0,      0,\n",
      "             0,      0,      0,      0,      0,      0,      0,      0,      0,\n",
      "             0,      0,      0,      0,      0,      0,      0,      0,      0,\n",
      "             0,      0,      0,      0,      0,      0,      0,      0,      0,\n",
      "             0,      0,      0,      0,      0,      0,      0,      0,      0,\n",
      "             0,      0,      0,      0,      0,      0,      0,      0,      0,\n",
      "             0,      0,      0,      0,      0,      0,      0,      0,      0,\n",
      "             0,      0,      0,      0,      0,      0,      0,      0,      0,\n",
      "             0,      0,      0,      0,      0,      0,      0,      0,      0,\n",
      "             0,      0,      0,      0,      0,      0,      0,      0,      0,\n",
      "             0,      0,      0,      0,      0,      0,      0,      0,      0,\n",
      "             0,      0,      0,      0,      0,      0,      0,      0,      0,\n",
      "             0,      0,      0,      0,      0,      0,      0,      0,      0,\n",
      "             0,      0,      0,      0,      0,      0,      0,      0,      0,\n",
      "             0,      0,      0,      0,      0,      0,      0,      0,      0,\n",
      "             0,      0,      0,      0,      0,      0,      0,      0,      0,\n",
      "             0,      0,      0,      0,      0,      0,      0,      0,      0,\n",
      "             0,      0,      0,      0,      0,      0,      0,      0,      0,\n",
      "             0,      0,      0,      0,      0,      0,      0,      0,      0,\n",
      "             0,      0,      0,      0,      0,      0,      0,      0,      0,\n",
      "             0,      0,      0,      0,      0,      0,      0,      0,      0,\n",
      "             0,      0,      0,      0,      0,      0,      0,      0,      0,\n",
      "             0,      0,      0,      0,      0,      0,      0,      0,      0,\n",
      "             0,      0,      0,      0,      0,      0,      0,      0,      0,\n",
      "             0,      0,      0,      0,      0,      0,      0,      0,      0,\n",
      "             0,      0,      0,      0,      0,      0,      0,      0,      0,\n",
      "             0,      0,      0,      0,      0,      0,      0,      0,      0,\n",
      "             0,      0,      0,      0,      0,      0,      0,      0,      0,\n",
      "             0,      0,      0,      0,      0,      0,      0,      0,      0,\n",
      "             0,      0,      0,      0,      0,      0,      0,      0,      0,\n",
      "             0,      0,      0,      0,      0,      0,      0,      0,      0,\n",
      "             0,      0,      0,      0,      0,      0,      0,      0,      0,\n",
      "             0,      0,      0,      0,      0,      0,      0,      0,      0,\n",
      "             0,      0,      0,      0,      0,      0,      0,      0,      0,\n",
      "             0,      0,      0,      0,      0,      0,      0,      0,      0,\n",
      "             0,      0,      0,      0,      0,      0,      0,      0,      0,\n",
      "             0,      0,      0,      0,      0,      0,      0,      0,      0,\n",
      "             0,      0,      0,      0,      0,      0,      0,      0,      0,\n",
      "             0,      0,      0,      0,      0,      0,      0,      0,      0,\n",
      "             0,      0,      0,      0,      0,      0,      0,      0,      0,\n",
      "             0,      0,      0,      0,      0,      0,      0,      0,      0,\n",
      "             0,      0,      0,      0,      0,      0,      0,      0,      0,\n",
      "             0,      0,      0,      0,      0,      0,      0,      0,      0,\n",
      "             0,      0,      0,      0,      0,      0,      0,      0,      0,\n",
      "             0,      0,      0,      0,      0,      0,      0,      0,      0,\n",
      "             0,      0,      0,      0,      0,      0,      0,      0,      0,\n",
      "             0,      0,      0,      0,      0,      0,      0,      0,      0,\n",
      "             0,      0,      0,      0,      0,      0,      0,      0,      0,\n",
      "             0,      0,      0,      0,      0,      0,      0,      0,      0,\n",
      "             0,      0,      0,      0,      0,      0,      0,      0,      0,\n",
      "             0,      0,      0,      0,      0,      0,      0,      0,      0,\n",
      "             0,      0,      0,      0,      0])\n",
      "tensor([1, 1, 1, 1, 1, 1, 1, 1, 1, 1, 1, 1, 1, 1, 1, 0, 0, 0, 0, 0, 0, 0, 0, 0,\n",
      "        0, 0, 0, 0, 0, 0, 0, 0, 0, 0, 0, 0, 0, 0, 0, 0, 0, 0, 0, 0, 0, 0, 0, 0,\n",
      "        0, 0, 0, 0, 0, 0, 0, 0, 0, 0, 0, 0, 0, 0, 0, 0, 0, 0, 0, 0, 0, 0, 0, 0,\n",
      "        0, 0, 0, 0, 0, 0, 0, 0, 0, 0, 0, 0, 0, 0, 0, 0, 0, 0, 0, 0, 0, 0, 0, 0,\n",
      "        0, 0, 0, 0, 0, 0, 0, 0, 0, 0, 0, 0, 0, 0, 0, 0, 0, 0, 0, 0, 0, 0, 0, 0,\n",
      "        0, 0, 0, 0, 0, 0, 0, 0, 0, 0, 0, 0, 0, 0, 0, 0, 0, 0, 0, 0, 0, 0, 0, 0,\n",
      "        0, 0, 0, 0, 0, 0, 0, 0, 0, 0, 0, 0, 0, 0, 0, 0, 0, 0, 0, 0, 0, 0, 0, 0,\n",
      "        0, 0, 0, 0, 0, 0, 0, 0, 0, 0, 0, 0, 0, 0, 0, 0, 0, 0, 0, 0, 0, 0, 0, 0,\n",
      "        0, 0, 0, 0, 0, 0, 0, 0, 0, 0, 0, 0, 0, 0, 0, 0, 0, 0, 0, 0, 0, 0, 0, 0,\n",
      "        0, 0, 0, 0, 0, 0, 0, 0, 0, 0, 0, 0, 0, 0, 0, 0, 0, 0, 0, 0, 0, 0, 0, 0,\n",
      "        0, 0, 0, 0, 0, 0, 0, 0, 0, 0, 0, 0, 0, 0, 0, 0, 0, 0, 0, 0, 0, 0, 0, 0,\n",
      "        0, 0, 0, 0, 0, 0, 0, 0, 0, 0, 0, 0, 0, 0, 0, 0, 0, 0, 0, 0, 0, 0, 0, 0,\n",
      "        0, 0, 0, 0, 0, 0, 0, 0, 0, 0, 0, 0, 0, 0, 0, 0, 0, 0, 0, 0, 0, 0, 0, 0,\n",
      "        0, 0, 0, 0, 0, 0, 0, 0, 0, 0, 0, 0, 0, 0, 0, 0, 0, 0, 0, 0, 0, 0, 0, 0,\n",
      "        0, 0, 0, 0, 0, 0, 0, 0, 0, 0, 0, 0, 0, 0, 0, 0, 0, 0, 0, 0, 0, 0, 0, 0,\n",
      "        0, 0, 0, 0, 0, 0, 0, 0, 0, 0, 0, 0, 0, 0, 0, 0, 0, 0, 0, 0, 0, 0, 0, 0,\n",
      "        0, 0, 0, 0, 0, 0, 0, 0, 0, 0, 0, 0, 0, 0, 0, 0, 0, 0, 0, 0, 0, 0, 0, 0,\n",
      "        0, 0, 0, 0, 0, 0, 0, 0, 0, 0, 0, 0, 0, 0, 0, 0, 0, 0, 0, 0, 0, 0, 0, 0,\n",
      "        0, 0, 0, 0, 0, 0, 0, 0, 0, 0, 0, 0, 0, 0, 0, 0, 0, 0, 0, 0, 0, 0, 0, 0,\n",
      "        0, 0, 0, 0, 0, 0, 0, 0, 0, 0, 0, 0, 0, 0, 0, 0, 0, 0, 0, 0, 0, 0, 0, 0,\n",
      "        0, 0, 0, 0, 0, 0, 0, 0, 0, 0, 0, 0, 0, 0, 0, 0, 0, 0, 0, 0])\n"
     ]
    }
   ],
   "source": [
    "print(tokenizer.convert_ids_to_tokens(encoding[\"input_ids\"][0]))\n",
    "print(encoding[\"input_ids\"][0])\n",
    "print(encoding[\"attention_mask\"][0])"
   ]
  },
  {
   "cell_type": "code",
   "execution_count": 85,
   "id": "6a58d46d",
   "metadata": {
    "executionInfo": {
     "elapsed": 3,
     "status": "ok",
     "timestamp": 1761346597370,
     "user": {
      "displayName": "Johan Sebastian Castellanos Avila",
      "userId": "11374531528507303616"
     },
     "user_tz": 300
    },
    "id": "6a58d46d"
   },
   "outputs": [],
   "source": [
    "# CREACION DEL DATASET\n",
    "\n",
    "class CustomDataset(Dataset):\n",
    "    def __init__(self, text, labels, tokenizer, max_len):\n",
    "        self.text = text\n",
    "        self.labels = labels\n",
    "        self.tokenizer = tokenizer\n",
    "        self.max_len = max_len\n",
    "\n",
    "    def __len__(self):\n",
    "      return len(self.text)\n",
    "\n",
    "    def __getitem__(self, item):\n",
    "      text = str(self.text[item])\n",
    "      label = self.labels[item]\n",
    "      encoding = tokenizer.encode_plus(\n",
    "          text,\n",
    "          add_special_tokens=True,\n",
    "          max_length=self.max_len,\n",
    "          return_token_type_ids=False,\n",
    "          padding=\"max_length\",  # Changed from pad_to_max_length=True\n",
    "          truncation=True,\n",
    "          return_attention_mask=True,\n",
    "          return_tensors=\"pt\",\n",
    "      )\n",
    "      return {\"text\": text,\n",
    "                \"input_ids\": encoding[\"input_ids\"].flatten(),\n",
    "                \"attention_mask\": encoding[\"attention_mask\"].flatten(),\n",
    "                \"labels\": torch.tensor(label, dtype=torch.long)}"
   ]
  },
  {
   "cell_type": "code",
   "execution_count": 86,
   "id": "aedabb6f",
   "metadata": {
    "colab": {
     "base_uri": "https://localhost:8080/"
    },
    "executionInfo": {
     "elapsed": 25,
     "status": "ok",
     "timestamp": 1761346597398,
     "user": {
      "displayName": "Johan Sebastian Castellanos Avila",
      "userId": "11374531528507303616"
     },
     "user_tz": 300
    },
    "id": "aedabb6f",
    "outputId": "80852e56-7898-4504-fa0f-cfa3de8179ad"
   },
   "outputs": [
    {
     "data": {
      "text/plain": [
       "Index(['sexo', 'edad', 'grupo', 'especialidad_medica', 'subjetivo', 'objetivo',\n",
       "       'concatenada', 'sexo_codificado', 'grupo_codificado'],\n",
       "      dtype='object')"
      ]
     },
     "execution_count": 86,
     "metadata": {},
     "output_type": "execute_result"
    }
   ],
   "source": [
    "df.columns"
   ]
  },
  {
   "cell_type": "code",
   "execution_count": 87,
   "id": "62b3a9f7",
   "metadata": {
    "executionInfo": {
     "elapsed": 2,
     "status": "ok",
     "timestamp": 1761346597402,
     "user": {
      "displayName": "Johan Sebastian Castellanos Avila",
      "userId": "11374531528507303616"
     },
     "user_tz": 300
    },
    "id": "62b3a9f7"
   },
   "outputs": [],
   "source": [
    "# Data Loader:\n",
    "\n",
    "def data_loader(df, tokenizer, max_len, batch_size):\n",
    "    dataset = CustomDataset(\n",
    "        text = df[\"concatenada\"].to_numpy(),\n",
    "        labels = df[\"grupo_codificado\"].to_numpy(),\n",
    "        tokenizer = tokenizer,\n",
    "        max_len = MAX_LEN\n",
    "    )\n",
    "    return DataLoader(dataset, batch_size = BATCH_SIZE, pin_memory=True)\n"
   ]
  },
  {
   "cell_type": "code",
   "execution_count": 88,
   "id": "21a3ddeb",
   "metadata": {
    "executionInfo": {
     "elapsed": 9,
     "status": "ok",
     "timestamp": 1761346597413,
     "user": {
      "displayName": "Johan Sebastian Castellanos Avila",
      "userId": "11374531528507303616"
     },
     "user_tz": 300
    },
    "id": "21a3ddeb"
   },
   "outputs": [],
   "source": [
    "df_train, df_test = train_test_split(df, test_size=0.2, random_state=RANDOM_SEED)\n",
    "\n",
    "train_data_loader = data_loader(df_train, tokenizer, MAX_LEN, BATCH_SIZE)\n",
    "test_data_loader = data_loader(df_test, tokenizer, MAX_LEN, BATCH_SIZE)"
   ]
  },
  {
   "cell_type": "code",
   "execution_count": 89,
   "id": "92950448",
   "metadata": {
    "executionInfo": {
     "elapsed": 38,
     "status": "ok",
     "timestamp": 1761346597449,
     "user": {
      "displayName": "Johan Sebastian Castellanos Avila",
      "userId": "11374531528507303616"
     },
     "user_tz": 300
    },
    "id": "92950448"
   },
   "outputs": [],
   "source": [
    "# Red Neuronal para el modelo BERT\n",
    "\n",
    "class BERTTextClassifier(nn.Module):\n",
    "    def __init__(self, n_classes):\n",
    "        super(BERTTextClassifier, self).__init__()\n",
    "        self.bert = BertModel.from_pretrained(PRE_TRAINED_MODEL_NAME)\n",
    "        self.dropout = nn.Dropout(0.3)\n",
    "        self.linear = nn.Linear(self.bert.config.hidden_size, n_classes)\n",
    "\n",
    "    def forward(self, input_ids, attention_mask):\n",
    "      outputs = self.bert(\n",
    "          input_ids = input_ids,\n",
    "          attention_mask = attention_mask\n",
    "      )\n",
    "      pooled_out = outputs.pooler_output\n",
    "      drop_out = self.dropout(pooled_out)\n",
    "      output = self.linear(drop_out)\n",
    "      return output\n"
   ]
  },
  {
   "cell_type": "code",
   "execution_count": 90,
   "id": "23793bee",
   "metadata": {
    "executionInfo": {
     "elapsed": 605,
     "status": "ok",
     "timestamp": 1761346598056,
     "user": {
      "displayName": "Johan Sebastian Castellanos Avila",
      "userId": "11374531528507303616"
     },
     "user_tz": 300
    },
    "id": "23793bee"
   },
   "outputs": [],
   "source": [
    "model = BERTTextClassifier(NCLASS)\n",
    "model = model.to(device)"
   ]
  },
  {
   "cell_type": "code",
   "execution_count": 91,
   "id": "3a21bc32",
   "metadata": {},
   "outputs": [],
   "source": [
    "# FUNCIONES DE EVALUACIÓN Y VISUALIZACIÓN \n",
    "\n",
    "def evaluate_model_detailed(model, data_loader, device, class_names=None):\n",
    "    \"\"\"Evaluación detallada del modelo con métricas comprehensivas\"\"\"\n",
    "    model.eval()\n",
    "    \n",
    "    predictions = []\n",
    "    true_labels = []\n",
    "    \n",
    "    with torch.no_grad():\n",
    "        for batch in data_loader:\n",
    "            input_ids = batch[\"input_ids\"].to(device)\n",
    "            attention_mask = batch[\"attention_mask\"].to(device)\n",
    "            labels = batch[\"labels\"].to(device)\n",
    "            \n",
    "            outputs = model(input_ids=input_ids, attention_mask=attention_mask)\n",
    "            _, preds = torch.max(outputs, dim=1)\n",
    "            \n",
    "            predictions.extend(preds.cpu().numpy())\n",
    "            true_labels.extend(labels.cpu().numpy())\n",
    "    \n",
    "    # Calcular métricas\n",
    "    from sklearn.metrics import accuracy_score, precision_recall_fscore_support, classification_report\n",
    "    \n",
    "    accuracy = accuracy_score(true_labels, predictions)\n",
    "    precision, recall, f1, _ = precision_recall_fscore_support(true_labels, predictions, average='weighted')\n",
    "    \n",
    "    metrics = {\n",
    "        'accuracy': accuracy,\n",
    "        'precision': precision,\n",
    "        'recall': recall,\n",
    "        'f1_score': f1\n",
    "    }\n",
    "    \n",
    "    # Reporte de clasificación\n",
    "    if class_names is None:\n",
    "        class_names = [f'Class_{i}' for i in range(NCLASS)]\n",
    "    \n",
    "    report = classification_report(true_labels, predictions, target_names=class_names, output_dict=True)\n",
    "    \n",
    "    return metrics, predictions, true_labels, report\n",
    "\n",
    "def create_confusion_matrix_plot(true_labels, predictions, class_names=None):\n",
    "    \"\"\"Crear y guardar matriz de confusión\"\"\"\n",
    "    if class_names is None:\n",
    "        class_names = [f'Class_{i}' for i in range(NCLASS)]\n",
    "    \n",
    "    cm = confusion_matrix(true_labels, predictions)\n",
    "    \n",
    "    plt.figure(figsize=(10, 8))\n",
    "    sns.heatmap(cm, annot=True, fmt='d', cmap='Blues', \n",
    "                xticklabels=class_names, yticklabels=class_names)\n",
    "    plt.title('Matriz de Confusión')\n",
    "    plt.xlabel('Predicción')\n",
    "    plt.ylabel('Verdadero')\n",
    "    plt.tight_layout()\n",
    "    \n",
    "    # Guardar la figura\n",
    "    confusion_matrix_path = 'confusion_matrix.png'\n",
    "    plt.savefig(confusion_matrix_path, dpi=300, bbox_inches='tight')\n",
    "    plt.show()\n",
    "    \n",
    "    return confusion_matrix_path, cm\n",
    "\n",
    "def create_training_plots(train_losses, train_accuracies, val_losses, val_accuracies):\n",
    "    \"\"\"Crear gráficos de entrenamiento\"\"\"\n",
    "    epochs = range(1, len(train_losses) + 1)\n",
    "    \n",
    "    fig, (ax1, ax2) = plt.subplots(1, 2, figsize=(15, 5))\n",
    "    \n",
    "    # Loss plot\n",
    "    ax1.plot(epochs, train_losses, 'b-', label='Entrenamiento')\n",
    "    ax1.plot(epochs, val_losses, 'r-', label='Validación')\n",
    "    ax1.set_title('Loss durante el entrenamiento')\n",
    "    ax1.set_xlabel('Época')\n",
    "    ax1.set_ylabel('Loss')\n",
    "    ax1.legend()\n",
    "    ax1.grid(True)\n",
    "    \n",
    "    # Accuracy plot\n",
    "    ax2.plot(epochs, train_accuracies, 'b-', label='Entrenamiento')\n",
    "    ax2.plot(epochs, val_accuracies, 'r-', label='Validación')\n",
    "    ax2.set_title('Accuracy durante el entrenamiento')\n",
    "    ax2.set_xlabel('Época')\n",
    "    ax2.set_ylabel('Accuracy')\n",
    "    ax2.legend()\n",
    "    ax2.grid(True)\n",
    "    \n",
    "    plt.tight_layout()\n",
    "    \n",
    "    # Guardar la figura\n",
    "    training_plot_path = 'training_plots.png'\n",
    "    plt.savefig(training_plot_path, dpi=300, bbox_inches='tight')\n",
    "    plt.show()\n",
    "    \n",
    "    return training_plot_path\n",
    "\n",
    "def log_model_summary(model):\n",
    "    \"\"\"Log del resumen del modelo\"\"\"\n",
    "    total_params = sum(p.numel() for p in model.parameters())\n",
    "    trainable_params = sum(p.numel() for p in model.parameters() if p.requires_grad)\n",
    "    \n",
    "    model_summary = {\n",
    "        'total_parameters': total_params,\n",
    "        'trainable_parameters': trainable_params,\n",
    "        'model_architecture': str(model)\n",
    "    }\n",
    "    \n",
    "    return model_summary"
   ]
  },
  {
   "cell_type": "code",
   "execution_count": 92,
   "id": "a45f4fdf",
   "metadata": {
    "colab": {
     "base_uri": "https://localhost:8080/"
    },
    "executionInfo": {
     "elapsed": 15,
     "status": "ok",
     "timestamp": 1761346598085,
     "user": {
      "displayName": "Johan Sebastian Castellanos Avila",
      "userId": "11374531528507303616"
     },
     "user_tz": 300
    },
    "id": "a45f4fdf",
    "outputId": "31b97889-c0fe-4c5e-c796-cdf4a16b51bd"
   },
   "outputs": [
    {
     "name": "stdout",
     "output_type": "stream",
     "text": [
      "BERTTextClassifier(\n",
      "  (bert): BertModel(\n",
      "    (embeddings): BertEmbeddings(\n",
      "      (word_embeddings): Embedding(119547, 768, padding_idx=0)\n",
      "      (position_embeddings): Embedding(512, 768)\n",
      "      (token_type_embeddings): Embedding(2, 768)\n",
      "      (LayerNorm): LayerNorm((768,), eps=1e-12, elementwise_affine=True)\n",
      "      (dropout): Dropout(p=0.1, inplace=False)\n",
      "    )\n",
      "    (encoder): BertEncoder(\n",
      "      (layer): ModuleList(\n",
      "        (0-11): 12 x BertLayer(\n",
      "          (attention): BertAttention(\n",
      "            (self): BertSdpaSelfAttention(\n",
      "              (query): Linear(in_features=768, out_features=768, bias=True)\n",
      "              (key): Linear(in_features=768, out_features=768, bias=True)\n",
      "              (value): Linear(in_features=768, out_features=768, bias=True)\n",
      "              (dropout): Dropout(p=0.1, inplace=False)\n",
      "            )\n",
      "            (output): BertSelfOutput(\n",
      "              (dense): Linear(in_features=768, out_features=768, bias=True)\n",
      "              (LayerNorm): LayerNorm((768,), eps=1e-12, elementwise_affine=True)\n",
      "              (dropout): Dropout(p=0.1, inplace=False)\n",
      "            )\n",
      "          )\n",
      "          (intermediate): BertIntermediate(\n",
      "            (dense): Linear(in_features=768, out_features=3072, bias=True)\n",
      "            (intermediate_act_fn): GELUActivation()\n",
      "          )\n",
      "          (output): BertOutput(\n",
      "            (dense): Linear(in_features=3072, out_features=768, bias=True)\n",
      "            (LayerNorm): LayerNorm((768,), eps=1e-12, elementwise_affine=True)\n",
      "            (dropout): Dropout(p=0.1, inplace=False)\n",
      "          )\n",
      "        )\n",
      "      )\n",
      "    )\n",
      "    (pooler): BertPooler(\n",
      "      (dense): Linear(in_features=768, out_features=768, bias=True)\n",
      "      (activation): Tanh()\n",
      "    )\n",
      "  )\n",
      "  (dropout): Dropout(p=0.3, inplace=False)\n",
      "  (linear): Linear(in_features=768, out_features=6, bias=True)\n",
      ")\n"
     ]
    }
   ],
   "source": [
    "print(model)"
   ]
  },
  {
   "cell_type": "code",
   "execution_count": 93,
   "id": "Hk0wDL2XkDuu",
   "metadata": {
    "executionInfo": {
     "elapsed": 1,
     "status": "ok",
     "timestamp": 1761346598088,
     "user": {
      "displayName": "Johan Sebastian Castellanos Avila",
      "userId": "11374531528507303616"
     },
     "user_tz": 300
    },
    "id": "Hk0wDL2XkDuu"
   },
   "outputs": [
    {
     "name": "stdout",
     "output_type": "stream",
     "text": [
      "Configuración de entrenamiento:\n",
      "  Épocas: 10\n",
      "  Learning rate: 2e-05\n",
      "  Weight decay: 0.01\n",
      "  Total steps: 1670\n",
      "  Warmup steps: 0\n",
      "\n",
      "Resumen del modelo:\n",
      "  Parámetros totales: 177,858,054\n",
      "  Parámetros entrenables: 177,858,054\n"
     ]
    }
   ],
   "source": [
    "# CONFIGURACIÓN DEL ENTRENAMIENTO\n",
    "\n",
    "EPOCHS = HYPERPARAMS['epochs']\n",
    "learning_rate = HYPERPARAMS['learning_rate']\n",
    "weight_decay = HYPERPARAMS['weight_decay']\n",
    "\n",
    "optimizer = optim.AdamW(model.parameters(), lr=learning_rate, weight_decay=weight_decay)\n",
    "total_steps = len(train_data_loader) * EPOCHS\n",
    "\n",
    "scheduler = get_linear_schedule_with_warmup(\n",
    "    optimizer,\n",
    "    num_warmup_steps=HYPERPARAMS['warmup_steps'],\n",
    "    num_training_steps=total_steps\n",
    ")\n",
    "\n",
    "loss_fn = nn.CrossEntropyLoss().to(device)\n",
    "\n",
    "print(f\"Configuración de entrenamiento:\")\n",
    "print(f\"  Épocas: {EPOCHS}\")\n",
    "print(f\"  Learning rate: {learning_rate}\")\n",
    "print(f\"  Weight decay: {weight_decay}\")\n",
    "print(f\"  Total steps: {total_steps}\")\n",
    "print(f\"  Warmup steps: {HYPERPARAMS['warmup_steps']}\")\n",
    "\n",
    "# Obtener resumen del modelo\n",
    "model_summary = log_model_summary(model)\n",
    "print(f\"\\nResumen del modelo:\")\n",
    "print(f\"  Parámetros totales: {model_summary['total_parameters']:,}\")\n",
    "print(f\"  Parámetros entrenables: {model_summary['trainable_parameters']:,}\")"
   ]
  },
  {
   "cell_type": "code",
   "execution_count": 94,
   "id": "9BN0cgl4mwGB",
   "metadata": {
    "executionInfo": {
     "elapsed": 1,
     "status": "ok",
     "timestamp": 1761346598091,
     "user": {
      "displayName": "Johan Sebastian Castellanos Avila",
      "userId": "11374531528507303616"
     },
     "user_tz": 300
    },
    "id": "9BN0cgl4mwGB"
   },
   "outputs": [],
   "source": [
    "# Iteracion de Entranamiento\n",
    "\n",
    "def train_model(model, data_loader, loss_fn, optimizer, device, scheduler, n_examples):\n",
    "    model = model.train()\n",
    "    losses = []\n",
    "    correct_predictions = 0\n",
    "    for batch in data_loader:\n",
    "        input_ids = batch[\"input_ids\"].to(device)\n",
    "        attention_mask = batch[\"attention_mask\"].to(device)\n",
    "        labels = batch[\"labels\"].to(device)\n",
    "        outputs = model(input_ids = input_ids, attention_mask = attention_mask)\n",
    "        _, preds = torch.max(outputs, dim=1)\n",
    "        loss = loss_fn(outputs, labels)\n",
    "        correct_predictions += torch.sum(preds == labels)\n",
    "        losses.append(loss.item())\n",
    "        loss.backward()\n",
    "        nn.utils.clip_grad_norm_(model.parameters(), max_norm=1.0)\n",
    "        optimizer.step()\n",
    "        scheduler.step()\n",
    "        optimizer.zero_grad()\n",
    "    return correct_predictions.double() / n_examples, np.mean(losses)\n",
    "\n",
    "def eval_model(model, data_loader, loss_fn, device, n_examples):\n",
    "    model = model.eval()\n",
    "    losses = []\n",
    "    correct_predictions = 0\n",
    "    with torch.no_grad():\n",
    "        for batch in data_loader:\n",
    "            input_ids = batch[\"input_ids\"].to(device)\n",
    "            attention_mask = batch[\"attention_mask\"].to(device)\n",
    "            labels = batch[\"labels\"].to(device)\n",
    "            outputs = model(input_ids = input_ids, attention_mask = attention_mask)\n",
    "            _, preds = torch.max(outputs, dim=1)\n",
    "            loss = loss_fn(outputs, labels)\n",
    "            correct_predictions += torch.sum(preds == labels)\n",
    "            losses.append(loss.item())\n",
    "    return correct_predictions.double() / n_examples, np.mean(losses)"
   ]
  },
  {
   "cell_type": "code",
   "execution_count": 95,
   "id": "dT9Qi8pYqIGB",
   "metadata": {
    "colab": {
     "base_uri": "https://localhost:8080/"
    },
    "executionInfo": {
     "elapsed": 9,
     "status": "ok",
     "timestamp": 1761346598102,
     "user": {
      "displayName": "Johan Sebastian Castellanos Avila",
      "userId": "11374531528507303616"
     },
     "user_tz": 300
    },
    "id": "dT9Qi8pYqIGB",
    "outputId": "d187b88e-00f2-45a8-d14e-08f990024a81"
   },
   "outputs": [
    {
     "data": {
      "text/plain": [
       "4000"
      ]
     },
     "execution_count": 95,
     "metadata": {},
     "output_type": "execute_result"
    }
   ],
   "source": [
    "len(df_train)"
   ]
  },
  {
   "cell_type": "code",
   "execution_count": 96,
   "id": "atUmLe2wo1-i",
   "metadata": {
    "colab": {
     "base_uri": "https://localhost:8080/",
     "height": 249,
     "referenced_widgets": [
      "3f071e50d6dd4715be84bec32c543ecc",
      "c1bea4a54a2c4e32b88388021662a389",
      "e9f534a8f87d4c6c91203cb35b7cb62e",
      "653c7cfaa56248a6868b9be62cc53517",
      "af380d17fdd2452db5dd3ccbe52e9de8",
      "a9390d4509ea4455bb057c27e73a74cb",
      "a26b00a67b41476faeaf72174ed4e674",
      "55557f8eb7534e35b422e1edf8a11be7",
      "f43978d5ad784e629dea7ef2ce272be2",
      "01c18095e577420198d568d8d9e9c4bc",
      "34f140a4e8f34d31b9a5a90e94dcc29d",
      "1d5bbbad5fe14b29859d945b69488fe0",
      "db82bd644a78431d83ec151ffdb2a460",
      "986f65a5ce344e128c60c7178717c064",
      "1ba70b94f11c4ef581b126eafdeaf14d",
      "581fc0e033654b3b955dae5c1387afeb",
      "0e75358431df464fbeeef95289d0376f",
      "11259f9c2af6449ebf0ce9f330d6a652",
      "d0dcf8cfc5734f049fdf61732434bd0e",
      "a35897430ca3498493fd46ba5252d166",
      "58f8405c19be432a8c8dc37e0993eee5",
      "e67bfe00480343f593c472dca458a6e0",
      "0dbeecf878c5414a8c0125514952210d",
      "37a8fd0d17a7486e9e1330436c74f7f8",
      "f0ab5438c7da440292441520c51a7439",
      "9a7bac0914324bf4a73fcc273e1f2782",
      "fe2e3c1d14ad4e3fb9754655a6fb74b8",
      "54a69ae7858d400499b9f6b69d1d759c",
      "62ee21f802554d8caccf1cbfe5e72289",
      "a10791021d354dc9aa2c1c2347bbf287",
      "0b285c545835445599a14de13da21dda",
      "20afafad9565443f9b8a24822fd75a17",
      "a8c906ef10e542269658d0aa8ba9aae6"
     ]
    },
    "id": "atUmLe2wo1-i",
    "outputId": "0f8adbe0-21e7-47f5-9d77-b5bca648cffa"
   },
   "outputs": [
    {
     "name": "stdout",
     "output_type": "stream",
     "text": [
      "MLflow Run ID: 2c09bcc410224114ab1de7204f23c36f\n",
      "\\n==================================================\n",
      "INICIANDO ENTRENAMIENTO CON MLFLOW TRACKING\n",
      "==================================================\n",
      "\\nEpoch 1/10\n",
      "------------------------------\n"
     ]
    },
    {
     "data": {
      "application/vnd.jupyter.widget-view+json": {
       "model_id": "255cc9b58f4141e19793c688758f677f",
       "version_major": 2,
       "version_minor": 0
      },
      "text/plain": [
       "Epoch 1/10 - Train:   0%|          | 0/167 [00:00<?, ?it/s]"
      ]
     },
     "metadata": {},
     "output_type": "display_data"
    },
    {
     "data": {
      "application/vnd.jupyter.widget-view+json": {
       "model_id": "8f157a02c6a14d4cac1f501709712541",
       "version_major": 2,
       "version_minor": 0
      },
      "text/plain": [
       "Epoch 1/10 - Eval:   0%|          | 0/42 [00:00<?, ?it/s]"
      ]
     },
     "metadata": {},
     "output_type": "display_data"
    },
    {
     "name": "stdout",
     "output_type": "stream",
     "text": [
      "Entrenamiento: Loss: 1.6177, Accuracy: 0.3350\n",
      "Validación: Loss: 1.5536, Accuracy: 0.3520\n",
      "Tiempo de época: 1560.27 segundos\n",
      "\\nEpoch 2/10\n",
      "------------------------------\n"
     ]
    },
    {
     "data": {
      "application/vnd.jupyter.widget-view+json": {
       "model_id": "5d125cc041024cce86a39d9619ff96d5",
       "version_major": 2,
       "version_minor": 0
      },
      "text/plain": [
       "Epoch 2/10 - Train:   0%|          | 0/167 [00:00<?, ?it/s]"
      ]
     },
     "metadata": {},
     "output_type": "display_data"
    },
    {
     "data": {
      "application/vnd.jupyter.widget-view+json": {
       "model_id": "e8b86be008f74a33b2cacd1d6f99e4b6",
       "version_major": 2,
       "version_minor": 0
      },
      "text/plain": [
       "Epoch 2/10 - Eval:   0%|          | 0/42 [00:00<?, ?it/s]"
      ]
     },
     "metadata": {},
     "output_type": "display_data"
    },
    {
     "name": "stdout",
     "output_type": "stream",
     "text": [
      "Entrenamiento: Loss: 1.4443, Accuracy: 0.4200\n",
      "Validación: Loss: 1.4666, Accuracy: 0.4050\n",
      "Tiempo de época: 1293.28 segundos\n",
      "\\nEpoch 3/10\n",
      "------------------------------\n"
     ]
    },
    {
     "data": {
      "application/vnd.jupyter.widget-view+json": {
       "model_id": "d8e04024e5734c71bab8e747266019ab",
       "version_major": 2,
       "version_minor": 0
      },
      "text/plain": [
       "Epoch 3/10 - Train:   0%|          | 0/167 [00:00<?, ?it/s]"
      ]
     },
     "metadata": {},
     "output_type": "display_data"
    },
    {
     "data": {
      "application/vnd.jupyter.widget-view+json": {
       "model_id": "fe7109c115d64c4dab798fdcd6c37e1d",
       "version_major": 2,
       "version_minor": 0
      },
      "text/plain": [
       "Epoch 3/10 - Eval:   0%|          | 0/42 [00:00<?, ?it/s]"
      ]
     },
     "metadata": {},
     "output_type": "display_data"
    },
    {
     "name": "stdout",
     "output_type": "stream",
     "text": [
      "Entrenamiento: Loss: 1.3132, Accuracy: 0.4735\n",
      "Validación: Loss: 1.4552, Accuracy: 0.4260\n",
      "Tiempo de época: 1339.92 segundos\n",
      "\\nEpoch 4/10\n",
      "------------------------------\n"
     ]
    },
    {
     "data": {
      "application/vnd.jupyter.widget-view+json": {
       "model_id": "2321de44a8e94fd29e2e0e592e4cf5ee",
       "version_major": 2,
       "version_minor": 0
      },
      "text/plain": [
       "Epoch 4/10 - Train:   0%|          | 0/167 [00:00<?, ?it/s]"
      ]
     },
     "metadata": {},
     "output_type": "display_data"
    },
    {
     "data": {
      "application/vnd.jupyter.widget-view+json": {
       "model_id": "7ae8de699f884cd3b3efcb0483406b0c",
       "version_major": 2,
       "version_minor": 0
      },
      "text/plain": [
       "Epoch 4/10 - Eval:   0%|          | 0/42 [00:00<?, ?it/s]"
      ]
     },
     "metadata": {},
     "output_type": "display_data"
    },
    {
     "name": "stdout",
     "output_type": "stream",
     "text": [
      "Entrenamiento: Loss: 1.1736, Accuracy: 0.5428\n",
      "Validación: Loss: 1.4403, Accuracy: 0.4440\n",
      "Tiempo de época: 1337.55 segundos\n",
      "\\nEpoch 5/10\n",
      "------------------------------\n"
     ]
    },
    {
     "data": {
      "application/vnd.jupyter.widget-view+json": {
       "model_id": "e0443434a53b4113bf5c6344e9d07eca",
       "version_major": 2,
       "version_minor": 0
      },
      "text/plain": [
       "Epoch 5/10 - Train:   0%|          | 0/167 [00:00<?, ?it/s]"
      ]
     },
     "metadata": {},
     "output_type": "display_data"
    },
    {
     "data": {
      "application/vnd.jupyter.widget-view+json": {
       "model_id": "4f30a1147a154cdb8278b1f9fec5e8cf",
       "version_major": 2,
       "version_minor": 0
      },
      "text/plain": [
       "Epoch 5/10 - Eval:   0%|          | 0/42 [00:00<?, ?it/s]"
      ]
     },
     "metadata": {},
     "output_type": "display_data"
    },
    {
     "name": "stdout",
     "output_type": "stream",
     "text": [
      "Entrenamiento: Loss: 1.0320, Accuracy: 0.6028\n",
      "Validación: Loss: 1.4447, Accuracy: 0.4640\n",
      "Tiempo de época: 1336.10 segundos\n",
      "\\nEpoch 6/10\n",
      "------------------------------\n"
     ]
    },
    {
     "data": {
      "application/vnd.jupyter.widget-view+json": {
       "model_id": "9f9b84b47d67470598067b3504430fb4",
       "version_major": 2,
       "version_minor": 0
      },
      "text/plain": [
       "Epoch 6/10 - Train:   0%|          | 0/167 [00:00<?, ?it/s]"
      ]
     },
     "metadata": {},
     "output_type": "display_data"
    },
    {
     "data": {
      "application/vnd.jupyter.widget-view+json": {
       "model_id": "8e552b3279a7403d95418f8421a1be61",
       "version_major": 2,
       "version_minor": 0
      },
      "text/plain": [
       "Epoch 6/10 - Eval:   0%|          | 0/42 [00:00<?, ?it/s]"
      ]
     },
     "metadata": {},
     "output_type": "display_data"
    },
    {
     "name": "stdout",
     "output_type": "stream",
     "text": [
      "Entrenamiento: Loss: 0.8922, Accuracy: 0.6740\n",
      "Validación: Loss: 1.4122, Accuracy: 0.5030\n",
      "Tiempo de época: 1337.09 segundos\n",
      "\\nEpoch 7/10\n",
      "------------------------------\n"
     ]
    },
    {
     "data": {
      "application/vnd.jupyter.widget-view+json": {
       "model_id": "f85ed2ca49a44706b73a3cb09b2a4ffe",
       "version_major": 2,
       "version_minor": 0
      },
      "text/plain": [
       "Epoch 7/10 - Train:   0%|          | 0/167 [00:00<?, ?it/s]"
      ]
     },
     "metadata": {},
     "output_type": "display_data"
    },
    {
     "data": {
      "application/vnd.jupyter.widget-view+json": {
       "model_id": "482e0deff0284a24837d25f7964f2bfb",
       "version_major": 2,
       "version_minor": 0
      },
      "text/plain": [
       "Epoch 7/10 - Eval:   0%|          | 0/42 [00:00<?, ?it/s]"
      ]
     },
     "metadata": {},
     "output_type": "display_data"
    },
    {
     "name": "stdout",
     "output_type": "stream",
     "text": [
      "Entrenamiento: Loss: 0.7708, Accuracy: 0.7362\n",
      "Validación: Loss: 1.4989, Accuracy: 0.4750\n",
      "Tiempo de época: 1336.39 segundos\n",
      "\\nEpoch 8/10\n",
      "------------------------------\n"
     ]
    },
    {
     "data": {
      "application/vnd.jupyter.widget-view+json": {
       "model_id": "5800f0e5dc614a9c974e75053c0165bf",
       "version_major": 2,
       "version_minor": 0
      },
      "text/plain": [
       "Epoch 8/10 - Train:   0%|          | 0/167 [00:00<?, ?it/s]"
      ]
     },
     "metadata": {},
     "output_type": "display_data"
    },
    {
     "data": {
      "application/vnd.jupyter.widget-view+json": {
       "model_id": "b5aed3b39ebb42c7a1f6db534080db0b",
       "version_major": 2,
       "version_minor": 0
      },
      "text/plain": [
       "Epoch 8/10 - Eval:   0%|          | 0/42 [00:00<?, ?it/s]"
      ]
     },
     "metadata": {},
     "output_type": "display_data"
    },
    {
     "name": "stdout",
     "output_type": "stream",
     "text": [
      "Entrenamiento: Loss: 0.6771, Accuracy: 0.7708\n",
      "Validación: Loss: 1.5286, Accuracy: 0.4980\n",
      "Tiempo de época: 1335.08 segundos\n",
      "\\nEpoch 9/10\n",
      "------------------------------\n"
     ]
    },
    {
     "data": {
      "application/vnd.jupyter.widget-view+json": {
       "model_id": "ef807a19562241f2ba1d10028e3e5045",
       "version_major": 2,
       "version_minor": 0
      },
      "text/plain": [
       "Epoch 9/10 - Train:   0%|          | 0/167 [00:00<?, ?it/s]"
      ]
     },
     "metadata": {},
     "output_type": "display_data"
    },
    {
     "data": {
      "application/vnd.jupyter.widget-view+json": {
       "model_id": "1db9c9114a9344e99cc62d5fded7d36e",
       "version_major": 2,
       "version_minor": 0
      },
      "text/plain": [
       "Epoch 9/10 - Eval:   0%|          | 0/42 [00:00<?, ?it/s]"
      ]
     },
     "metadata": {},
     "output_type": "display_data"
    },
    {
     "name": "stdout",
     "output_type": "stream",
     "text": [
      "Entrenamiento: Loss: 0.6131, Accuracy: 0.8013\n",
      "Validación: Loss: 1.5259, Accuracy: 0.5020\n",
      "Tiempo de época: 1340.25 segundos\n",
      "\\nEpoch 10/10\n",
      "------------------------------\n"
     ]
    },
    {
     "data": {
      "application/vnd.jupyter.widget-view+json": {
       "model_id": "1507f67178b645bc985256ffebf26f89",
       "version_major": 2,
       "version_minor": 0
      },
      "text/plain": [
       "Epoch 10/10 - Train:   0%|          | 0/167 [00:00<?, ?it/s]"
      ]
     },
     "metadata": {},
     "output_type": "display_data"
    },
    {
     "data": {
      "application/vnd.jupyter.widget-view+json": {
       "model_id": "4f02af59b7d4409e8779dd3f041bdfd4",
       "version_major": 2,
       "version_minor": 0
      },
      "text/plain": [
       "Epoch 10/10 - Eval:   0%|          | 0/42 [00:00<?, ?it/s]"
      ]
     },
     "metadata": {},
     "output_type": "display_data"
    },
    {
     "name": "stdout",
     "output_type": "stream",
     "text": [
      "Entrenamiento: Loss: 0.5544, Accuracy: 0.8210\n",
      "Validación: Loss: 1.5321, Accuracy: 0.5030\n",
      "Tiempo de época: 1335.56 segundos\n",
      "\\n==================================================\n",
      "EVALUACIÓN FINAL Y GENERACIÓN DE ARTEFACTOS\n",
      "==================================================\n",
      "\\nGenerando visualizaciones...\n"
     ]
    },
    {
     "data": {
      "image/png": "[encoded data removed]",
      "text/plain": [
       "<Figure size 1500x500 with 2 Axes>"
      ]
     },
     "metadata": {},
     "output_type": "display_data"
    },
    {
     "data": {
      "image/png": "[encoded data removed]",
      "text/plain": [
       "<Figure size 1000x800 with 2 Axes>"
      ]
     },
     "metadata": {},
     "output_type": "display_data"
    },
    {
     "name": "stdout",
     "output_type": "stream",
     "text": [
      "\\nGuardando modelo...\n"
     ]
    },
    {
     "name": "stderr",
     "output_type": "stream",
     "text": [
      "2025/10/28 00:48:49 WARNING mlflow.models.model: `artifact_path` is deprecated. Please use `name` instead.\n",
      "2025/10/28 00:48:50 WARNING mlflow.utils.environment: Failed to resolve installed pip version. ``pip`` will be added to conda.yaml environment spec without a version specifier.\n",
      "2025/10/28 00:48:50 WARNING mlflow.models.model: Model logged without a signature and input example. Please set `input_example` parameter when logging the model to auto infer the model signature.\n",
      "Registered model 'BERT_Text_Classifier' already exists. Creating a new version of this model...\n",
      "2025/10/28 00:50:45 INFO mlflow.store.model_registry.abstract_store: Waiting up to 300 seconds for model version to finish creation. Model name: BERT_Text_Classifier, version 3\n",
      "Created version '3' of model 'BERT_Text_Classifier'.\n"
     ]
    },
    {
     "name": "stdout",
     "output_type": "stream",
     "text": [
      "\\n==================================================\n",
      "RESUMEN DEL EXPERIMENTO\n",
      "==================================================\n",
      "MLflow Run ID: 2c09bcc410224114ab1de7204f23c36f\n",
      "Mejor Accuracy de Validación: 0.5030\n",
      "Accuracy Final: 0.5030\n",
      "Precision Final: 0.5030\n",
      "Recall Final: 0.5030\n",
      "F1-Score Final: 0.5023\n",
      "\\nArtefactos guardados:\n",
      "  - Modelo: bert_classifier_model.pth\n",
      "  - Gráficos de entrenamiento: training_plots.png\n",
      "  - Matriz de confusión: confusion_matrix.png\n",
      "  - Reporte de clasificación: classification_report.json\n",
      "  - Configuración completa: experiment_config.json\n",
      "🏃 View run BERT_experiment_20251027_205938 at: http://127.0.0.1:5000/#/experiments/1/runs/2c09bcc410224114ab1de7204f23c36f\n",
      "🧪 View experiment at: http://127.0.0.1:5000/#/experiments/1\n",
      "\\n🎉 Experimento completado con éxito!\n",
      "Revisa los resultados en MLflow UI: http://127.0.0.1:5000\n"
     ]
    }
   ],
   "source": [
    "# ENTRENAMIENTO CON MLFLOW TRACKING\n",
    "\n",
    "import time\n",
    "from tqdm.notebook import tqdm\n",
    "\n",
    "# Iniciar el run de MLflow\n",
    "with mlflow.start_run(run_name=f\"BERT_experiment_{datetime.now().strftime('%Y%m%d_%H%M%S')}\") as run:\n",
    "    \n",
    "    print(f\"MLflow Run ID: {run.info.run_id}\")\n",
    "    \n",
    "    # LOGGING DE CONFIGURACIÓN \n",
    "    \n",
    "    # Log de hiperparámetros\n",
    "    mlflow.log_params(HYPERPARAMS)\n",
    "    mlflow.log_params(MODEL_CONFIG)\n",
    "    mlflow.log_params(DATA_CONFIG)\n",
    "    \n",
    "    # Log de información del código\n",
    "    mlflow.log_params(code_version)\n",
    "    \n",
    "    # Log de información del dataset\n",
    "    mlflow.log_params(dataset_info)\n",
    "    mlflow.log_param(\"dataset_hash\", processed_data_hash)\n",
    "    \n",
    "    # Log del resumen del modelo\n",
    "    mlflow.log_params({\n",
    "        \"total_parameters\": model_summary['total_parameters'],\n",
    "        \"trainable_parameters\": model_summary['trainable_parameters']\n",
    "    })\n",
    "    \n",
    "    # Log de información del dispositivo\n",
    "    mlflow.log_param(\"device\", str(device))\n",
    "    mlflow.log_param(\"cuda_available\", torch.cuda.is_available())\n",
    "    \n",
    "    # ENTRENAMIENTO \n",
    "    \n",
    "    # Listas para almacenar métricas de entrenamiento\n",
    "    train_losses_history = []\n",
    "    train_accuracies_history = []\n",
    "    val_losses_history = []\n",
    "    val_accuracies_history = []\n",
    "    \n",
    "    best_val_accuracy = 0.0\n",
    "    best_model_state = None\n",
    "    \n",
    "    print(\"\\\\n\" + \"=\"*50)\n",
    "    print(\"INICIANDO ENTRENAMIENTO CON MLFLOW TRACKING\")\n",
    "    print(\"=\"*50)\n",
    "    \n",
    "    for epoch in range(EPOCHS):\n",
    "        print(f\"\\\\nEpoch {epoch + 1}/{EPOCHS}\")\n",
    "        print(\"-\" * 30)\n",
    "        start_time = time.time()\n",
    "        \n",
    "        # ENTRENAMIENTO \n",
    "        model.train()\n",
    "        train_losses = []\n",
    "        train_correct = 0\n",
    "        train_total = len(df_train)\n",
    "        \n",
    "        train_iter = tqdm(train_data_loader, desc=f\"Epoch {epoch+1}/{EPOCHS} - Train\", leave=False)\n",
    "        for batch in train_iter:\n",
    "            input_ids = batch[\"input_ids\"].to(device)\n",
    "            attention_mask = batch[\"attention_mask\"].to(device)\n",
    "            labels = batch[\"labels\"].to(device)\n",
    "            \n",
    "            outputs = model(input_ids=input_ids, attention_mask=attention_mask)\n",
    "            _, preds = torch.max(outputs, dim=1)\n",
    "            loss = loss_fn(outputs, labels)\n",
    "            \n",
    "            train_correct += torch.sum(preds == labels)\n",
    "            train_losses.append(loss.item())\n",
    "            \n",
    "            loss.backward()\n",
    "            nn.utils.clip_grad_norm_(model.parameters(), max_norm=HYPERPARAMS['max_grad_norm'])\n",
    "            optimizer.step()\n",
    "            scheduler.step()\n",
    "            optimizer.zero_grad()\n",
    "            \n",
    "            train_iter.set_postfix(loss=np.mean(train_losses), acc=(train_correct.double() / train_total).item())\n",
    "        \n",
    "        train_acc = train_correct.double() / train_total\n",
    "        train_loss = np.mean(train_losses)\n",
    "        \n",
    "        # EVALUACIÓN\n",
    "        model.eval()\n",
    "        test_losses = []\n",
    "        test_correct = 0\n",
    "        test_total = len(df_test)\n",
    "        \n",
    "        eval_iter = tqdm(test_data_loader, desc=f\"Epoch {epoch+1}/{EPOCHS} - Eval\", leave=False)\n",
    "        with torch.no_grad():\n",
    "            for batch in eval_iter:\n",
    "                input_ids = batch[\"input_ids\"].to(device)\n",
    "                attention_mask = batch[\"attention_mask\"].to(device)\n",
    "                labels = batch[\"labels\"].to(device)\n",
    "                \n",
    "                outputs = model(input_ids=input_ids, attention_mask=attention_mask)\n",
    "                _, preds = torch.max(outputs, dim=1)\n",
    "                loss = loss_fn(outputs, labels)\n",
    "                \n",
    "                test_correct += torch.sum(preds == labels)\n",
    "                test_losses.append(loss.item())\n",
    "                \n",
    "                eval_iter.set_postfix(loss=np.mean(test_losses), acc=(test_correct.double() / test_total).item())\n",
    "        \n",
    "        test_acc = test_correct.double() / test_total\n",
    "        test_loss = np.mean(test_losses)\n",
    "        \n",
    "        # LOGGING DE MÉTRICAS POR ÉPOCA \n",
    "        \n",
    "        # Almacenar métricas\n",
    "        train_losses_history.append(train_loss)\n",
    "        train_accuracies_history.append(train_acc.item())\n",
    "        val_losses_history.append(test_loss)\n",
    "        val_accuracies_history.append(test_acc.item())\n",
    "        \n",
    "        # Log a MLflow\n",
    "        mlflow.log_metric(\"train_loss\", train_loss, step=epoch)\n",
    "        mlflow.log_metric(\"train_accuracy\", train_acc.item(), step=epoch)\n",
    "        mlflow.log_metric(\"val_loss\", test_loss, step=epoch)\n",
    "        mlflow.log_metric(\"val_accuracy\", test_acc.item(), step=epoch)\n",
    "        mlflow.log_metric(\"learning_rate\", scheduler.get_last_lr()[0], step=epoch)\n",
    "        \n",
    "        # Guardar el mejor modelo\n",
    "        if test_acc > best_val_accuracy:\n",
    "            best_val_accuracy = test_acc.item()\n",
    "            best_model_state = model.state_dict().copy()\n",
    "            mlflow.log_metric(\"best_val_accuracy\", best_val_accuracy)\n",
    "        \n",
    "        end_time = time.time()\n",
    "        epoch_time = end_time - start_time\n",
    "        \n",
    "        # Log tiempo de época\n",
    "        mlflow.log_metric(\"epoch_time\", epoch_time, step=epoch)\n",
    "        \n",
    "        # Mostrar resultados\n",
    "        print(f\"Entrenamiento: Loss: {train_loss:.4f}, Accuracy: {train_acc:.4f}\")\n",
    "        print(f\"Validación: Loss: {test_loss:.4f}, Accuracy: {test_acc:.4f}\")\n",
    "        print(f\"Tiempo de época: {epoch_time:.2f} segundos\")\n",
    "    \n",
    "    # EVALUACIÓN FINAL Y ARTEFACTOS \n",
    "    \n",
    "    print(\"\\\\n\" + \"=\"*50)\n",
    "    print(\"EVALUACIÓN FINAL Y GENERACIÓN DE ARTEFACTOS\")\n",
    "    print(\"=\"*50)\n",
    "    \n",
    "    # Cargar el mejor modelo\n",
    "    model.load_state_dict(best_model_state)\n",
    "    \n",
    "    # Evaluación detallada\n",
    "    final_metrics, predictions, true_labels, classification_rep = evaluate_model_detailed(\n",
    "        model, test_data_loader, device\n",
    "    )\n",
    "    \n",
    "    # Log de métricas finales\n",
    "    mlflow.log_metrics({\n",
    "        \"final_accuracy\": final_metrics['accuracy'],\n",
    "        \"final_precision\": final_metrics['precision'],\n",
    "        \"final_recall\": final_metrics['recall'],\n",
    "        \"final_f1_score\": final_metrics['f1_score']\n",
    "    })\n",
    "    \n",
    "    # Crear y guardar visualizaciones\n",
    "    print(\"\\\\nGenerando visualizaciones...\")\n",
    "    \n",
    "    # 1. Gráficos de entrenamiento\n",
    "    training_plot_path = create_training_plots(\n",
    "        train_losses_history, train_accuracies_history, \n",
    "        val_losses_history, val_accuracies_history\n",
    "    )\n",
    "    mlflow.log_artifact(training_plot_path)\n",
    "    \n",
    "    # 2. Matriz de confusión\n",
    "    confusion_matrix_path, cm = create_confusion_matrix_plot(true_labels, predictions)\n",
    "    mlflow.log_artifact(confusion_matrix_path)\n",
    "    \n",
    "    # 3. Guardar reporte de clasificación\n",
    "    classification_report_path = 'classification_report.json'\n",
    "    with open(classification_report_path, 'w') as f:\n",
    "        json.dump(classification_rep, f, indent=2)\n",
    "    mlflow.log_artifact(classification_report_path)\n",
    "    \n",
    "    # 4. Guardar configuración completa\n",
    "    config_path = 'experiment_config.json'\n",
    "    complete_config = {\n",
    "        'hyperparameters': HYPERPARAMS,\n",
    "        'model_config': MODEL_CONFIG,\n",
    "        'data_config': DATA_CONFIG,\n",
    "        'code_version': code_version,\n",
    "        'dataset_info': dataset_info,\n",
    "        'model_summary': model_summary,\n",
    "        'final_metrics': final_metrics\n",
    "    }\n",
    "    \n",
    "    with open(config_path, 'w') as f:\n",
    "        json.dump(complete_config, f, indent=2)\n",
    "    mlflow.log_artifact(config_path)\n",
    "    \n",
    "    # 5. Guardar el modelo\n",
    "    print(\"\\\\nGuardando modelo...\")\n",
    "    model_path = \"bert_classifier_model\"\n",
    "    torch.save({\n",
    "        'model_state_dict': best_model_state,\n",
    "        'hyperparameters': HYPERPARAMS,\n",
    "        'model_config': MODEL_CONFIG,\n",
    "        'tokenizer_name': PRE_TRAINED_MODEL_NAME\n",
    "    }, f\"{model_path}.pth\")\n",
    "    \n",
    "    # Log del modelo en MLflow\n",
    "    mlflow.log_artifact(f\"{model_path}.pth\")\n",
    "    \n",
    "    # También registrar como modelo MLflow\n",
    "    mlflow.pytorch.log_model(\n",
    "        model,\n",
    "        \"model\",\n",
    "        registered_model_name=\"BERT_Text_Classifier\",\n",
    "        pip_requirements=[\n",
    "            f\"torch=={torch.__version__}\",\n",
    "            f\"transformers=={transformers.__version__}\",\n",
    "            \"numpy\",\n",
    "            \"scikit-learn\"\n",
    "        ]\n",
    "    )\n",
    "    \n",
    "    # RESUMEN FINAL\n",
    "    \n",
    "    print(\"\\\\n\" + \"=\"*50)\n",
    "    print(\"RESUMEN DEL EXPERIMENTO\")\n",
    "    print(\"=\"*50)\n",
    "    print(f\"MLflow Run ID: {run.info.run_id}\")\n",
    "    print(f\"Mejor Accuracy de Validación: {best_val_accuracy:.4f}\")\n",
    "    print(f\"Accuracy Final: {final_metrics['accuracy']:.4f}\")\n",
    "    print(f\"Precision Final: {final_metrics['precision']:.4f}\")\n",
    "    print(f\"Recall Final: {final_metrics['recall']:.4f}\")\n",
    "    print(f\"F1-Score Final: {final_metrics['f1_score']:.4f}\")\n",
    "    print(f\"\\\\nArtefactos guardados:\")\n",
    "    print(f\"  - Modelo: {model_path}.pth\")\n",
    "    print(f\"  - Gráficos de entrenamiento: {training_plot_path}\")\n",
    "    print(f\"  - Matriz de confusión: {confusion_matrix_path}\")\n",
    "    print(f\"  - Reporte de clasificación: {classification_report_path}\")\n",
    "    print(f\"  - Configuración completa: {config_path}\")\n",
    "    \n",
    "    # Tags para el experimento\n",
    "    mlflow.set_tags({\n",
    "        \"model_type\": \"BERT\",\n",
    "        \"task\": \"text_classification\",\n",
    "        \"language\": \"multilingual\",\n",
    "        \"framework\": \"pytorch\",\n",
    "        \"status\": \"completed\"\n",
    "    })\n",
    "\n",
    "print(\"\\\\n🎉 Experimento completado con éxito!\")\n",
    "print(f\"Revisa los resultados en MLflow UI: {mlflow.get_tracking_uri()}\")"
   ]
  },
  {
   "cell_type": "code",
   "execution_count": null,
   "id": "1d214060",
   "metadata": {},
   "outputs": [],
   "source": [
    "# ====== FUNCIONES DE UTILIDAD PARA MLFLOW ======\n",
    "\n",
    "def view_experiment_results(experiment_name=None):\n",
    "    \"\"\"Ver resultados de experimentos en MLflow\"\"\"\n",
    "    if experiment_name is None:\n",
    "        experiment_name = \"BERT_Text_Classification_Experiment\"\n",
    "    \n",
    "    experiment = mlflow.get_experiment_by_name(experiment_name)\n",
    "    if experiment is None:\n",
    "        print(f\"No se encontró el experimento: {experiment_name}\")\n",
    "        return\n",
    "    \n",
    "    # Obtener todos los runs del experimento\n",
    "    runs = mlflow.search_runs(\n",
    "        experiment_ids=[experiment.experiment_id],\n",
    "        order_by=[\"metrics.final_accuracy DESC\"]\n",
    "    )\n",
    "    \n",
    "    print(f\"\\\\n=== RESULTADOS DEL EXPERIMENTO: {experiment_name} ===\")\n",
    "    print(f\"Total de runs: {len(runs)}\")\n",
    "    \n",
    "    if len(runs) > 0:\n",
    "        # Mostrar los mejores 5 runs\n",
    "        top_runs = runs.head(5)\n",
    "        \n",
    "        print(\"\\\\n🏆 TOP 5 MEJORES RUNS:\")\n",
    "        for idx, (_, run) in enumerate(top_runs.iterrows(), 1):\n",
    "            print(f\"\\\\n{idx}. Run ID: {run['run_id'][:8]}...\")\n",
    "            print(f\"   Accuracy: {run.get('metrics.final_accuracy', 'N/A'):.4f}\")\n",
    "            print(f\"   F1-Score: {run.get('metrics.final_f1_score', 'N/A'):.4f}\")\n",
    "            print(f\"   Learning Rate: {run.get('params.learning_rate', 'N/A')}\")\n",
    "            print(f\"   Batch Size: {run.get('params.batch_size', 'N/A')}\")\n",
    "            print(f\"   Epochs: {run.get('params.epochs', 'N/A')}\")\n",
    "            print(f\"   Dropout: {run.get('params.dropout_rate', 'N/A')}\")\n",
    "        \n",
    "        # Mostrar estadísticas generales\n",
    "        print(f\"\\\\n📊 ESTADÍSTICAS GENERALES:\")\n",
    "        print(f\"   Mejor Accuracy: {runs['metrics.final_accuracy'].max():.4f}\")\n",
    "        print(f\"   Accuracy Promedio: {runs['metrics.final_accuracy'].mean():.4f}\")\n",
    "        print(f\"   Accuracy Std: {runs['metrics.final_accuracy'].std():.4f}\")\n",
    "    \n",
    "    return runs\n",
    "\n",
    "def load_best_model(experiment_name=None):\n",
    "    \"\"\"Cargar el mejor modelo del experimento\"\"\"\n",
    "    runs = view_experiment_results(experiment_name)\n",
    "    \n",
    "    if len(runs) > 0:\n",
    "        best_run = runs.iloc[0]\n",
    "        best_run_id = best_run['run_id']\n",
    "        \n",
    "        print(f\"\\\\n🎯 Cargando el mejor modelo del run: {best_run_id[:8]}...\")\n",
    "        \n",
    "        # Cargar el modelo desde MLflow\n",
    "        model_uri = f\"runs:/{best_run_id}/model\"\n",
    "        loaded_model = mlflow.pytorch.load_model(model_uri)\n",
    "        \n",
    "        print(\"✅ Modelo cargado exitosamente!\")\n",
    "        return loaded_model, best_run_id\n",
    "    else:\n",
    "        print(\"❌ No se encontraron runs en el experimento\")\n",
    "        return None, None\n",
    "\n",
    "def compare_experiments():\n",
    "    \"\"\"Comparar múltiples experimentos\"\"\"\n",
    "    # Esta función se puede expandir para comparar diferentes experimentos\n",
    "    print(\"🔍 Función de comparación de experimentos disponible\")\n",
    "    print(\"Usa view_experiment_results() para ver los resultados\")\n",
    "\n",
    "def start_mlflow_ui():\n",
    "    \"\"\"Instrucciones para iniciar MLflow UI\"\"\"\n",
    "    print(\"\\\\n🌐 Para iniciar MLflow UI, ejecuta en la terminal:\")\n",
    "    print(\"   mlflow ui\")\n",
    "    print(\"\\\\n   Luego abre: http://localhost:5000\")\n",
    "    print(\"\\\\n   Para especificar un puerto diferente:\")\n",
    "    print(\"   mlflow ui --port 5001\")\n",
    "\n",
    "# Mostrar funciones disponibles\n",
    "print(\"\\\\n🛠️  FUNCIONES DE UTILIDAD DISPONIBLES:\")\n",
    "print(\"   📊 view_experiment_results() - Ver resultados de experimentos\")\n",
    "print(\"   🎯 load_best_model() - Cargar el mejor modelo\")\n",
    "print(\"   🔍 compare_experiments() - Comparar experimentos\")\n",
    "print(\"   🌐 start_mlflow_ui() - Instrucciones para MLflow UI\")"
   ]
  },
  {
   "cell_type": "markdown",
   "id": "1c1c9191",
   "metadata": {},
   "source": [
    "# 🚀 Guía de Ejecución del Experimento con MLflow\n",
    "\n",
    "## 📋 Pasos para ejecutar el experimento completo:\n",
    "\n",
    "### 1. **Preparación del entorno**\n",
    "```bash\n",
    "# Instalar dependencias (si no están instaladas)\n",
    "pip install mlflow torch transformers scikit-learn pandas openpyxl tqdm matplotlib seaborn plotly\n",
    "```\n",
    "\n",
    "### 2. **Iniciar MLflow Tracking Server (Opcional)**\n",
    "```bash\n",
    "# En una terminal separada, ejecutar:\n",
    "mlflow ui\n",
    "\n",
    "# O en un puerto específico:\n",
    "mlflow ui --port 5000\n",
    "```\n",
    "\n",
    "### 3. **Ejecutar las celdas en orden**\n",
    "- Ejecuta todas las celdas desde el inicio\n",
    "- El experimento se registrará automáticamente en MLflow\n",
    "- Los artefactos se guardarán automáticamente\n",
    "\n",
    "### 4. **Monitorear el experimento**\n",
    "- Abre http://localhost:5000 en tu navegador\n",
    "- Ve a \"Experiments\" → \"BERT_Text_Classification_Experiment\"\n",
    "- Observa métricas en tiempo real y artefactos generados\n",
    "\n",
    "## 📊 Qué se registra automáticamente:\n",
    "\n",
    "### ✅ **Parámetros e Hiperparámetros:**\n",
    "- Learning rate, batch size, epochs, dropout rate\n",
    "- Configuración del modelo y datos\n",
    "- Versiones de librerías y código\n",
    "\n",
    "### ✅ **Métricas:**\n",
    "- Accuracy, precision, recall, F1-score\n",
    "- Loss de entrenamiento y validación por época\n",
    "- Tiempo de entrenamiento por época\n",
    "\n",
    "### ✅ **Artefactos:**\n",
    "- Modelo entrenado (.pth y MLflow model)\n",
    "- Gráficos de entrenamiento\n",
    "- Matriz de confusión\n",
    "- Reporte de clasificación completo\n",
    "- Configuración completa del experimento\n",
    "\n",
    "### ✅ **Metadatos:**\n",
    "- Hash del dataset para control de versiones\n",
    "- Información del hardware (GPU/CPU)\n",
    "- Timestamp del experimento\n",
    "- Tags para organización\n",
    "\n",
    "## 🎯 Optimización de Hiperparámetros\n",
    "\n",
    "Para optimizar hiperparámetros, modifica la variable `HYPERPARAMS` en la celda de configuración:\n",
    "\n",
    "```python\n",
    "HYPERPARAMS = {\n",
    "    'learning_rate': 3e-5,  # Prueba: [1e-5, 2e-5, 3e-5, 5e-5]\n",
    "    'epochs': 10,           # Prueba: [3, 5, 8, 10]\n",
    "    'dropout_rate': 0.2,    # Prueba: [0.1, 0.2, 0.3, 0.5]\n",
    "    'batch_size': 32,       # Prueba: [8, 16, 32]\n",
    "    'weight_decay': 0.01,   # Prueba: [0, 0.01, 0.1]\n",
    "    # ... otros parámetros\n",
    "}\n",
    "```\n",
    "\n",
    "Ejecuta múltiples experimentos con diferentes configuraciones y compara los resultados en MLflow UI.\n",
    "\n",
    "## 📈 Visualización de Resultados\n",
    "\n",
    "Usa las funciones de utilidad incluidas:\n",
    "- `view_experiment_results()` - Ver todos los experimentos\n",
    "- `load_best_model()` - Cargar el mejor modelo\n",
    "- `start_mlflow_ui()` - Instrucciones para la UI"
   ]
  }
 ],
 "metadata": {
  "colab": {
   "provenance": []
  },
  "kernelspec": {
   "display_name": "BERT_NLP (3.10.11)",
   "language": "python",
   "name": "python3"
  },
  "language_info": {
   "codemirror_mode": {
    "name": "ipython",
    "version": 3
   },
   "file_extension": ".py",
   "mimetype": "text/x-python",
   "name": "python",
   "nbconvert_exporter": "python",
   "pygments_lexer": "ipython3",
   "version": "3.10.11"
  },
  "widgets": {
   "application/vnd.jupyter.widget-state+json": {
    "01c18095e577420198d568d8d9e9c4bc": {
     "model_module": "@jupyter-widgets/base",
     "model_module_version": "1.2.0",
     "model_name": "LayoutModel",
     "state": {
      "_model_module": "@jupyter-widgets/base",
      "_model_module_version": "1.2.0",
      "_model_name": "LayoutModel",
      "_view_count": null,
      "_view_module": "@jupyter-widgets/base",
      "_view_module_version": "1.2.0",
      "_view_name": "LayoutView",
      "align_content": null,
      "align_items": null,
      "align_self": null,
      "border": null,
      "bottom": null,
      "display": null,
      "flex": null,
      "flex_flow": null,
      "grid_area": null,
      "grid_auto_columns": null,
      "grid_auto_flow": null,
      "grid_auto_rows": null,
      "grid_column": null,
      "grid_gap": null,
      "grid_row": null,
      "grid_template_areas": null,
      "grid_template_columns": null,
      "grid_template_rows": null,
      "height": null,
      "justify_content": null,
      "justify_items": null,
      "left": null,
      "margin": null,
      "max_height": null,
      "max_width": null,
      "min_height": null,
      "min_width": null,
      "object_fit": null,
      "object_position": null,
      "order": null,
      "overflow": null,
      "overflow_x": null,
      "overflow_y": null,
      "padding": null,
      "right": null,
      "top": null,
      "visibility": null,
      "width": null
     }
    },
    "0b285c545835445599a14de13da21dda": {
     "model_module": "@jupyter-widgets/controls",
     "model_module_version": "1.5.0",
     "model_name": "ProgressStyleModel",
     "state": {
      "_model_module": "@jupyter-widgets/controls",
      "_model_module_version": "1.5.0",
      "_model_name": "ProgressStyleModel",
      "_view_count": null,
      "_view_module": "@jupyter-widgets/base",
      "_view_module_version": "1.2.0",
      "_view_name": "StyleView",
      "bar_color": null,
      "description_width": ""
     }
    },
    "0dbeecf878c5414a8c0125514952210d": {
     "model_module": "@jupyter-widgets/controls",
     "model_module_version": "1.5.0",
     "model_name": "HBoxModel",
     "state": {
      "_dom_classes": [],
      "_model_module": "@jupyter-widgets/controls",
      "_model_module_version": "1.5.0",
      "_model_name": "HBoxModel",
      "_view_count": null,
      "_view_module": "@jupyter-widgets/controls",
      "_view_module_version": "1.5.0",
      "_view_name": "HBoxView",
      "box_style": "",
      "children": [
       "IPY_MODEL_37a8fd0d17a7486e9e1330436c74f7f8",
       "IPY_MODEL_f0ab5438c7da440292441520c51a7439",
       "IPY_MODEL_9a7bac0914324bf4a73fcc273e1f2782"
      ],
      "layout": "IPY_MODEL_fe2e3c1d14ad4e3fb9754655a6fb74b8"
     }
    },
    "0e75358431df464fbeeef95289d0376f": {
     "model_module": "@jupyter-widgets/base",
     "model_module_version": "1.2.0",
     "model_name": "LayoutModel",
     "state": {
      "_model_module": "@jupyter-widgets/base",
      "_model_module_version": "1.2.0",
      "_model_name": "LayoutModel",
      "_view_count": null,
      "_view_module": "@jupyter-widgets/base",
      "_view_module_version": "1.2.0",
      "_view_name": "LayoutView",
      "align_content": null,
      "align_items": null,
      "align_self": null,
      "border": null,
      "bottom": null,
      "display": null,
      "flex": null,
      "flex_flow": null,
      "grid_area": null,
      "grid_auto_columns": null,
      "grid_auto_flow": null,
      "grid_auto_rows": null,
      "grid_column": null,
      "grid_gap": null,
      "grid_row": null,
      "grid_template_areas": null,
      "grid_template_columns": null,
      "grid_template_rows": null,
      "height": null,
      "justify_content": null,
      "justify_items": null,
      "left": null,
      "margin": null,
      "max_height": null,
      "max_width": null,
      "min_height": null,
      "min_width": null,
      "object_fit": null,
      "object_position": null,
      "order": null,
      "overflow": null,
      "overflow_x": null,
      "overflow_y": null,
      "padding": null,
      "right": null,
      "top": null,
      "visibility": null,
      "width": null
     }
    },
    "11259f9c2af6449ebf0ce9f330d6a652": {
     "model_module": "@jupyter-widgets/controls",
     "model_module_version": "1.5.0",
     "model_name": "DescriptionStyleModel",
     "state": {
      "_model_module": "@jupyter-widgets/controls",
      "_model_module_version": "1.5.0",
      "_model_name": "DescriptionStyleModel",
      "_view_count": null,
      "_view_module": "@jupyter-widgets/base",
      "_view_module_version": "1.2.0",
      "_view_name": "StyleView",
      "description_width": ""
     }
    },
    "1ba70b94f11c4ef581b126eafdeaf14d": {
     "model_module": "@jupyter-widgets/controls",
     "model_module_version": "1.5.0",
     "model_name": "HTMLModel",
     "state": {
      "_dom_classes": [],
      "_model_module": "@jupyter-widgets/controls",
      "_model_module_version": "1.5.0",
      "_model_name": "HTMLModel",
      "_view_count": null,
      "_view_module": "@jupyter-widgets/controls",
      "_view_module_version": "1.5.0",
      "_view_name": "HTMLView",
      "description": "",
      "description_tooltip": null,
      "layout": "IPY_MODEL_58f8405c19be432a8c8dc37e0993eee5",
      "placeholder": "​",
      "style": "IPY_MODEL_e67bfe00480343f593c472dca458a6e0",
      "value": " 7/7 [01:02&lt;00:00,  7.36s/it, acc=0.42, loss=1.61]"
     }
    },
    "1d5bbbad5fe14b29859d945b69488fe0": {
     "model_module": "@jupyter-widgets/controls",
     "model_module_version": "1.5.0",
     "model_name": "HBoxModel",
     "state": {
      "_dom_classes": [],
      "_model_module": "@jupyter-widgets/controls",
      "_model_module_version": "1.5.0",
      "_model_name": "HBoxModel",
      "_view_count": null,
      "_view_module": "@jupyter-widgets/controls",
      "_view_module_version": "1.5.0",
      "_view_name": "HBoxView",
      "box_style": "",
      "children": [
       "IPY_MODEL_db82bd644a78431d83ec151ffdb2a460",
       "IPY_MODEL_986f65a5ce344e128c60c7178717c064",
       "IPY_MODEL_1ba70b94f11c4ef581b126eafdeaf14d"
      ],
      "layout": "IPY_MODEL_581fc0e033654b3b955dae5c1387afeb"
     }
    },
    "20afafad9565443f9b8a24822fd75a17": {
     "model_module": "@jupyter-widgets/base",
     "model_module_version": "1.2.0",
     "model_name": "LayoutModel",
     "state": {
      "_model_module": "@jupyter-widgets/base",
      "_model_module_version": "1.2.0",
      "_model_name": "LayoutModel",
      "_view_count": null,
      "_view_module": "@jupyter-widgets/base",
      "_view_module_version": "1.2.0",
      "_view_name": "LayoutView",
      "align_content": null,
      "align_items": null,
      "align_self": null,
      "border": null,
      "bottom": null,
      "display": null,
      "flex": null,
      "flex_flow": null,
      "grid_area": null,
      "grid_auto_columns": null,
      "grid_auto_flow": null,
      "grid_auto_rows": null,
      "grid_column": null,
      "grid_gap": null,
      "grid_row": null,
      "grid_template_areas": null,
      "grid_template_columns": null,
      "grid_template_rows": null,
      "height": null,
      "justify_content": null,
      "justify_items": null,
      "left": null,
      "margin": null,
      "max_height": null,
      "max_width": null,
      "min_height": null,
      "min_width": null,
      "object_fit": null,
      "object_position": null,
      "order": null,
      "overflow": null,
      "overflow_x": null,
      "overflow_y": null,
      "padding": null,
      "right": null,
      "top": null,
      "visibility": null,
      "width": null
     }
    },
    "34f140a4e8f34d31b9a5a90e94dcc29d": {
     "model_module": "@jupyter-widgets/controls",
     "model_module_version": "1.5.0",
     "model_name": "DescriptionStyleModel",
     "state": {
      "_model_module": "@jupyter-widgets/controls",
      "_model_module_version": "1.5.0",
      "_model_name": "DescriptionStyleModel",
      "_view_count": null,
      "_view_module": "@jupyter-widgets/base",
      "_view_module_version": "1.2.0",
      "_view_name": "StyleView",
      "description_width": ""
     }
    },
    "37a8fd0d17a7486e9e1330436c74f7f8": {
     "model_module": "@jupyter-widgets/controls",
     "model_module_version": "1.5.0",
     "model_name": "HTMLModel",
     "state": {
      "_dom_classes": [],
      "_model_module": "@jupyter-widgets/controls",
      "_model_module_version": "1.5.0",
      "_model_name": "HTMLModel",
      "_view_count": null,
      "_view_module": "@jupyter-widgets/controls",
      "_view_module_version": "1.5.0",
      "_view_name": "HTMLView",
      "description": "",
      "description_tooltip": null,
      "layout": "IPY_MODEL_54a69ae7858d400499b9f6b69d1d759c",
      "placeholder": "​",
      "style": "IPY_MODEL_62ee21f802554d8caccf1cbfe5e72289",
      "value": "Epoch 2/5 - Train:   0%"
     }
    },
    "3f071e50d6dd4715be84bec32c543ecc": {
     "model_module": "@jupyter-widgets/controls",
     "model_module_version": "1.5.0",
     "model_name": "HBoxModel",
     "state": {
      "_dom_classes": [],
      "_model_module": "@jupyter-widgets/controls",
      "_model_module_version": "1.5.0",
      "_model_name": "HBoxModel",
      "_view_count": null,
      "_view_module": "@jupyter-widgets/controls",
      "_view_module_version": "1.5.0",
      "_view_name": "HBoxView",
      "box_style": "",
      "children": [
       "IPY_MODEL_c1bea4a54a2c4e32b88388021662a389",
       "IPY_MODEL_e9f534a8f87d4c6c91203cb35b7cb62e",
       "IPY_MODEL_653c7cfaa56248a6868b9be62cc53517"
      ],
      "layout": "IPY_MODEL_af380d17fdd2452db5dd3ccbe52e9de8"
     }
    },
    "54a69ae7858d400499b9f6b69d1d759c": {
     "model_module": "@jupyter-widgets/base",
     "model_module_version": "1.2.0",
     "model_name": "LayoutModel",
     "state": {
      "_model_module": "@jupyter-widgets/base",
      "_model_module_version": "1.2.0",
      "_model_name": "LayoutModel",
      "_view_count": null,
      "_view_module": "@jupyter-widgets/base",
      "_view_module_version": "1.2.0",
      "_view_name": "LayoutView",
      "align_content": null,
      "align_items": null,
      "align_self": null,
      "border": null,
      "bottom": null,
      "display": null,
      "flex": null,
      "flex_flow": null,
      "grid_area": null,
      "grid_auto_columns": null,
      "grid_auto_flow": null,
      "grid_auto_rows": null,
      "grid_column": null,
      "grid_gap": null,
      "grid_row": null,
      "grid_template_areas": null,
      "grid_template_columns": null,
      "grid_template_rows": null,
      "height": null,
      "justify_content": null,
      "justify_items": null,
      "left": null,
      "margin": null,
      "max_height": null,
      "max_width": null,
      "min_height": null,
      "min_width": null,
      "object_fit": null,
      "object_position": null,
      "order": null,
      "overflow": null,
      "overflow_x": null,
      "overflow_y": null,
      "padding": null,
      "right": null,
      "top": null,
      "visibility": null,
      "width": null
     }
    },
    "55557f8eb7534e35b422e1edf8a11be7": {
     "model_module": "@jupyter-widgets/base",
     "model_module_version": "1.2.0",
     "model_name": "LayoutModel",
     "state": {
      "_model_module": "@jupyter-widgets/base",
      "_model_module_version": "1.2.0",
      "_model_name": "LayoutModel",
      "_view_count": null,
      "_view_module": "@jupyter-widgets/base",
      "_view_module_version": "1.2.0",
      "_view_name": "LayoutView",
      "align_content": null,
      "align_items": null,
      "align_self": null,
      "border": null,
      "bottom": null,
      "display": null,
      "flex": null,
      "flex_flow": null,
      "grid_area": null,
      "grid_auto_columns": null,
      "grid_auto_flow": null,
      "grid_auto_rows": null,
      "grid_column": null,
      "grid_gap": null,
      "grid_row": null,
      "grid_template_areas": null,
      "grid_template_columns": null,
      "grid_template_rows": null,
      "height": null,
      "justify_content": null,
      "justify_items": null,
      "left": null,
      "margin": null,
      "max_height": null,
      "max_width": null,
      "min_height": null,
      "min_width": null,
      "object_fit": null,
      "object_position": null,
      "order": null,
      "overflow": null,
      "overflow_x": null,
      "overflow_y": null,
      "padding": null,
      "right": null,
      "top": null,
      "visibility": null,
      "width": null
     }
    },
    "581fc0e033654b3b955dae5c1387afeb": {
     "model_module": "@jupyter-widgets/base",
     "model_module_version": "1.2.0",
     "model_name": "LayoutModel",
     "state": {
      "_model_module": "@jupyter-widgets/base",
      "_model_module_version": "1.2.0",
      "_model_name": "LayoutModel",
      "_view_count": null,
      "_view_module": "@jupyter-widgets/base",
      "_view_module_version": "1.2.0",
      "_view_name": "LayoutView",
      "align_content": null,
      "align_items": null,
      "align_self": null,
      "border": null,
      "bottom": null,
      "display": null,
      "flex": null,
      "flex_flow": null,
      "grid_area": null,
      "grid_auto_columns": null,
      "grid_auto_flow": null,
      "grid_auto_rows": null,
      "grid_column": null,
      "grid_gap": null,
      "grid_row": null,
      "grid_template_areas": null,
      "grid_template_columns": null,
      "grid_template_rows": null,
      "height": null,
      "justify_content": null,
      "justify_items": null,
      "left": null,
      "margin": null,
      "max_height": null,
      "max_width": null,
      "min_height": null,
      "min_width": null,
      "object_fit": null,
      "object_position": null,
      "order": null,
      "overflow": null,
      "overflow_x": null,
      "overflow_y": null,
      "padding": null,
      "right": null,
      "top": null,
      "visibility": "hidden",
      "width": null
     }
    },
    "58f8405c19be432a8c8dc37e0993eee5": {
     "model_module": "@jupyter-widgets/base",
     "model_module_version": "1.2.0",
     "model_name": "LayoutModel",
     "state": {
      "_model_module": "@jupyter-widgets/base",
      "_model_module_version": "1.2.0",
      "_model_name": "LayoutModel",
      "_view_count": null,
      "_view_module": "@jupyter-widgets/base",
      "_view_module_version": "1.2.0",
      "_view_name": "LayoutView",
      "align_content": null,
      "align_items": null,
      "align_self": null,
      "border": null,
      "bottom": null,
      "display": null,
      "flex": null,
      "flex_flow": null,
      "grid_area": null,
      "grid_auto_columns": null,
      "grid_auto_flow": null,
      "grid_auto_rows": null,
      "grid_column": null,
      "grid_gap": null,
      "grid_row": null,
      "grid_template_areas": null,
      "grid_template_columns": null,
      "grid_template_rows": null,
      "height": null,
      "justify_content": null,
      "justify_items": null,
      "left": null,
      "margin": null,
      "max_height": null,
      "max_width": null,
      "min_height": null,
      "min_width": null,
      "object_fit": null,
      "object_position": null,
      "order": null,
      "overflow": null,
      "overflow_x": null,
      "overflow_y": null,
      "padding": null,
      "right": null,
      "top": null,
      "visibility": null,
      "width": null
     }
    },
    "62ee21f802554d8caccf1cbfe5e72289": {
     "model_module": "@jupyter-widgets/controls",
     "model_module_version": "1.5.0",
     "model_name": "DescriptionStyleModel",
     "state": {
      "_model_module": "@jupyter-widgets/controls",
      "_model_module_version": "1.5.0",
      "_model_name": "DescriptionStyleModel",
      "_view_count": null,
      "_view_module": "@jupyter-widgets/base",
      "_view_module_version": "1.2.0",
      "_view_name": "StyleView",
      "description_width": ""
     }
    },
    "653c7cfaa56248a6868b9be62cc53517": {
     "model_module": "@jupyter-widgets/controls",
     "model_module_version": "1.5.0",
     "model_name": "HTMLModel",
     "state": {
      "_dom_classes": [],
      "_model_module": "@jupyter-widgets/controls",
      "_model_module_version": "1.5.0",
      "_model_name": "HTMLModel",
      "_view_count": null,
      "_view_module": "@jupyter-widgets/controls",
      "_view_module_version": "1.5.0",
      "_view_name": "HTMLView",
      "description": "",
      "description_tooltip": null,
      "layout": "IPY_MODEL_01c18095e577420198d568d8d9e9c4bc",
      "placeholder": "​",
      "style": "IPY_MODEL_34f140a4e8f34d31b9a5a90e94dcc29d",
      "value": " 25/25 [15:05&lt;00:00, 34.16s/it, acc=0.25, loss=1.71]"
     }
    },
    "986f65a5ce344e128c60c7178717c064": {
     "model_module": "@jupyter-widgets/controls",
     "model_module_version": "1.5.0",
     "model_name": "FloatProgressModel",
     "state": {
      "_dom_classes": [],
      "_model_module": "@jupyter-widgets/controls",
      "_model_module_version": "1.5.0",
      "_model_name": "FloatProgressModel",
      "_view_count": null,
      "_view_module": "@jupyter-widgets/controls",
      "_view_module_version": "1.5.0",
      "_view_name": "ProgressView",
      "bar_style": "",
      "description": "",
      "description_tooltip": null,
      "layout": "IPY_MODEL_d0dcf8cfc5734f049fdf61732434bd0e",
      "max": 7,
      "min": 0,
      "orientation": "horizontal",
      "style": "IPY_MODEL_a35897430ca3498493fd46ba5252d166",
      "value": 7
     }
    },
    "9a7bac0914324bf4a73fcc273e1f2782": {
     "model_module": "@jupyter-widgets/controls",
     "model_module_version": "1.5.0",
     "model_name": "HTMLModel",
     "state": {
      "_dom_classes": [],
      "_model_module": "@jupyter-widgets/controls",
      "_model_module_version": "1.5.0",
      "_model_name": "HTMLModel",
      "_view_count": null,
      "_view_module": "@jupyter-widgets/controls",
      "_view_module_version": "1.5.0",
      "_view_name": "HTMLView",
      "description": "",
      "description_tooltip": null,
      "layout": "IPY_MODEL_20afafad9565443f9b8a24822fd75a17",
      "placeholder": "​",
      "style": "IPY_MODEL_a8c906ef10e542269658d0aa8ba9aae6",
      "value": " 0/25 [00:00&lt;?, ?it/s]"
     }
    },
    "a10791021d354dc9aa2c1c2347bbf287": {
     "model_module": "@jupyter-widgets/base",
     "model_module_version": "1.2.0",
     "model_name": "LayoutModel",
     "state": {
      "_model_module": "@jupyter-widgets/base",
      "_model_module_version": "1.2.0",
      "_model_name": "LayoutModel",
      "_view_count": null,
      "_view_module": "@jupyter-widgets/base",
      "_view_module_version": "1.2.0",
      "_view_name": "LayoutView",
      "align_content": null,
      "align_items": null,
      "align_self": null,
      "border": null,
      "bottom": null,
      "display": null,
      "flex": null,
      "flex_flow": null,
      "grid_area": null,
      "grid_auto_columns": null,
      "grid_auto_flow": null,
      "grid_auto_rows": null,
      "grid_column": null,
      "grid_gap": null,
      "grid_row": null,
      "grid_template_areas": null,
      "grid_template_columns": null,
      "grid_template_rows": null,
      "height": null,
      "justify_content": null,
      "justify_items": null,
      "left": null,
      "margin": null,
      "max_height": null,
      "max_width": null,
      "min_height": null,
      "min_width": null,
      "object_fit": null,
      "object_position": null,
      "order": null,
      "overflow": null,
      "overflow_x": null,
      "overflow_y": null,
      "padding": null,
      "right": null,
      "top": null,
      "visibility": null,
      "width": null
     }
    },
    "a26b00a67b41476faeaf72174ed4e674": {
     "model_module": "@jupyter-widgets/controls",
     "model_module_version": "1.5.0",
     "model_name": "DescriptionStyleModel",
     "state": {
      "_model_module": "@jupyter-widgets/controls",
      "_model_module_version": "1.5.0",
      "_model_name": "DescriptionStyleModel",
      "_view_count": null,
      "_view_module": "@jupyter-widgets/base",
      "_view_module_version": "1.2.0",
      "_view_name": "StyleView",
      "description_width": ""
     }
    },
    "a35897430ca3498493fd46ba5252d166": {
     "model_module": "@jupyter-widgets/controls",
     "model_module_version": "1.5.0",
     "model_name": "ProgressStyleModel",
     "state": {
      "_model_module": "@jupyter-widgets/controls",
      "_model_module_version": "1.5.0",
      "_model_name": "ProgressStyleModel",
      "_view_count": null,
      "_view_module": "@jupyter-widgets/base",
      "_view_module_version": "1.2.0",
      "_view_name": "StyleView",
      "bar_color": null,
      "description_width": ""
     }
    },
    "a8c906ef10e542269658d0aa8ba9aae6": {
     "model_module": "@jupyter-widgets/controls",
     "model_module_version": "1.5.0",
     "model_name": "DescriptionStyleModel",
     "state": {
      "_model_module": "@jupyter-widgets/controls",
      "_model_module_version": "1.5.0",
      "_model_name": "DescriptionStyleModel",
      "_view_count": null,
      "_view_module": "@jupyter-widgets/base",
      "_view_module_version": "1.2.0",
      "_view_name": "StyleView",
      "description_width": ""
     }
    },
    "a9390d4509ea4455bb057c27e73a74cb": {
     "model_module": "@jupyter-widgets/base",
     "model_module_version": "1.2.0",
     "model_name": "LayoutModel",
     "state": {
      "_model_module": "@jupyter-widgets/base",
      "_model_module_version": "1.2.0",
      "_model_name": "LayoutModel",
      "_view_count": null,
      "_view_module": "@jupyter-widgets/base",
      "_view_module_version": "1.2.0",
      "_view_name": "LayoutView",
      "align_content": null,
      "align_items": null,
      "align_self": null,
      "border": null,
      "bottom": null,
      "display": null,
      "flex": null,
      "flex_flow": null,
      "grid_area": null,
      "grid_auto_columns": null,
      "grid_auto_flow": null,
      "grid_auto_rows": null,
      "grid_column": null,
      "grid_gap": null,
      "grid_row": null,
      "grid_template_areas": null,
      "grid_template_columns": null,
      "grid_template_rows": null,
      "height": null,
      "justify_content": null,
      "justify_items": null,
      "left": null,
      "margin": null,
      "max_height": null,
      "max_width": null,
      "min_height": null,
      "min_width": null,
      "object_fit": null,
      "object_position": null,
      "order": null,
      "overflow": null,
      "overflow_x": null,
      "overflow_y": null,
      "padding": null,
      "right": null,
      "top": null,
      "visibility": null,
      "width": null
     }
    },
    "af380d17fdd2452db5dd3ccbe52e9de8": {
     "model_module": "@jupyter-widgets/base",
     "model_module_version": "1.2.0",
     "model_name": "LayoutModel",
     "state": {
      "_model_module": "@jupyter-widgets/base",
      "_model_module_version": "1.2.0",
      "_model_name": "LayoutModel",
      "_view_count": null,
      "_view_module": "@jupyter-widgets/base",
      "_view_module_version": "1.2.0",
      "_view_name": "LayoutView",
      "align_content": null,
      "align_items": null,
      "align_self": null,
      "border": null,
      "bottom": null,
      "display": null,
      "flex": null,
      "flex_flow": null,
      "grid_area": null,
      "grid_auto_columns": null,
      "grid_auto_flow": null,
      "grid_auto_rows": null,
      "grid_column": null,
      "grid_gap": null,
      "grid_row": null,
      "grid_template_areas": null,
      "grid_template_columns": null,
      "grid_template_rows": null,
      "height": null,
      "justify_content": null,
      "justify_items": null,
      "left": null,
      "margin": null,
      "max_height": null,
      "max_width": null,
      "min_height": null,
      "min_width": null,
      "object_fit": null,
      "object_position": null,
      "order": null,
      "overflow": null,
      "overflow_x": null,
      "overflow_y": null,
      "padding": null,
      "right": null,
      "top": null,
      "visibility": "hidden",
      "width": null
     }
    },
    "c1bea4a54a2c4e32b88388021662a389": {
     "model_module": "@jupyter-widgets/controls",
     "model_module_version": "1.5.0",
     "model_name": "HTMLModel",
     "state": {
      "_dom_classes": [],
      "_model_module": "@jupyter-widgets/controls",
      "_model_module_version": "1.5.0",
      "_model_name": "HTMLModel",
      "_view_count": null,
      "_view_module": "@jupyter-widgets/controls",
      "_view_module_version": "1.5.0",
      "_view_name": "HTMLView",
      "description": "",
      "description_tooltip": null,
      "layout": "IPY_MODEL_a9390d4509ea4455bb057c27e73a74cb",
      "placeholder": "​",
      "style": "IPY_MODEL_a26b00a67b41476faeaf72174ed4e674",
      "value": "Epoch 1/5 - Train: 100%"
     }
    },
    "d0dcf8cfc5734f049fdf61732434bd0e": {
     "model_module": "@jupyter-widgets/base",
     "model_module_version": "1.2.0",
     "model_name": "LayoutModel",
     "state": {
      "_model_module": "@jupyter-widgets/base",
      "_model_module_version": "1.2.0",
      "_model_name": "LayoutModel",
      "_view_count": null,
      "_view_module": "@jupyter-widgets/base",
      "_view_module_version": "1.2.0",
      "_view_name": "LayoutView",
      "align_content": null,
      "align_items": null,
      "align_self": null,
      "border": null,
      "bottom": null,
      "display": null,
      "flex": null,
      "flex_flow": null,
      "grid_area": null,
      "grid_auto_columns": null,
      "grid_auto_flow": null,
      "grid_auto_rows": null,
      "grid_column": null,
      "grid_gap": null,
      "grid_row": null,
      "grid_template_areas": null,
      "grid_template_columns": null,
      "grid_template_rows": null,
      "height": null,
      "justify_content": null,
      "justify_items": null,
      "left": null,
      "margin": null,
      "max_height": null,
      "max_width": null,
      "min_height": null,
      "min_width": null,
      "object_fit": null,
      "object_position": null,
      "order": null,
      "overflow": null,
      "overflow_x": null,
      "overflow_y": null,
      "padding": null,
      "right": null,
      "top": null,
      "visibility": null,
      "width": null
     }
    },
    "db82bd644a78431d83ec151ffdb2a460": {
     "model_module": "@jupyter-widgets/controls",
     "model_module_version": "1.5.0",
     "model_name": "HTMLModel",
     "state": {
      "_dom_classes": [],
      "_model_module": "@jupyter-widgets/controls",
      "_model_module_version": "1.5.0",
      "_model_name": "HTMLModel",
      "_view_count": null,
      "_view_module": "@jupyter-widgets/controls",
      "_view_module_version": "1.5.0",
      "_view_name": "HTMLView",
      "description": "",
      "description_tooltip": null,
      "layout": "IPY_MODEL_0e75358431df464fbeeef95289d0376f",
      "placeholder": "​",
      "style": "IPY_MODEL_11259f9c2af6449ebf0ce9f330d6a652",
      "value": "Epoch 1/5 - Eval: 100%"
     }
    },
    "e67bfe00480343f593c472dca458a6e0": {
     "model_module": "@jupyter-widgets/controls",
     "model_module_version": "1.5.0",
     "model_name": "DescriptionStyleModel",
     "state": {
      "_model_module": "@jupyter-widgets/controls",
      "_model_module_version": "1.5.0",
      "_model_name": "DescriptionStyleModel",
      "_view_count": null,
      "_view_module": "@jupyter-widgets/base",
      "_view_module_version": "1.2.0",
      "_view_name": "StyleView",
      "description_width": ""
     }
    },
    "e9f534a8f87d4c6c91203cb35b7cb62e": {
     "model_module": "@jupyter-widgets/controls",
     "model_module_version": "1.5.0",
     "model_name": "FloatProgressModel",
     "state": {
      "_dom_classes": [],
      "_model_module": "@jupyter-widgets/controls",
      "_model_module_version": "1.5.0",
      "_model_name": "FloatProgressModel",
      "_view_count": null,
      "_view_module": "@jupyter-widgets/controls",
      "_view_module_version": "1.5.0",
      "_view_name": "ProgressView",
      "bar_style": "",
      "description": "",
      "description_tooltip": null,
      "layout": "IPY_MODEL_55557f8eb7534e35b422e1edf8a11be7",
      "max": 25,
      "min": 0,
      "orientation": "horizontal",
      "style": "IPY_MODEL_f43978d5ad784e629dea7ef2ce272be2",
      "value": 25
     }
    },
    "f0ab5438c7da440292441520c51a7439": {
     "model_module": "@jupyter-widgets/controls",
     "model_module_version": "1.5.0",
     "model_name": "FloatProgressModel",
     "state": {
      "_dom_classes": [],
      "_model_module": "@jupyter-widgets/controls",
      "_model_module_version": "1.5.0",
      "_model_name": "FloatProgressModel",
      "_view_count": null,
      "_view_module": "@jupyter-widgets/controls",
      "_view_module_version": "1.5.0",
      "_view_name": "ProgressView",
      "bar_style": "",
      "description": "",
      "description_tooltip": null,
      "layout": "IPY_MODEL_a10791021d354dc9aa2c1c2347bbf287",
      "max": 25,
      "min": 0,
      "orientation": "horizontal",
      "style": "IPY_MODEL_0b285c545835445599a14de13da21dda",
      "value": 0
     }
    },
    "f43978d5ad784e629dea7ef2ce272be2": {
     "model_module": "@jupyter-widgets/controls",
     "model_module_version": "1.5.0",
     "model_name": "ProgressStyleModel",
     "state": {
      "_model_module": "@jupyter-widgets/controls",
      "_model_module_version": "1.5.0",
      "_model_name": "ProgressStyleModel",
      "_view_count": null,
      "_view_module": "@jupyter-widgets/base",
      "_view_module_version": "1.2.0",
      "_view_name": "StyleView",
      "bar_color": null,
      "description_width": ""
     }
    },
    "fe2e3c1d14ad4e3fb9754655a6fb74b8": {
     "model_module": "@jupyter-widgets/base",
     "model_module_version": "1.2.0",
     "model_name": "LayoutModel",
     "state": {
      "_model_module": "@jupyter-widgets/base",
      "_model_module_version": "1.2.0",
      "_model_name": "LayoutModel",
      "_view_count": null,
      "_view_module": "@jupyter-widgets/base",
      "_view_module_version": "1.2.0",
      "_view_name": "LayoutView",
      "align_content": null,
      "align_items": null,
      "align_self": null,
      "border": null,
      "bottom": null,
      "display": null,
      "flex": null,
      "flex_flow": null,
      "grid_area": null,
      "grid_auto_columns": null,
      "grid_auto_flow": null,
      "grid_auto_rows": null,
      "grid_column": null,
      "grid_gap": null,
      "grid_row": null,
      "grid_template_areas": null,
      "grid_template_columns": null,
      "grid_template_rows": null,
      "height": null,
      "justify_content": null,
      "justify_items": null,
      "left": null,
      "margin": null,
      "max_height": null,
      "max_width": null,
      "min_height": null,
      "min_width": null,
      "object_fit": null,
      "object_position": null,
      "order": null,
      "overflow": null,
      "overflow_x": null,
      "overflow_y": null,
      "padding": null,
      "right": null,
      "top": null,
      "visibility": null,
      "width": null
     }
    }
   }
  }
 },
 "nbformat": 4,
 "nbformat_minor": 5
}
