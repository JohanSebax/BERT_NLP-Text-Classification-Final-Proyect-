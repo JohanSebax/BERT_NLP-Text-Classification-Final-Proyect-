{
  "cells": [
    {
      "cell_type": "code",
      "execution_count": 121,
      "id": "7b415d35",
      "metadata": {
        "id": "7b415d35"
      },
      "outputs": [],
      "source": [
        "from transformers import BertModel, BertTokenizer, AdamWeightDecay, get_linear_schedule_with_warmup\n",
        "import torch\n",
        "import numpy as np\n",
        "from sklearn.model_selection import train_test_split\n",
        "from torch import nn, optim\n",
        "from torch.utils.data import DataLoader, Dataset\n",
        "import pandas as pd\n",
        "from textwrap import wrap"
      ]
    },
    {
      "cell_type": "code",
      "execution_count": 122,
      "id": "91217330",
      "metadata": {
        "colab": {
          "base_uri": "https://localhost:8080/"
        },
        "id": "91217330",
        "outputId": "9f2a156b-3344-4c0e-e70d-f47459da869a"
      },
      "outputs": [
        {
          "name": "stdout",
          "output_type": "stream",
          "text": [
            "Using device: cuda:0\n"
          ]
        }
      ],
      "source": [
        "# Inicialization of the BERT model\n",
        "RANDOM_SEED = 42\n",
        "MAX_LEN = 500\n",
        "BATCH_SIZE = 16\n",
        "DATASET_PATH = \"historias_clinicas_procesadas.xlsx\"\n",
        "NCLASS = 6\n",
        "\n",
        "np.random.seed(RANDOM_SEED)\n",
        "torch.manual_seed(RANDOM_SEED)\n",
        "device = torch.device(\"cuda:0\" if torch.cuda.is_available() else \"cpu\")\n",
        "print(f\"Using device: {device}\")"
      ]
    },
    {
      "cell_type": "code",
      "execution_count": 123,
      "id": "132a2098",
      "metadata": {},
      "outputs": [
        {
          "data": {
            "text/plain": [
              "True"
            ]
          },
          "execution_count": 123,
          "metadata": {},
          "output_type": "execute_result"
        }
      ],
      "source": [
        "import torch\n",
        "torch.cuda.is_available()"
      ]
    },
    {
      "cell_type": "code",
      "execution_count": 124,
      "id": "7a1a589d",
      "metadata": {},
      "outputs": [
        {
          "name": "stdout",
          "output_type": "stream",
          "text": [
            "True\n",
            "12.8\n"
          ]
        }
      ],
      "source": [
        "import torch\n",
        "print(torch.cuda.is_available())\n",
        "print(torch.version.cuda)"
      ]
    },
    {
      "cell_type": "code",
      "execution_count": 125,
      "id": "2f1260e3",
      "metadata": {},
      "outputs": [
        {
          "name": "stdout",
          "output_type": "stream",
          "text": [
            "CUDA disponible: True\n",
            "Versión compilada con PyTorch: 12.8\n",
            "Versión de cuDNN: 91002\n",
            "Nombre de GPU: NVIDIA GeForce RTX 4060 Laptop GPU\n"
          ]
        }
      ],
      "source": [
        "print(\"CUDA disponible:\", torch.cuda.is_available())\n",
        "print(\"Versión compilada con PyTorch:\", torch.version.cuda)\n",
        "print(\"Versión de cuDNN:\", torch.backends.cudnn.version())\n",
        "print(\"Nombre de GPU:\", torch.cuda.get_device_name(0))"
      ]
    },
    {
      "cell_type": "code",
      "execution_count": 126,
      "id": "302ae9b5",
      "metadata": {
        "colab": {
          "base_uri": "https://localhost:8080/",
          "height": 206
        },
        "id": "302ae9b5",
        "outputId": "9d0c0a0f-bc04-4476-cfeb-ac31907d4843"
      },
      "outputs": [
        {
          "data": {
            "text/html": [
              "<div>\n",
              "<style scoped>\n",
              "    .dataframe tbody tr th:only-of-type {\n",
              "        vertical-align: middle;\n",
              "    }\n",
              "\n",
              "    .dataframe tbody tr th {\n",
              "        vertical-align: top;\n",
              "    }\n",
              "\n",
              "    .dataframe thead th {\n",
              "        text-align: right;\n",
              "    }\n",
              "</style>\n",
              "<table border=\"1\" class=\"dataframe\">\n",
              "  <thead>\n",
              "    <tr style=\"text-align: right;\">\n",
              "      <th></th>\n",
              "      <th>sexo</th>\n",
              "      <th>edad</th>\n",
              "      <th>grupo</th>\n",
              "      <th>especialidad_medica</th>\n",
              "      <th>subjetivo</th>\n",
              "      <th>objetivo</th>\n",
              "      <th>concatenada</th>\n",
              "      <th>sexo_codificado</th>\n",
              "      <th>grupo_codificado</th>\n",
              "    </tr>\n",
              "  </thead>\n",
              "  <tbody>\n",
              "    <tr>\n",
              "      <th>0</th>\n",
              "      <td>Femenino</td>\n",
              "      <td>38</td>\n",
              "      <td>Otros trastornos</td>\n",
              "      <td>PSICOLOGÍA</td>\n",
              "      <td>Paciente refiere: \"Me empezaron a dar como uno...</td>\n",
              "      <td>Paciente alerta, colaboradora con apariencia o...</td>\n",
              "      <td>['empezar', 'episodio', 'tom', 'pastilla', 'do...</td>\n",
              "      <td>0</td>\n",
              "      <td>0</td>\n",
              "    </tr>\n",
              "    <tr>\n",
              "      <th>1</th>\n",
              "      <td>Masculino</td>\n",
              "      <td>22</td>\n",
              "      <td>T. externalizantes</td>\n",
              "      <td>PSICOLOGÍA</td>\n",
              "      <td>Paciente refiere \"Me he sentido muy mal, en el...</td>\n",
              "      <td>Paciente a quien evaluó por primera vez, alert...</td>\n",
              "      <td>['sentido', 'trabajar', 'concentrar yo', 'cosa...</td>\n",
              "      <td>1</td>\n",
              "      <td>4</td>\n",
              "    </tr>\n",
              "    <tr>\n",
              "      <th>2</th>\n",
              "      <td>Masculino</td>\n",
              "      <td>9</td>\n",
              "      <td>Otros trastornos</td>\n",
              "      <td>PSICOLOGÍA</td>\n",
              "      <td>La madre refiere \"el viene por un acompañamien...</td>\n",
              "      <td>NaN</td>\n",
              "      <td>['madre', 'venir', 'acompañamiento', 'emociona...</td>\n",
              "      <td>1</td>\n",
              "      <td>0</td>\n",
              "    </tr>\n",
              "    <tr>\n",
              "      <th>3</th>\n",
              "      <td>Masculino</td>\n",
              "      <td>28</td>\n",
              "      <td>Otros trastornos</td>\n",
              "      <td>PSICOLOGÍA</td>\n",
              "      <td>Paciente refiere \"Estas cosas que han pasado m...</td>\n",
              "      <td>Paciente quien evalúo por primera vez, alerta,...</td>\n",
              "      <td>['cosa', 'problema', 'empresa', 'ocasión', 'sa...</td>\n",
              "      <td>1</td>\n",
              "      <td>0</td>\n",
              "    </tr>\n",
              "    <tr>\n",
              "      <th>4</th>\n",
              "      <td>Femenino</td>\n",
              "      <td>8</td>\n",
              "      <td>Otros trastornos</td>\n",
              "      <td>PSICOLOGÍA</td>\n",
              "      <td>La madre refiere \"Ella ha manifestado ciertas ...</td>\n",
              "      <td>Paciente ingresa en compañía de la madre, aler...</td>\n",
              "      <td>['madre', 'manifestar', 'conducta', 'palabrase...</td>\n",
              "      <td>0</td>\n",
              "      <td>0</td>\n",
              "    </tr>\n",
              "  </tbody>\n",
              "</table>\n",
              "</div>"
            ],
            "text/plain": [
              "        sexo  edad               grupo especialidad_medica  \\\n",
              "0   Femenino    38    Otros trastornos          PSICOLOGÍA   \n",
              "1  Masculino    22  T. externalizantes          PSICOLOGÍA   \n",
              "2  Masculino     9    Otros trastornos          PSICOLOGÍA   \n",
              "3  Masculino    28    Otros trastornos          PSICOLOGÍA   \n",
              "4   Femenino     8    Otros trastornos          PSICOLOGÍA   \n",
              "\n",
              "                                           subjetivo  \\\n",
              "0  Paciente refiere: \"Me empezaron a dar como uno...   \n",
              "1  Paciente refiere \"Me he sentido muy mal, en el...   \n",
              "2  La madre refiere \"el viene por un acompañamien...   \n",
              "3  Paciente refiere \"Estas cosas que han pasado m...   \n",
              "4  La madre refiere \"Ella ha manifestado ciertas ...   \n",
              "\n",
              "                                            objetivo  \\\n",
              "0  Paciente alerta, colaboradora con apariencia o...   \n",
              "1  Paciente a quien evaluó por primera vez, alert...   \n",
              "2                                                NaN   \n",
              "3  Paciente quien evalúo por primera vez, alerta,...   \n",
              "4  Paciente ingresa en compañía de la madre, aler...   \n",
              "\n",
              "                                         concatenada  sexo_codificado  \\\n",
              "0  ['empezar', 'episodio', 'tom', 'pastilla', 'do...                0   \n",
              "1  ['sentido', 'trabajar', 'concentrar yo', 'cosa...                1   \n",
              "2  ['madre', 'venir', 'acompañamiento', 'emociona...                1   \n",
              "3  ['cosa', 'problema', 'empresa', 'ocasión', 'sa...                1   \n",
              "4  ['madre', 'manifestar', 'conducta', 'palabrase...                0   \n",
              "\n",
              "   grupo_codificado  \n",
              "0                 0  \n",
              "1                 4  \n",
              "2                 0  \n",
              "3                 0  \n",
              "4                 0  "
            ]
          },
          "execution_count": 126,
          "metadata": {},
          "output_type": "execute_result"
        }
      ],
      "source": [
        "# Cargar dataset\n",
        "\n",
        "df = pd.read_excel(DATASET_PATH)\n",
        "df.head()\n"
      ]
    },
    {
      "cell_type": "code",
      "execution_count": 127,
      "id": "d5e401ba",
      "metadata": {},
      "outputs": [],
      "source": [
        "# Probamos con 500 registros utilizando sample y Ramdom Seed\n",
        "# df = df.sample(n=5000, random_state=RANDOM_SEED).reset_index(drop=True)"
      ]
    },
    {
      "cell_type": "code",
      "execution_count": 128,
      "id": "45734f51",
      "metadata": {},
      "outputs": [
        {
          "data": {
            "text/html": [
              "<div>\n",
              "<style scoped>\n",
              "    .dataframe tbody tr th:only-of-type {\n",
              "        vertical-align: middle;\n",
              "    }\n",
              "\n",
              "    .dataframe tbody tr th {\n",
              "        vertical-align: top;\n",
              "    }\n",
              "\n",
              "    .dataframe thead th {\n",
              "        text-align: right;\n",
              "    }\n",
              "</style>\n",
              "<table border=\"1\" class=\"dataframe\">\n",
              "  <thead>\n",
              "    <tr style=\"text-align: right;\">\n",
              "      <th></th>\n",
              "      <th>sexo</th>\n",
              "      <th>edad</th>\n",
              "      <th>grupo</th>\n",
              "      <th>especialidad_medica</th>\n",
              "      <th>subjetivo</th>\n",
              "      <th>objetivo</th>\n",
              "      <th>concatenada</th>\n",
              "      <th>sexo_codificado</th>\n",
              "      <th>grupo_codificado</th>\n",
              "    </tr>\n",
              "  </thead>\n",
              "  <tbody>\n",
              "    <tr>\n",
              "      <th>0</th>\n",
              "      <td>Femenino</td>\n",
              "      <td>38</td>\n",
              "      <td>Otros trastornos</td>\n",
              "      <td>PSICOLOGÍA</td>\n",
              "      <td>Paciente refiere: \"Me empezaron a dar como uno...</td>\n",
              "      <td>Paciente alerta, colaboradora con apariencia o...</td>\n",
              "      <td>['empezar', 'episodio', 'tom', 'pastilla', 'do...</td>\n",
              "      <td>0</td>\n",
              "      <td>0</td>\n",
              "    </tr>\n",
              "    <tr>\n",
              "      <th>1</th>\n",
              "      <td>Masculino</td>\n",
              "      <td>22</td>\n",
              "      <td>T. externalizantes</td>\n",
              "      <td>PSICOLOGÍA</td>\n",
              "      <td>Paciente refiere \"Me he sentido muy mal, en el...</td>\n",
              "      <td>Paciente a quien evaluó por primera vez, alert...</td>\n",
              "      <td>['sentido', 'trabajar', 'concentrar yo', 'cosa...</td>\n",
              "      <td>1</td>\n",
              "      <td>4</td>\n",
              "    </tr>\n",
              "    <tr>\n",
              "      <th>2</th>\n",
              "      <td>Masculino</td>\n",
              "      <td>9</td>\n",
              "      <td>Otros trastornos</td>\n",
              "      <td>PSICOLOGÍA</td>\n",
              "      <td>La madre refiere \"el viene por un acompañamien...</td>\n",
              "      <td>NaN</td>\n",
              "      <td>['madre', 'venir', 'acompañamiento', 'emociona...</td>\n",
              "      <td>1</td>\n",
              "      <td>0</td>\n",
              "    </tr>\n",
              "    <tr>\n",
              "      <th>3</th>\n",
              "      <td>Masculino</td>\n",
              "      <td>28</td>\n",
              "      <td>Otros trastornos</td>\n",
              "      <td>PSICOLOGÍA</td>\n",
              "      <td>Paciente refiere \"Estas cosas que han pasado m...</td>\n",
              "      <td>Paciente quien evalúo por primera vez, alerta,...</td>\n",
              "      <td>['cosa', 'problema', 'empresa', 'ocasión', 'sa...</td>\n",
              "      <td>1</td>\n",
              "      <td>0</td>\n",
              "    </tr>\n",
              "    <tr>\n",
              "      <th>4</th>\n",
              "      <td>Femenino</td>\n",
              "      <td>8</td>\n",
              "      <td>Otros trastornos</td>\n",
              "      <td>PSICOLOGÍA</td>\n",
              "      <td>La madre refiere \"Ella ha manifestado ciertas ...</td>\n",
              "      <td>Paciente ingresa en compañía de la madre, aler...</td>\n",
              "      <td>['madre', 'manifestar', 'conducta', 'palabrase...</td>\n",
              "      <td>0</td>\n",
              "      <td>0</td>\n",
              "    </tr>\n",
              "  </tbody>\n",
              "</table>\n",
              "</div>"
            ],
            "text/plain": [
              "        sexo  edad               grupo especialidad_medica  \\\n",
              "0   Femenino    38    Otros trastornos          PSICOLOGÍA   \n",
              "1  Masculino    22  T. externalizantes          PSICOLOGÍA   \n",
              "2  Masculino     9    Otros trastornos          PSICOLOGÍA   \n",
              "3  Masculino    28    Otros trastornos          PSICOLOGÍA   \n",
              "4   Femenino     8    Otros trastornos          PSICOLOGÍA   \n",
              "\n",
              "                                           subjetivo  \\\n",
              "0  Paciente refiere: \"Me empezaron a dar como uno...   \n",
              "1  Paciente refiere \"Me he sentido muy mal, en el...   \n",
              "2  La madre refiere \"el viene por un acompañamien...   \n",
              "3  Paciente refiere \"Estas cosas que han pasado m...   \n",
              "4  La madre refiere \"Ella ha manifestado ciertas ...   \n",
              "\n",
              "                                            objetivo  \\\n",
              "0  Paciente alerta, colaboradora con apariencia o...   \n",
              "1  Paciente a quien evaluó por primera vez, alert...   \n",
              "2                                                NaN   \n",
              "3  Paciente quien evalúo por primera vez, alerta,...   \n",
              "4  Paciente ingresa en compañía de la madre, aler...   \n",
              "\n",
              "                                         concatenada  sexo_codificado  \\\n",
              "0  ['empezar', 'episodio', 'tom', 'pastilla', 'do...                0   \n",
              "1  ['sentido', 'trabajar', 'concentrar yo', 'cosa...                1   \n",
              "2  ['madre', 'venir', 'acompañamiento', 'emociona...                1   \n",
              "3  ['cosa', 'problema', 'empresa', 'ocasión', 'sa...                1   \n",
              "4  ['madre', 'manifestar', 'conducta', 'palabrase...                0   \n",
              "\n",
              "   grupo_codificado  \n",
              "0                 0  \n",
              "1                 4  \n",
              "2                 0  \n",
              "3                 0  \n",
              "4                 0  "
            ]
          },
          "execution_count": 128,
          "metadata": {},
          "output_type": "execute_result"
        }
      ],
      "source": [
        "df.head()"
      ]
    },
    {
      "cell_type": "code",
      "execution_count": 129,
      "id": "d7464a84",
      "metadata": {},
      "outputs": [
        {
          "name": "stdout",
          "output_type": "stream",
          "text": [
            "La longitud máxima de las historias clínicas es: 965 palabras.\n"
          ]
        }
      ],
      "source": [
        "# Calcular la longitud máxima de las historias clínicas en términos de número de palabras\n",
        "max_lenght = df[\"concatenada\"].apply(lambda x: len(x.split())).max()\n",
        "\n",
        "print(f\"La longitud máxima de las historias clínicas es: {max_lenght} palabras.\")"
      ]
    },
    {
      "cell_type": "code",
      "execution_count": 130,
      "id": "688c3164",
      "metadata": {
        "colab": {
          "base_uri": "https://localhost:8080/"
        },
        "id": "688c3164",
        "outputId": "28022609-a5ed-47d7-faa2-cd8a906d8d0f"
      },
      "outputs": [
        {
          "name": "stdout",
          "output_type": "stream",
          "text": [
            "<class 'pandas.core.frame.DataFrame'>\n",
            "RangeIndex: 9809 entries, 0 to 9808\n",
            "Data columns (total 9 columns):\n",
            " #   Column               Non-Null Count  Dtype \n",
            "---  ------               --------------  ----- \n",
            " 0   sexo                 9809 non-null   object\n",
            " 1   edad                 9809 non-null   int64 \n",
            " 2   grupo                9809 non-null   object\n",
            " 3   especialidad_medica  9809 non-null   object\n",
            " 4   subjetivo            9733 non-null   object\n",
            " 5   objetivo             9774 non-null   object\n",
            " 6   concatenada          9809 non-null   object\n",
            " 7   sexo_codificado      9809 non-null   int64 \n",
            " 8   grupo_codificado     9809 non-null   int64 \n",
            "dtypes: int64(3), object(6)\n",
            "memory usage: 689.8+ KB\n"
          ]
        }
      ],
      "source": [
        "df.info()"
      ]
    },
    {
      "cell_type": "code",
      "execution_count": 131,
      "id": "acd03ce6",
      "metadata": {
        "colab": {
          "base_uri": "https://localhost:8080/",
          "height": 363
        },
        "id": "acd03ce6",
        "outputId": "f450563a-07f2-440d-e31e-0924198be86f"
      },
      "outputs": [
        {
          "data": {
            "text/html": [
              "<div>\n",
              "<style scoped>\n",
              "    .dataframe tbody tr th:only-of-type {\n",
              "        vertical-align: middle;\n",
              "    }\n",
              "\n",
              "    .dataframe tbody tr th {\n",
              "        vertical-align: top;\n",
              "    }\n",
              "\n",
              "    .dataframe thead th {\n",
              "        text-align: right;\n",
              "    }\n",
              "</style>\n",
              "<table border=\"1\" class=\"dataframe\">\n",
              "  <thead>\n",
              "    <tr style=\"text-align: right;\">\n",
              "      <th></th>\n",
              "      <th>sexo</th>\n",
              "      <th>edad</th>\n",
              "      <th>grupo</th>\n",
              "      <th>especialidad_medica</th>\n",
              "      <th>subjetivo</th>\n",
              "      <th>objetivo</th>\n",
              "      <th>concatenada</th>\n",
              "      <th>sexo_codificado</th>\n",
              "      <th>grupo_codificado</th>\n",
              "    </tr>\n",
              "  </thead>\n",
              "  <tbody>\n",
              "    <tr>\n",
              "      <th>0</th>\n",
              "      <td>Femenino</td>\n",
              "      <td>38</td>\n",
              "      <td>Otros trastornos</td>\n",
              "      <td>PSICOLOGÍA</td>\n",
              "      <td>Paciente refiere: \"Me empezaron a dar como uno...</td>\n",
              "      <td>Paciente alerta, colaboradora con apariencia o...</td>\n",
              "      <td>['empezar', 'episodio', 'tom', 'pastilla', 'do...</td>\n",
              "      <td>0</td>\n",
              "      <td>0</td>\n",
              "    </tr>\n",
              "    <tr>\n",
              "      <th>1</th>\n",
              "      <td>Masculino</td>\n",
              "      <td>22</td>\n",
              "      <td>T. externalizantes</td>\n",
              "      <td>PSICOLOGÍA</td>\n",
              "      <td>Paciente refiere \"Me he sentido muy mal, en el...</td>\n",
              "      <td>Paciente a quien evaluó por primera vez, alert...</td>\n",
              "      <td>['sentido', 'trabajar', 'concentrar yo', 'cosa...</td>\n",
              "      <td>1</td>\n",
              "      <td>4</td>\n",
              "    </tr>\n",
              "    <tr>\n",
              "      <th>2</th>\n",
              "      <td>Masculino</td>\n",
              "      <td>9</td>\n",
              "      <td>Otros trastornos</td>\n",
              "      <td>PSICOLOGÍA</td>\n",
              "      <td>La madre refiere \"el viene por un acompañamien...</td>\n",
              "      <td>NaN</td>\n",
              "      <td>['madre', 'venir', 'acompañamiento', 'emociona...</td>\n",
              "      <td>1</td>\n",
              "      <td>0</td>\n",
              "    </tr>\n",
              "    <tr>\n",
              "      <th>3</th>\n",
              "      <td>Masculino</td>\n",
              "      <td>28</td>\n",
              "      <td>Otros trastornos</td>\n",
              "      <td>PSICOLOGÍA</td>\n",
              "      <td>Paciente refiere \"Estas cosas que han pasado m...</td>\n",
              "      <td>Paciente quien evalúo por primera vez, alerta,...</td>\n",
              "      <td>['cosa', 'problema', 'empresa', 'ocasión', 'sa...</td>\n",
              "      <td>1</td>\n",
              "      <td>0</td>\n",
              "    </tr>\n",
              "    <tr>\n",
              "      <th>4</th>\n",
              "      <td>Femenino</td>\n",
              "      <td>8</td>\n",
              "      <td>Otros trastornos</td>\n",
              "      <td>PSICOLOGÍA</td>\n",
              "      <td>La madre refiere \"Ella ha manifestado ciertas ...</td>\n",
              "      <td>Paciente ingresa en compañía de la madre, aler...</td>\n",
              "      <td>['madre', 'manifestar', 'conducta', 'palabrase...</td>\n",
              "      <td>0</td>\n",
              "      <td>0</td>\n",
              "    </tr>\n",
              "    <tr>\n",
              "      <th>5</th>\n",
              "      <td>Masculino</td>\n",
              "      <td>30</td>\n",
              "      <td>T. externalizantes</td>\n",
              "      <td>PSICOLOGÍA</td>\n",
              "      <td>Paciente refiere \"yo creo como todo comienza d...</td>\n",
              "      <td>Paciente quien evalúo por primera vez,  pacien...</td>\n",
              "      <td>['comenzar', 'crianza', 'mama', 'diagnostico',...</td>\n",
              "      <td>1</td>\n",
              "      <td>4</td>\n",
              "    </tr>\n",
              "    <tr>\n",
              "      <th>6</th>\n",
              "      <td>Femenino</td>\n",
              "      <td>60</td>\n",
              "      <td>Otros trastornos</td>\n",
              "      <td>PSICOLOGÍA</td>\n",
              "      <td>Paciente refiere \"hace 3 años me separe, hace ...</td>\n",
              "      <td>Paciente quien evalúo por primera vez, pacient...</td>\n",
              "      <td>['año', 'separar', 'año', 'hija', 'tambin', 't...</td>\n",
              "      <td>0</td>\n",
              "      <td>0</td>\n",
              "    </tr>\n",
              "    <tr>\n",
              "      <th>7</th>\n",
              "      <td>Masculino</td>\n",
              "      <td>57</td>\n",
              "      <td>Otros trastornos</td>\n",
              "      <td>PSICOLOGÍA</td>\n",
              "      <td>Paciente refiere \"Yo he sido muy introvertido,...</td>\n",
              "      <td>Paciente quien evalúo por primera vez, pacient...</td>\n",
              "      <td>['introvertido', 'expresar', 'sentimiento', 't...</td>\n",
              "      <td>1</td>\n",
              "      <td>0</td>\n",
              "    </tr>\n",
              "    <tr>\n",
              "      <th>8</th>\n",
              "      <td>Femenino</td>\n",
              "      <td>25</td>\n",
              "      <td>T. externalizantes</td>\n",
              "      <td>PSICOLOGÍA</td>\n",
              "      <td>Hace un mes empece a sentir ansiedad, tuve com...</td>\n",
              "      <td>Paciente quien evalúo por primera vez, pacient...</td>\n",
              "      <td>['mes', 'empece', 'sentir', 'ansiedad', 'tener...</td>\n",
              "      <td>0</td>\n",
              "      <td>4</td>\n",
              "    </tr>\n",
              "    <tr>\n",
              "      <th>9</th>\n",
              "      <td>Femenino</td>\n",
              "      <td>40</td>\n",
              "      <td>Otros trastornos</td>\n",
              "      <td>PSICOLOGÍA</td>\n",
              "      <td>Paciente refiere \"en los 15 de mi prima yo le ...</td>\n",
              "      <td>Paciente quien evalúo por primera vez, la cons...</td>\n",
              "      <td>['primar', 'llevar', 'comida', 'tiro', 'marco'...</td>\n",
              "      <td>0</td>\n",
              "      <td>0</td>\n",
              "    </tr>\n",
              "  </tbody>\n",
              "</table>\n",
              "</div>"
            ],
            "text/plain": [
              "        sexo  edad               grupo especialidad_medica  \\\n",
              "0   Femenino    38    Otros trastornos          PSICOLOGÍA   \n",
              "1  Masculino    22  T. externalizantes          PSICOLOGÍA   \n",
              "2  Masculino     9    Otros trastornos          PSICOLOGÍA   \n",
              "3  Masculino    28    Otros trastornos          PSICOLOGÍA   \n",
              "4   Femenino     8    Otros trastornos          PSICOLOGÍA   \n",
              "5  Masculino    30  T. externalizantes          PSICOLOGÍA   \n",
              "6   Femenino    60    Otros trastornos          PSICOLOGÍA   \n",
              "7  Masculino    57    Otros trastornos          PSICOLOGÍA   \n",
              "8   Femenino    25  T. externalizantes          PSICOLOGÍA   \n",
              "9   Femenino    40    Otros trastornos          PSICOLOGÍA   \n",
              "\n",
              "                                           subjetivo  \\\n",
              "0  Paciente refiere: \"Me empezaron a dar como uno...   \n",
              "1  Paciente refiere \"Me he sentido muy mal, en el...   \n",
              "2  La madre refiere \"el viene por un acompañamien...   \n",
              "3  Paciente refiere \"Estas cosas que han pasado m...   \n",
              "4  La madre refiere \"Ella ha manifestado ciertas ...   \n",
              "5  Paciente refiere \"yo creo como todo comienza d...   \n",
              "6  Paciente refiere \"hace 3 años me separe, hace ...   \n",
              "7  Paciente refiere \"Yo he sido muy introvertido,...   \n",
              "8  Hace un mes empece a sentir ansiedad, tuve com...   \n",
              "9  Paciente refiere \"en los 15 de mi prima yo le ...   \n",
              "\n",
              "                                            objetivo  \\\n",
              "0  Paciente alerta, colaboradora con apariencia o...   \n",
              "1  Paciente a quien evaluó por primera vez, alert...   \n",
              "2                                                NaN   \n",
              "3  Paciente quien evalúo por primera vez, alerta,...   \n",
              "4  Paciente ingresa en compañía de la madre, aler...   \n",
              "5  Paciente quien evalúo por primera vez,  pacien...   \n",
              "6  Paciente quien evalúo por primera vez, pacient...   \n",
              "7  Paciente quien evalúo por primera vez, pacient...   \n",
              "8  Paciente quien evalúo por primera vez, pacient...   \n",
              "9  Paciente quien evalúo por primera vez, la cons...   \n",
              "\n",
              "                                         concatenada  sexo_codificado  \\\n",
              "0  ['empezar', 'episodio', 'tom', 'pastilla', 'do...                0   \n",
              "1  ['sentido', 'trabajar', 'concentrar yo', 'cosa...                1   \n",
              "2  ['madre', 'venir', 'acompañamiento', 'emociona...                1   \n",
              "3  ['cosa', 'problema', 'empresa', 'ocasión', 'sa...                1   \n",
              "4  ['madre', 'manifestar', 'conducta', 'palabrase...                0   \n",
              "5  ['comenzar', 'crianza', 'mama', 'diagnostico',...                1   \n",
              "6  ['año', 'separar', 'año', 'hija', 'tambin', 't...                0   \n",
              "7  ['introvertido', 'expresar', 'sentimiento', 't...                1   \n",
              "8  ['mes', 'empece', 'sentir', 'ansiedad', 'tener...                0   \n",
              "9  ['primar', 'llevar', 'comida', 'tiro', 'marco'...                0   \n",
              "\n",
              "   grupo_codificado  \n",
              "0                 0  \n",
              "1                 4  \n",
              "2                 0  \n",
              "3                 0  \n",
              "4                 0  \n",
              "5                 4  \n",
              "6                 0  \n",
              "7                 0  \n",
              "8                 4  \n",
              "9                 0  "
            ]
          },
          "execution_count": 131,
          "metadata": {},
          "output_type": "execute_result"
        }
      ],
      "source": [
        "df.head(10)"
      ]
    },
    {
      "cell_type": "code",
      "execution_count": 132,
      "id": "4d007e36",
      "metadata": {},
      "outputs": [],
      "source": [
        "# Removemos los corchetes\n",
        "df[\"concatenada\"] = df[\"concatenada\"].apply(lambda x: str(x).replace(\"[\",\"\").replace(\"]\",\"\"))\n",
        "\n",
        "# Removemos las comillas simples\n",
        "df[\"concatenada\"] = df[\"concatenada\"].apply(lambda x: str(x).replace(\"'\",\"\"))\n",
        "\n",
        "# Unimos las palabras separadas por comas\n",
        "df[\"concatenada\"] = df[\"concatenada\"].apply(lambda x: str(x).replace(\",\",\" \"))"
      ]
    },
    {
      "cell_type": "code",
      "execution_count": 133,
      "id": "67670eec",
      "metadata": {},
      "outputs": [
        {
          "data": {
            "text/html": [
              "<div>\n",
              "<style scoped>\n",
              "    .dataframe tbody tr th:only-of-type {\n",
              "        vertical-align: middle;\n",
              "    }\n",
              "\n",
              "    .dataframe tbody tr th {\n",
              "        vertical-align: top;\n",
              "    }\n",
              "\n",
              "    .dataframe thead th {\n",
              "        text-align: right;\n",
              "    }\n",
              "</style>\n",
              "<table border=\"1\" class=\"dataframe\">\n",
              "  <thead>\n",
              "    <tr style=\"text-align: right;\">\n",
              "      <th></th>\n",
              "      <th>sexo</th>\n",
              "      <th>edad</th>\n",
              "      <th>grupo</th>\n",
              "      <th>especialidad_medica</th>\n",
              "      <th>subjetivo</th>\n",
              "      <th>objetivo</th>\n",
              "      <th>concatenada</th>\n",
              "      <th>sexo_codificado</th>\n",
              "      <th>grupo_codificado</th>\n",
              "    </tr>\n",
              "  </thead>\n",
              "  <tbody>\n",
              "    <tr>\n",
              "      <th>0</th>\n",
              "      <td>Femenino</td>\n",
              "      <td>38</td>\n",
              "      <td>Otros trastornos</td>\n",
              "      <td>PSICOLOGÍA</td>\n",
              "      <td>Paciente refiere: \"Me empezaron a dar como uno...</td>\n",
              "      <td>Paciente alerta, colaboradora con apariencia o...</td>\n",
              "      <td>empezar  episodio  tom  pastilla  dormir  tene...</td>\n",
              "      <td>0</td>\n",
              "      <td>0</td>\n",
              "    </tr>\n",
              "    <tr>\n",
              "      <th>1</th>\n",
              "      <td>Masculino</td>\n",
              "      <td>22</td>\n",
              "      <td>T. externalizantes</td>\n",
              "      <td>PSICOLOGÍA</td>\n",
              "      <td>Paciente refiere \"Me he sentido muy mal, en el...</td>\n",
              "      <td>Paciente a quien evaluó por primera vez, alert...</td>\n",
              "      <td>sentido  trabajar  concentrar yo  cosa  vidato...</td>\n",
              "      <td>1</td>\n",
              "      <td>4</td>\n",
              "    </tr>\n",
              "    <tr>\n",
              "      <th>2</th>\n",
              "      <td>Masculino</td>\n",
              "      <td>9</td>\n",
              "      <td>Otros trastornos</td>\n",
              "      <td>PSICOLOGÍA</td>\n",
              "      <td>La madre refiere \"el viene por un acompañamien...</td>\n",
              "      <td>NaN</td>\n",
              "      <td>madre  venir  acompañamiento  emocional  sepra...</td>\n",
              "      <td>1</td>\n",
              "      <td>0</td>\n",
              "    </tr>\n",
              "    <tr>\n",
              "      <th>3</th>\n",
              "      <td>Masculino</td>\n",
              "      <td>28</td>\n",
              "      <td>Otros trastornos</td>\n",
              "      <td>PSICOLOGÍA</td>\n",
              "      <td>Paciente refiere \"Estas cosas que han pasado m...</td>\n",
              "      <td>Paciente quien evalúo por primera vez, alerta,...</td>\n",
              "      <td>cosa  problema  empresa  ocasión  saludar  sal...</td>\n",
              "      <td>1</td>\n",
              "      <td>0</td>\n",
              "    </tr>\n",
              "    <tr>\n",
              "      <th>4</th>\n",
              "      <td>Femenino</td>\n",
              "      <td>8</td>\n",
              "      <td>Otros trastornos</td>\n",
              "      <td>PSICOLOGÍA</td>\n",
              "      <td>La madre refiere \"Ella ha manifestado ciertas ...</td>\n",
              "      <td>Paciente ingresa en compañía de la madre, aler...</td>\n",
              "      <td>madre  manifestar  conducta  palabrasello  rel...</td>\n",
              "      <td>0</td>\n",
              "      <td>0</td>\n",
              "    </tr>\n",
              "  </tbody>\n",
              "</table>\n",
              "</div>"
            ],
            "text/plain": [
              "        sexo  edad               grupo especialidad_medica  \\\n",
              "0   Femenino    38    Otros trastornos          PSICOLOGÍA   \n",
              "1  Masculino    22  T. externalizantes          PSICOLOGÍA   \n",
              "2  Masculino     9    Otros trastornos          PSICOLOGÍA   \n",
              "3  Masculino    28    Otros trastornos          PSICOLOGÍA   \n",
              "4   Femenino     8    Otros trastornos          PSICOLOGÍA   \n",
              "\n",
              "                                           subjetivo  \\\n",
              "0  Paciente refiere: \"Me empezaron a dar como uno...   \n",
              "1  Paciente refiere \"Me he sentido muy mal, en el...   \n",
              "2  La madre refiere \"el viene por un acompañamien...   \n",
              "3  Paciente refiere \"Estas cosas que han pasado m...   \n",
              "4  La madre refiere \"Ella ha manifestado ciertas ...   \n",
              "\n",
              "                                            objetivo  \\\n",
              "0  Paciente alerta, colaboradora con apariencia o...   \n",
              "1  Paciente a quien evaluó por primera vez, alert...   \n",
              "2                                                NaN   \n",
              "3  Paciente quien evalúo por primera vez, alerta,...   \n",
              "4  Paciente ingresa en compañía de la madre, aler...   \n",
              "\n",
              "                                         concatenada  sexo_codificado  \\\n",
              "0  empezar  episodio  tom  pastilla  dormir  tene...                0   \n",
              "1  sentido  trabajar  concentrar yo  cosa  vidato...                1   \n",
              "2  madre  venir  acompañamiento  emocional  sepra...                1   \n",
              "3  cosa  problema  empresa  ocasión  saludar  sal...                1   \n",
              "4  madre  manifestar  conducta  palabrasello  rel...                0   \n",
              "\n",
              "   grupo_codificado  \n",
              "0                 0  \n",
              "1                 4  \n",
              "2                 0  \n",
              "3                 0  \n",
              "4                 0  "
            ]
          },
          "execution_count": 133,
          "metadata": {},
          "output_type": "execute_result"
        }
      ],
      "source": [
        "df.head()"
      ]
    },
    {
      "cell_type": "code",
      "execution_count": 134,
      "id": "b8ec03ec",
      "metadata": {
        "id": "b8ec03ec"
      },
      "outputs": [],
      "source": [
        "from transformers import BertTokenizer, BertModel\n",
        "\n",
        "# TOKENIZACION\n",
        "\n",
        "PRE_TRAINED_MODEL_NAME = \"bert-base-multilingual-cased\"\n",
        "tokenizer = BertTokenizer.from_pretrained(PRE_TRAINED_MODEL_NAME)"
      ]
    },
    {
      "cell_type": "code",
      "execution_count": 135,
      "id": "f5bc9d24",
      "metadata": {
        "colab": {
          "base_uri": "https://localhost:8080/"
        },
        "id": "f5bc9d24",
        "outputId": "66cde776-957b-4fe0-cc69-babc55ea844e"
      },
      "outputs": [
        {
          "name": "stdout",
          "output_type": "stream",
          "text": [
            "Texto original: Hola soy un texto de ejemplo para la tokenización.\n",
            "Tokens: ['Ho', '##la', 'soy', 'un', 'texto', 'de', 'ejemplo', 'para', 'la', 'tok', '##eni', '##zación', '.']\n",
            "IDs de tokens: [20220, 10330, 103559, 10119, 27888, 10104, 20223, 10220, 10109, 18436, 18687, 23700, 119]\n"
          ]
        }
      ],
      "source": [
        "# Ejemplos de tokenización\n",
        "\n",
        "sample_text = \"Hola soy un texto de ejemplo para la tokenización.\"\n",
        "tokens = tokenizer.tokenize(sample_text)\n",
        "tokens_ids = tokenizer.convert_tokens_to_ids(tokens)\n",
        "print(f\"Texto original: {sample_text}\")\n",
        "print(f\"Tokens: {tokens}\")\n",
        "print(f\"IDs de tokens: {tokens_ids}\")"
      ]
    },
    {
      "cell_type": "code",
      "execution_count": 136,
      "id": "40261280",
      "metadata": {},
      "outputs": [
        {
          "name": "stdout",
          "output_type": "stream",
          "text": [
            "2.9.0+cu128\n",
            "True\n"
          ]
        }
      ],
      "source": [
        "import torch\n",
        "print(torch.__version__)\n",
        "print(torch.cuda.is_available())"
      ]
    },
    {
      "cell_type": "code",
      "execution_count": 137,
      "id": "ababcc13",
      "metadata": {
        "id": "ababcc13"
      },
      "outputs": [],
      "source": [
        "# Instala PyTorch si no está instalado\n",
        "\n",
        "# Codificacion para introducir a BERT\n",
        "\n",
        "encoding = tokenizer.encode_plus(\n",
        "    sample_text,\n",
        "    add_special_tokens=True,\n",
        "    max_length=MAX_LEN,\n",
        "    return_token_type_ids=False,\n",
        "    padding=\"max_length\",\n",
        "    truncation=True,\n",
        "    return_attention_mask=True,\n",
        "    return_tensors=\"pt\",\n",
        ")"
      ]
    },
    {
      "cell_type": "code",
      "execution_count": 138,
      "id": "10d13546",
      "metadata": {
        "colab": {
          "base_uri": "https://localhost:8080/"
        },
        "id": "10d13546",
        "outputId": "6e3f7314-2b94-4e71-efc6-7af46de5d009"
      },
      "outputs": [
        {
          "data": {
            "text/plain": [
              "KeysView({'input_ids': tensor([[   101,  20220,  10330, 103559,  10119,  27888,  10104,  20223,  10220,\n",
              "          10109,  18436,  18687,  23700,    119,    102,      0,      0,      0,\n",
              "              0,      0,      0,      0,      0,      0,      0,      0,      0,\n",
              "              0,      0,      0,      0,      0,      0,      0,      0,      0,\n",
              "              0,      0,      0,      0,      0,      0,      0,      0,      0,\n",
              "              0,      0,      0,      0,      0,      0,      0,      0,      0,\n",
              "              0,      0,      0,      0,      0,      0,      0,      0,      0,\n",
              "              0,      0,      0,      0,      0,      0,      0,      0,      0,\n",
              "              0,      0,      0,      0,      0,      0,      0,      0,      0,\n",
              "              0,      0,      0,      0,      0,      0,      0,      0,      0,\n",
              "              0,      0,      0,      0,      0,      0,      0,      0,      0,\n",
              "              0,      0,      0,      0,      0,      0,      0,      0,      0,\n",
              "              0,      0,      0,      0,      0,      0,      0,      0,      0,\n",
              "              0,      0,      0,      0,      0,      0,      0,      0,      0,\n",
              "              0,      0,      0,      0,      0,      0,      0,      0,      0,\n",
              "              0,      0,      0,      0,      0,      0,      0,      0,      0,\n",
              "              0,      0,      0,      0,      0,      0,      0,      0,      0,\n",
              "              0,      0,      0,      0,      0,      0,      0,      0,      0,\n",
              "              0,      0,      0,      0,      0,      0,      0,      0,      0,\n",
              "              0,      0,      0,      0,      0,      0,      0,      0,      0,\n",
              "              0,      0,      0,      0,      0,      0,      0,      0,      0,\n",
              "              0,      0,      0,      0,      0,      0,      0,      0,      0,\n",
              "              0,      0,      0,      0,      0,      0,      0,      0,      0,\n",
              "              0,      0,      0,      0,      0,      0,      0,      0,      0,\n",
              "              0,      0,      0,      0,      0,      0,      0,      0,      0,\n",
              "              0,      0,      0,      0,      0,      0,      0,      0,      0,\n",
              "              0,      0,      0,      0,      0,      0,      0,      0,      0,\n",
              "              0,      0,      0,      0,      0,      0,      0,      0,      0,\n",
              "              0,      0,      0,      0,      0,      0,      0,      0,      0,\n",
              "              0,      0,      0,      0,      0,      0,      0,      0,      0,\n",
              "              0,      0,      0,      0,      0,      0,      0,      0,      0,\n",
              "              0,      0,      0,      0,      0,      0,      0,      0,      0,\n",
              "              0,      0,      0,      0,      0,      0,      0,      0,      0,\n",
              "              0,      0,      0,      0,      0,      0,      0,      0,      0,\n",
              "              0,      0,      0,      0,      0,      0,      0,      0,      0,\n",
              "              0,      0,      0,      0,      0,      0,      0,      0,      0,\n",
              "              0,      0,      0,      0,      0,      0,      0,      0,      0,\n",
              "              0,      0,      0,      0,      0,      0,      0,      0,      0,\n",
              "              0,      0,      0,      0,      0,      0,      0,      0,      0,\n",
              "              0,      0,      0,      0,      0,      0,      0,      0,      0,\n",
              "              0,      0,      0,      0,      0,      0,      0,      0,      0,\n",
              "              0,      0,      0,      0,      0,      0,      0,      0,      0,\n",
              "              0,      0,      0,      0,      0,      0,      0,      0,      0,\n",
              "              0,      0,      0,      0,      0,      0,      0,      0,      0,\n",
              "              0,      0,      0,      0,      0,      0,      0,      0,      0,\n",
              "              0,      0,      0,      0,      0,      0,      0,      0,      0,\n",
              "              0,      0,      0,      0,      0,      0,      0,      0,      0,\n",
              "              0,      0,      0,      0,      0,      0,      0,      0,      0,\n",
              "              0,      0,      0,      0,      0,      0,      0,      0,      0,\n",
              "              0,      0,      0,      0,      0,      0,      0,      0,      0,\n",
              "              0,      0,      0,      0,      0,      0,      0,      0,      0,\n",
              "              0,      0,      0,      0,      0,      0,      0,      0,      0,\n",
              "              0,      0,      0,      0,      0,      0,      0,      0,      0,\n",
              "              0,      0,      0,      0,      0,      0,      0,      0,      0,\n",
              "              0,      0,      0,      0,      0,      0,      0,      0,      0,\n",
              "              0,      0,      0,      0,      0]]), 'attention_mask': tensor([[1, 1, 1, 1, 1, 1, 1, 1, 1, 1, 1, 1, 1, 1, 1, 0, 0, 0, 0, 0, 0, 0, 0, 0,\n",
              "         0, 0, 0, 0, 0, 0, 0, 0, 0, 0, 0, 0, 0, 0, 0, 0, 0, 0, 0, 0, 0, 0, 0, 0,\n",
              "         0, 0, 0, 0, 0, 0, 0, 0, 0, 0, 0, 0, 0, 0, 0, 0, 0, 0, 0, 0, 0, 0, 0, 0,\n",
              "         0, 0, 0, 0, 0, 0, 0, 0, 0, 0, 0, 0, 0, 0, 0, 0, 0, 0, 0, 0, 0, 0, 0, 0,\n",
              "         0, 0, 0, 0, 0, 0, 0, 0, 0, 0, 0, 0, 0, 0, 0, 0, 0, 0, 0, 0, 0, 0, 0, 0,\n",
              "         0, 0, 0, 0, 0, 0, 0, 0, 0, 0, 0, 0, 0, 0, 0, 0, 0, 0, 0, 0, 0, 0, 0, 0,\n",
              "         0, 0, 0, 0, 0, 0, 0, 0, 0, 0, 0, 0, 0, 0, 0, 0, 0, 0, 0, 0, 0, 0, 0, 0,\n",
              "         0, 0, 0, 0, 0, 0, 0, 0, 0, 0, 0, 0, 0, 0, 0, 0, 0, 0, 0, 0, 0, 0, 0, 0,\n",
              "         0, 0, 0, 0, 0, 0, 0, 0, 0, 0, 0, 0, 0, 0, 0, 0, 0, 0, 0, 0, 0, 0, 0, 0,\n",
              "         0, 0, 0, 0, 0, 0, 0, 0, 0, 0, 0, 0, 0, 0, 0, 0, 0, 0, 0, 0, 0, 0, 0, 0,\n",
              "         0, 0, 0, 0, 0, 0, 0, 0, 0, 0, 0, 0, 0, 0, 0, 0, 0, 0, 0, 0, 0, 0, 0, 0,\n",
              "         0, 0, 0, 0, 0, 0, 0, 0, 0, 0, 0, 0, 0, 0, 0, 0, 0, 0, 0, 0, 0, 0, 0, 0,\n",
              "         0, 0, 0, 0, 0, 0, 0, 0, 0, 0, 0, 0, 0, 0, 0, 0, 0, 0, 0, 0, 0, 0, 0, 0,\n",
              "         0, 0, 0, 0, 0, 0, 0, 0, 0, 0, 0, 0, 0, 0, 0, 0, 0, 0, 0, 0, 0, 0, 0, 0,\n",
              "         0, 0, 0, 0, 0, 0, 0, 0, 0, 0, 0, 0, 0, 0, 0, 0, 0, 0, 0, 0, 0, 0, 0, 0,\n",
              "         0, 0, 0, 0, 0, 0, 0, 0, 0, 0, 0, 0, 0, 0, 0, 0, 0, 0, 0, 0, 0, 0, 0, 0,\n",
              "         0, 0, 0, 0, 0, 0, 0, 0, 0, 0, 0, 0, 0, 0, 0, 0, 0, 0, 0, 0, 0, 0, 0, 0,\n",
              "         0, 0, 0, 0, 0, 0, 0, 0, 0, 0, 0, 0, 0, 0, 0, 0, 0, 0, 0, 0, 0, 0, 0, 0,\n",
              "         0, 0, 0, 0, 0, 0, 0, 0, 0, 0, 0, 0, 0, 0, 0, 0, 0, 0, 0, 0, 0, 0, 0, 0,\n",
              "         0, 0, 0, 0, 0, 0, 0, 0, 0, 0, 0, 0, 0, 0, 0, 0, 0, 0, 0, 0, 0, 0, 0, 0,\n",
              "         0, 0, 0, 0, 0, 0, 0, 0, 0, 0, 0, 0, 0, 0, 0, 0, 0, 0, 0, 0]])})"
            ]
          },
          "execution_count": 138,
          "metadata": {},
          "output_type": "execute_result"
        }
      ],
      "source": [
        "encoding.keys()"
      ]
    },
    {
      "cell_type": "code",
      "execution_count": 139,
      "id": "b4c52761",
      "metadata": {
        "colab": {
          "base_uri": "https://localhost:8080/"
        },
        "id": "b4c52761",
        "outputId": "4b737e2e-da97-463b-8440-9d5c79d03e84"
      },
      "outputs": [
        {
          "name": "stdout",
          "output_type": "stream",
          "text": [
            "['[CLS]', 'Ho', '##la', 'soy', 'un', 'texto', 'de', 'ejemplo', 'para', 'la', 'tok', '##eni', '##zación', '.', '[SEP]', '[PAD]', '[PAD]', '[PAD]', '[PAD]', '[PAD]', '[PAD]', '[PAD]', '[PAD]', '[PAD]', '[PAD]', '[PAD]', '[PAD]', '[PAD]', '[PAD]', '[PAD]', '[PAD]', '[PAD]', '[PAD]', '[PAD]', '[PAD]', '[PAD]', '[PAD]', '[PAD]', '[PAD]', '[PAD]', '[PAD]', '[PAD]', '[PAD]', '[PAD]', '[PAD]', '[PAD]', '[PAD]', '[PAD]', '[PAD]', '[PAD]', '[PAD]', '[PAD]', '[PAD]', '[PAD]', '[PAD]', '[PAD]', '[PAD]', '[PAD]', '[PAD]', '[PAD]', '[PAD]', '[PAD]', '[PAD]', '[PAD]', '[PAD]', '[PAD]', '[PAD]', '[PAD]', '[PAD]', '[PAD]', '[PAD]', '[PAD]', '[PAD]', '[PAD]', '[PAD]', '[PAD]', '[PAD]', '[PAD]', '[PAD]', '[PAD]', '[PAD]', '[PAD]', '[PAD]', '[PAD]', '[PAD]', '[PAD]', '[PAD]', '[PAD]', '[PAD]', '[PAD]', '[PAD]', '[PAD]', '[PAD]', '[PAD]', '[PAD]', '[PAD]', '[PAD]', '[PAD]', '[PAD]', '[PAD]', '[PAD]', '[PAD]', '[PAD]', '[PAD]', '[PAD]', '[PAD]', '[PAD]', '[PAD]', '[PAD]', '[PAD]', '[PAD]', '[PAD]', '[PAD]', '[PAD]', '[PAD]', '[PAD]', '[PAD]', '[PAD]', '[PAD]', '[PAD]', '[PAD]', '[PAD]', '[PAD]', '[PAD]', '[PAD]', '[PAD]', '[PAD]', '[PAD]', '[PAD]', '[PAD]', '[PAD]', '[PAD]', '[PAD]', '[PAD]', '[PAD]', '[PAD]', '[PAD]', '[PAD]', '[PAD]', '[PAD]', '[PAD]', '[PAD]', '[PAD]', '[PAD]', '[PAD]', '[PAD]', '[PAD]', '[PAD]', '[PAD]', '[PAD]', '[PAD]', '[PAD]', '[PAD]', '[PAD]', '[PAD]', '[PAD]', '[PAD]', '[PAD]', '[PAD]', '[PAD]', '[PAD]', '[PAD]', '[PAD]', '[PAD]', '[PAD]', '[PAD]', '[PAD]', '[PAD]', '[PAD]', '[PAD]', '[PAD]', '[PAD]', '[PAD]', '[PAD]', '[PAD]', '[PAD]', '[PAD]', '[PAD]', '[PAD]', '[PAD]', '[PAD]', '[PAD]', '[PAD]', '[PAD]', '[PAD]', '[PAD]', '[PAD]', '[PAD]', '[PAD]', '[PAD]', '[PAD]', '[PAD]', '[PAD]', '[PAD]', '[PAD]', '[PAD]', '[PAD]', '[PAD]', '[PAD]', '[PAD]', '[PAD]', '[PAD]', '[PAD]', '[PAD]', '[PAD]', '[PAD]', '[PAD]', '[PAD]', '[PAD]', '[PAD]', '[PAD]', '[PAD]', '[PAD]', '[PAD]', '[PAD]', '[PAD]', '[PAD]', '[PAD]', '[PAD]', '[PAD]', '[PAD]', '[PAD]', '[PAD]', '[PAD]', '[PAD]', '[PAD]', '[PAD]', '[PAD]', '[PAD]', '[PAD]', '[PAD]', '[PAD]', '[PAD]', '[PAD]', '[PAD]', '[PAD]', '[PAD]', '[PAD]', '[PAD]', '[PAD]', '[PAD]', '[PAD]', '[PAD]', '[PAD]', '[PAD]', '[PAD]', '[PAD]', '[PAD]', '[PAD]', '[PAD]', '[PAD]', '[PAD]', '[PAD]', '[PAD]', '[PAD]', '[PAD]', '[PAD]', '[PAD]', '[PAD]', '[PAD]', '[PAD]', '[PAD]', '[PAD]', '[PAD]', '[PAD]', '[PAD]', '[PAD]', '[PAD]', '[PAD]', '[PAD]', '[PAD]', '[PAD]', '[PAD]', '[PAD]', '[PAD]', '[PAD]', '[PAD]', '[PAD]', '[PAD]', '[PAD]', '[PAD]', '[PAD]', '[PAD]', '[PAD]', '[PAD]', '[PAD]', '[PAD]', '[PAD]', '[PAD]', '[PAD]', '[PAD]', '[PAD]', '[PAD]', '[PAD]', '[PAD]', '[PAD]', '[PAD]', '[PAD]', '[PAD]', '[PAD]', '[PAD]', '[PAD]', '[PAD]', '[PAD]', '[PAD]', '[PAD]', '[PAD]', '[PAD]', '[PAD]', '[PAD]', '[PAD]', '[PAD]', '[PAD]', '[PAD]', '[PAD]', '[PAD]', '[PAD]', '[PAD]', '[PAD]', '[PAD]', '[PAD]', '[PAD]', '[PAD]', '[PAD]', '[PAD]', '[PAD]', '[PAD]', '[PAD]', '[PAD]', '[PAD]', '[PAD]', '[PAD]', '[PAD]', '[PAD]', '[PAD]', '[PAD]', '[PAD]', '[PAD]', '[PAD]', '[PAD]', '[PAD]', '[PAD]', '[PAD]', '[PAD]', '[PAD]', '[PAD]', '[PAD]', '[PAD]', '[PAD]', '[PAD]', '[PAD]', '[PAD]', '[PAD]', '[PAD]', '[PAD]', '[PAD]', '[PAD]', '[PAD]', '[PAD]', '[PAD]', '[PAD]', '[PAD]', '[PAD]', '[PAD]', '[PAD]', '[PAD]', '[PAD]', '[PAD]', '[PAD]', '[PAD]', '[PAD]', '[PAD]', '[PAD]', '[PAD]', '[PAD]', '[PAD]', '[PAD]', '[PAD]', '[PAD]', '[PAD]', '[PAD]', '[PAD]', '[PAD]', '[PAD]', '[PAD]', '[PAD]', '[PAD]', '[PAD]', '[PAD]', '[PAD]', '[PAD]', '[PAD]', '[PAD]', '[PAD]', '[PAD]', '[PAD]', '[PAD]', '[PAD]', '[PAD]', '[PAD]', '[PAD]', '[PAD]', '[PAD]', '[PAD]', '[PAD]', '[PAD]', '[PAD]', '[PAD]', '[PAD]', '[PAD]', '[PAD]', '[PAD]', '[PAD]', '[PAD]', '[PAD]', '[PAD]', '[PAD]', '[PAD]', '[PAD]', '[PAD]', '[PAD]', '[PAD]', '[PAD]', '[PAD]', '[PAD]', '[PAD]', '[PAD]', '[PAD]', '[PAD]', '[PAD]', '[PAD]', '[PAD]', '[PAD]', '[PAD]', '[PAD]', '[PAD]', '[PAD]', '[PAD]', '[PAD]', '[PAD]', '[PAD]', '[PAD]', '[PAD]', '[PAD]', '[PAD]', '[PAD]', '[PAD]', '[PAD]', '[PAD]', '[PAD]', '[PAD]', '[PAD]', '[PAD]', '[PAD]', '[PAD]', '[PAD]', '[PAD]', '[PAD]', '[PAD]', '[PAD]', '[PAD]', '[PAD]', '[PAD]', '[PAD]', '[PAD]', '[PAD]', '[PAD]', '[PAD]', '[PAD]', '[PAD]', '[PAD]', '[PAD]', '[PAD]', '[PAD]', '[PAD]', '[PAD]', '[PAD]', '[PAD]', '[PAD]', '[PAD]', '[PAD]', '[PAD]', '[PAD]', '[PAD]', '[PAD]', '[PAD]', '[PAD]', '[PAD]', '[PAD]', '[PAD]', '[PAD]', '[PAD]', '[PAD]', '[PAD]', '[PAD]', '[PAD]', '[PAD]', '[PAD]', '[PAD]', '[PAD]']\n",
            "tensor([   101,  20220,  10330, 103559,  10119,  27888,  10104,  20223,  10220,\n",
            "         10109,  18436,  18687,  23700,    119,    102,      0,      0,      0,\n",
            "             0,      0,      0,      0,      0,      0,      0,      0,      0,\n",
            "             0,      0,      0,      0,      0,      0,      0,      0,      0,\n",
            "             0,      0,      0,      0,      0,      0,      0,      0,      0,\n",
            "             0,      0,      0,      0,      0,      0,      0,      0,      0,\n",
            "             0,      0,      0,      0,      0,      0,      0,      0,      0,\n",
            "             0,      0,      0,      0,      0,      0,      0,      0,      0,\n",
            "             0,      0,      0,      0,      0,      0,      0,      0,      0,\n",
            "             0,      0,      0,      0,      0,      0,      0,      0,      0,\n",
            "             0,      0,      0,      0,      0,      0,      0,      0,      0,\n",
            "             0,      0,      0,      0,      0,      0,      0,      0,      0,\n",
            "             0,      0,      0,      0,      0,      0,      0,      0,      0,\n",
            "             0,      0,      0,      0,      0,      0,      0,      0,      0,\n",
            "             0,      0,      0,      0,      0,      0,      0,      0,      0,\n",
            "             0,      0,      0,      0,      0,      0,      0,      0,      0,\n",
            "             0,      0,      0,      0,      0,      0,      0,      0,      0,\n",
            "             0,      0,      0,      0,      0,      0,      0,      0,      0,\n",
            "             0,      0,      0,      0,      0,      0,      0,      0,      0,\n",
            "             0,      0,      0,      0,      0,      0,      0,      0,      0,\n",
            "             0,      0,      0,      0,      0,      0,      0,      0,      0,\n",
            "             0,      0,      0,      0,      0,      0,      0,      0,      0,\n",
            "             0,      0,      0,      0,      0,      0,      0,      0,      0,\n",
            "             0,      0,      0,      0,      0,      0,      0,      0,      0,\n",
            "             0,      0,      0,      0,      0,      0,      0,      0,      0,\n",
            "             0,      0,      0,      0,      0,      0,      0,      0,      0,\n",
            "             0,      0,      0,      0,      0,      0,      0,      0,      0,\n",
            "             0,      0,      0,      0,      0,      0,      0,      0,      0,\n",
            "             0,      0,      0,      0,      0,      0,      0,      0,      0,\n",
            "             0,      0,      0,      0,      0,      0,      0,      0,      0,\n",
            "             0,      0,      0,      0,      0,      0,      0,      0,      0,\n",
            "             0,      0,      0,      0,      0,      0,      0,      0,      0,\n",
            "             0,      0,      0,      0,      0,      0,      0,      0,      0,\n",
            "             0,      0,      0,      0,      0,      0,      0,      0,      0,\n",
            "             0,      0,      0,      0,      0,      0,      0,      0,      0,\n",
            "             0,      0,      0,      0,      0,      0,      0,      0,      0,\n",
            "             0,      0,      0,      0,      0,      0,      0,      0,      0,\n",
            "             0,      0,      0,      0,      0,      0,      0,      0,      0,\n",
            "             0,      0,      0,      0,      0,      0,      0,      0,      0,\n",
            "             0,      0,      0,      0,      0,      0,      0,      0,      0,\n",
            "             0,      0,      0,      0,      0,      0,      0,      0,      0,\n",
            "             0,      0,      0,      0,      0,      0,      0,      0,      0,\n",
            "             0,      0,      0,      0,      0,      0,      0,      0,      0,\n",
            "             0,      0,      0,      0,      0,      0,      0,      0,      0,\n",
            "             0,      0,      0,      0,      0,      0,      0,      0,      0,\n",
            "             0,      0,      0,      0,      0,      0,      0,      0,      0,\n",
            "             0,      0,      0,      0,      0,      0,      0,      0,      0,\n",
            "             0,      0,      0,      0,      0,      0,      0,      0,      0,\n",
            "             0,      0,      0,      0,      0,      0,      0,      0,      0,\n",
            "             0,      0,      0,      0,      0,      0,      0,      0,      0,\n",
            "             0,      0,      0,      0,      0,      0,      0,      0,      0,\n",
            "             0,      0,      0,      0,      0,      0,      0,      0,      0,\n",
            "             0,      0,      0,      0,      0,      0,      0,      0,      0,\n",
            "             0,      0,      0,      0,      0,      0,      0,      0,      0,\n",
            "             0,      0,      0,      0,      0,      0,      0,      0,      0,\n",
            "             0,      0,      0,      0,      0])\n",
            "tensor([1, 1, 1, 1, 1, 1, 1, 1, 1, 1, 1, 1, 1, 1, 1, 0, 0, 0, 0, 0, 0, 0, 0, 0,\n",
            "        0, 0, 0, 0, 0, 0, 0, 0, 0, 0, 0, 0, 0, 0, 0, 0, 0, 0, 0, 0, 0, 0, 0, 0,\n",
            "        0, 0, 0, 0, 0, 0, 0, 0, 0, 0, 0, 0, 0, 0, 0, 0, 0, 0, 0, 0, 0, 0, 0, 0,\n",
            "        0, 0, 0, 0, 0, 0, 0, 0, 0, 0, 0, 0, 0, 0, 0, 0, 0, 0, 0, 0, 0, 0, 0, 0,\n",
            "        0, 0, 0, 0, 0, 0, 0, 0, 0, 0, 0, 0, 0, 0, 0, 0, 0, 0, 0, 0, 0, 0, 0, 0,\n",
            "        0, 0, 0, 0, 0, 0, 0, 0, 0, 0, 0, 0, 0, 0, 0, 0, 0, 0, 0, 0, 0, 0, 0, 0,\n",
            "        0, 0, 0, 0, 0, 0, 0, 0, 0, 0, 0, 0, 0, 0, 0, 0, 0, 0, 0, 0, 0, 0, 0, 0,\n",
            "        0, 0, 0, 0, 0, 0, 0, 0, 0, 0, 0, 0, 0, 0, 0, 0, 0, 0, 0, 0, 0, 0, 0, 0,\n",
            "        0, 0, 0, 0, 0, 0, 0, 0, 0, 0, 0, 0, 0, 0, 0, 0, 0, 0, 0, 0, 0, 0, 0, 0,\n",
            "        0, 0, 0, 0, 0, 0, 0, 0, 0, 0, 0, 0, 0, 0, 0, 0, 0, 0, 0, 0, 0, 0, 0, 0,\n",
            "        0, 0, 0, 0, 0, 0, 0, 0, 0, 0, 0, 0, 0, 0, 0, 0, 0, 0, 0, 0, 0, 0, 0, 0,\n",
            "        0, 0, 0, 0, 0, 0, 0, 0, 0, 0, 0, 0, 0, 0, 0, 0, 0, 0, 0, 0, 0, 0, 0, 0,\n",
            "        0, 0, 0, 0, 0, 0, 0, 0, 0, 0, 0, 0, 0, 0, 0, 0, 0, 0, 0, 0, 0, 0, 0, 0,\n",
            "        0, 0, 0, 0, 0, 0, 0, 0, 0, 0, 0, 0, 0, 0, 0, 0, 0, 0, 0, 0, 0, 0, 0, 0,\n",
            "        0, 0, 0, 0, 0, 0, 0, 0, 0, 0, 0, 0, 0, 0, 0, 0, 0, 0, 0, 0, 0, 0, 0, 0,\n",
            "        0, 0, 0, 0, 0, 0, 0, 0, 0, 0, 0, 0, 0, 0, 0, 0, 0, 0, 0, 0, 0, 0, 0, 0,\n",
            "        0, 0, 0, 0, 0, 0, 0, 0, 0, 0, 0, 0, 0, 0, 0, 0, 0, 0, 0, 0, 0, 0, 0, 0,\n",
            "        0, 0, 0, 0, 0, 0, 0, 0, 0, 0, 0, 0, 0, 0, 0, 0, 0, 0, 0, 0, 0, 0, 0, 0,\n",
            "        0, 0, 0, 0, 0, 0, 0, 0, 0, 0, 0, 0, 0, 0, 0, 0, 0, 0, 0, 0, 0, 0, 0, 0,\n",
            "        0, 0, 0, 0, 0, 0, 0, 0, 0, 0, 0, 0, 0, 0, 0, 0, 0, 0, 0, 0, 0, 0, 0, 0,\n",
            "        0, 0, 0, 0, 0, 0, 0, 0, 0, 0, 0, 0, 0, 0, 0, 0, 0, 0, 0, 0])\n"
          ]
        }
      ],
      "source": [
        "print(tokenizer.convert_ids_to_tokens(encoding[\"input_ids\"][0]))\n",
        "print(encoding[\"input_ids\"][0])\n",
        "print(encoding[\"attention_mask\"][0])"
      ]
    },
    {
      "cell_type": "code",
      "execution_count": 140,
      "id": "6a58d46d",
      "metadata": {
        "id": "6a58d46d"
      },
      "outputs": [],
      "source": [
        "# CREACION DEL DATASET\n",
        "\n",
        "class CustomDataset(Dataset):\n",
        "    def __init__(self, text, labels, tokenizer, max_len):\n",
        "        self.text = text\n",
        "        self.labels = labels\n",
        "        self.tokenizer = tokenizer\n",
        "        self.max_len = max_len\n",
        "\n",
        "    def __len__(self):\n",
        "      return len(self.text)\n",
        "\n",
        "    def __getitem__(self, item):\n",
        "      text = str(self.text[item])\n",
        "      label = self.labels[item]\n",
        "      encoding = tokenizer.encode_plus(\n",
        "          text,\n",
        "          add_special_tokens=True,\n",
        "          max_length=self.max_len,\n",
        "          return_token_type_ids=False,\n",
        "          padding=\"max_length\",\n",
        "          truncation=True,\n",
        "          return_attention_mask=True,\n",
        "          return_tensors=\"pt\",\n",
        "      )\n",
        "      return {\"text\": text,\n",
        "                \"input_ids\": encoding[\"input_ids\"].flatten(),\n",
        "                \"attention_mask\": encoding[\"attention_mask\"].flatten(),\n",
        "                \"labels\": torch.tensor(label, dtype=torch.long)}\n"
      ]
    },
    {
      "cell_type": "code",
      "execution_count": 141,
      "id": "aedabb6f",
      "metadata": {},
      "outputs": [
        {
          "data": {
            "text/plain": [
              "Index(['sexo', 'edad', 'grupo', 'especialidad_medica', 'subjetivo', 'objetivo',\n",
              "       'concatenada', 'sexo_codificado', 'grupo_codificado'],\n",
              "      dtype='object')"
            ]
          },
          "execution_count": 141,
          "metadata": {},
          "output_type": "execute_result"
        }
      ],
      "source": [
        "df.columns"
      ]
    },
    {
      "cell_type": "code",
      "execution_count": 142,
      "id": "62b3a9f7",
      "metadata": {
        "id": "62b3a9f7"
      },
      "outputs": [],
      "source": [
        "# Data Loader:\n",
        "\n",
        "def data_loader(df, tokenizer, max_len, batch_size):\n",
        "    dataset = CustomDataset(\n",
        "        text = df[\"concatenada\"].to_numpy(),\n",
        "        labels = df[\"grupo_codificado\"].to_numpy(),\n",
        "        tokenizer = tokenizer,\n",
        "        max_len = MAX_LEN\n",
        "    )\n",
        "    return DataLoader(dataset, batch_size = BATCH_SIZE, pin_memory=True)\n"
      ]
    },
    {
      "cell_type": "code",
      "execution_count": 143,
      "id": "21a3ddeb",
      "metadata": {
        "colab": {
          "base_uri": "https://localhost:8080/"
        },
        "id": "21a3ddeb",
        "outputId": "3b6d044f-a432-4b31-c2ae-e5fc63e57a7a"
      },
      "outputs": [],
      "source": [
        "df_train, df_test = train_test_split(df, test_size=0.2, random_state=RANDOM_SEED)\n",
        "\n",
        "train_data_loader = data_loader(df_train, tokenizer, MAX_LEN, BATCH_SIZE)\n",
        "test_data_loader = data_loader(df_test, tokenizer, MAX_LEN, BATCH_SIZE)"
      ]
    },
    {
      "cell_type": "code",
      "execution_count": 144,
      "id": "92950448",
      "metadata": {
        "id": "92950448"
      },
      "outputs": [],
      "source": [
        "# Red Neuronal para el modelo BERT\n",
        "\n",
        "class BERTTextClassifier(nn.Module):\n",
        "    def __init__(self, n_classes):\n",
        "        super(BERTTextClassifier, self).__init__()\n",
        "        self.bert = BertModel.from_pretrained(PRE_TRAINED_MODEL_NAME)\n",
        "        self.dropout = nn.Dropout(0.3)\n",
        "        self.linear = nn.Linear(self.bert.config.hidden_size, n_classes)\n",
        "\n",
        "    def forward(self, input_ids, attention_mask):\n",
        "      outputs = self.bert(\n",
        "          input_ids = input_ids,\n",
        "          attention_mask = attention_mask\n",
        "      )\n",
        "      pooled_out = outputs.pooler_output\n",
        "      drop_out = self.dropout(pooled_out)\n",
        "      output = self.linear(drop_out)\n",
        "      return output\n"
      ]
    },
    {
      "cell_type": "code",
      "execution_count": 145,
      "id": "23793bee",
      "metadata": {
        "id": "23793bee"
      },
      "outputs": [],
      "source": [
        "model = BERTTextClassifier(NCLASS)\n",
        "model = model.to(device)"
      ]
    },
    {
      "cell_type": "code",
      "execution_count": 146,
      "id": "a45f4fdf",
      "metadata": {
        "colab": {
          "base_uri": "https://localhost:8080/"
        },
        "id": "a45f4fdf",
        "outputId": "b78a62a4-232f-49ee-c143-18cf958da96d"
      },
      "outputs": [
        {
          "name": "stdout",
          "output_type": "stream",
          "text": [
            "BERTTextClassifier(\n",
            "  (bert): BertModel(\n",
            "    (embeddings): BertEmbeddings(\n",
            "      (word_embeddings): Embedding(119547, 768, padding_idx=0)\n",
            "      (position_embeddings): Embedding(512, 768)\n",
            "      (token_type_embeddings): Embedding(2, 768)\n",
            "      (LayerNorm): LayerNorm((768,), eps=1e-12, elementwise_affine=True)\n",
            "      (dropout): Dropout(p=0.1, inplace=False)\n",
            "    )\n",
            "    (encoder): BertEncoder(\n",
            "      (layer): ModuleList(\n",
            "        (0-11): 12 x BertLayer(\n",
            "          (attention): BertAttention(\n",
            "            (self): BertSdpaSelfAttention(\n",
            "              (query): Linear(in_features=768, out_features=768, bias=True)\n",
            "              (key): Linear(in_features=768, out_features=768, bias=True)\n",
            "              (value): Linear(in_features=768, out_features=768, bias=True)\n",
            "              (dropout): Dropout(p=0.1, inplace=False)\n",
            "            )\n",
            "            (output): BertSelfOutput(\n",
            "              (dense): Linear(in_features=768, out_features=768, bias=True)\n",
            "              (LayerNorm): LayerNorm((768,), eps=1e-12, elementwise_affine=True)\n",
            "              (dropout): Dropout(p=0.1, inplace=False)\n",
            "            )\n",
            "          )\n",
            "          (intermediate): BertIntermediate(\n",
            "            (dense): Linear(in_features=768, out_features=3072, bias=True)\n",
            "            (intermediate_act_fn): GELUActivation()\n",
            "          )\n",
            "          (output): BertOutput(\n",
            "            (dense): Linear(in_features=3072, out_features=768, bias=True)\n",
            "            (LayerNorm): LayerNorm((768,), eps=1e-12, elementwise_affine=True)\n",
            "            (dropout): Dropout(p=0.1, inplace=False)\n",
            "          )\n",
            "        )\n",
            "      )\n",
            "    )\n",
            "    (pooler): BertPooler(\n",
            "      (dense): Linear(in_features=768, out_features=768, bias=True)\n",
            "      (activation): Tanh()\n",
            "    )\n",
            "  )\n",
            "  (dropout): Dropout(p=0.3, inplace=False)\n",
            "  (linear): Linear(in_features=768, out_features=6, bias=True)\n",
            ")\n"
          ]
        }
      ],
      "source": [
        "print(model)"
      ]
    },
    {
      "cell_type": "code",
      "execution_count": 147,
      "id": "Hk0wDL2XkDuu",
      "metadata": {
        "id": "Hk0wDL2XkDuu"
      },
      "outputs": [],
      "source": [
        "# ENTRENAMIENTO\n",
        "\n",
        "EPOCHS = 5\n",
        "optimizer = optim.AdamW(model.parameters(), lr=2e-5)\n",
        "# total_steps = (train_data_loader.batch_size) * EPOCHS\n",
        "total_steps = len(train_data_loader) * EPOCHS\n",
        "scheduler = get_linear_schedule_with_warmup(\n",
        "    optimizer,\n",
        "    num_warmup_steps = 0,\n",
        "    num_training_steps = total_steps\n",
        ")\n",
        "\n",
        "loss_fn = nn.CrossEntropyLoss().to(device)"
      ]
    },
    {
      "cell_type": "code",
      "execution_count": 148,
      "id": "9BN0cgl4mwGB",
      "metadata": {
        "id": "9BN0cgl4mwGB"
      },
      "outputs": [],
      "source": [
        "# Iteracion de Entranamiento\n",
        "\n",
        "def train_model(model, data_loader, loss_fn, optimizer, device, scheduler, n_examples):\n",
        "    model = model.train()\n",
        "    losses = []\n",
        "    correct_predictions = 0\n",
        "    for batch in data_loader:\n",
        "        input_ids = batch[\"input_ids\"].to(device)\n",
        "        attention_mask = batch[\"attention_mask\"].to(device)\n",
        "        labels = batch[\"labels\"].to(device)\n",
        "        outputs = model(input_ids = input_ids, attention_mask = attention_mask)\n",
        "        _, preds = torch.max(outputs, dim=1)\n",
        "        loss = loss_fn(outputs, labels)\n",
        "        correct_predictions += torch.sum(preds == labels)\n",
        "        losses.append(loss.item())\n",
        "        loss.backward()\n",
        "        nn.utils.clip_grad_norm_(model.parameters(), max_norm=1.0)\n",
        "        optimizer.step()\n",
        "        scheduler.step()\n",
        "        optimizer.zero_grad()\n",
        "    return correct_predictions.double() / n_examples, np.mean(losses)\n",
        "\n",
        "def eval_model(model, data_loader, loss_fn, device, n_examples):\n",
        "    model = model.eval()\n",
        "    losses = []\n",
        "    correct_predictions = 0\n",
        "    with torch.no_grad():\n",
        "        for batch in data_loader:\n",
        "            input_ids = batch[\"input_ids\"].to(device)\n",
        "            attention_mask = batch[\"attention_mask\"].to(device)\n",
        "            labels = batch[\"labels\"].to(device)\n",
        "            outputs = model(input_ids = input_ids, attention_mask = attention_mask)\n",
        "            _, preds = torch.max(outputs, dim=1)\n",
        "            loss = loss_fn(outputs, labels)\n",
        "            correct_predictions += torch.sum(preds == labels)\n",
        "            losses.append(loss.item())\n",
        "    return correct_predictions.double() / n_examples, np.mean(losses)"
      ]
    },
    {
      "cell_type": "code",
      "execution_count": 149,
      "id": "dT9Qi8pYqIGB",
      "metadata": {
        "colab": {
          "base_uri": "https://localhost:8080/"
        },
        "id": "dT9Qi8pYqIGB",
        "outputId": "10b555cc-54ee-43e9-e5b3-97a9ae135a38"
      },
      "outputs": [
        {
          "data": {
            "text/plain": [
              "7847"
            ]
          },
          "execution_count": 149,
          "metadata": {},
          "output_type": "execute_result"
        }
      ],
      "source": [
        "len(df_train)"
      ]
    },
    {
      "cell_type": "code",
      "execution_count": 150,
      "id": "atUmLe2wo1-i",
      "metadata": {
        "colab": {
          "base_uri": "https://localhost:8080/"
        },
        "id": "atUmLe2wo1-i",
        "outputId": "6675b913-1f23-4b94-d356-9f73e8c02b2c"
      },
      "outputs": [
        {
          "name": "stdout",
          "output_type": "stream",
          "text": [
            "Epoch 1 de 5\n",
            "-----------------------------------\n"
          ]
        },
        {
          "data": {
            "application/vnd.jupyter.widget-view+json": {
              "model_id": "5c192c1fe6234f52a89afddec9881bc4",
              "version_major": 2,
              "version_minor": 0
            },
            "text/plain": [
              "Epoch 1/5 - Train:   0%|          | 0/491 [00:00<?, ?it/s]"
            ]
          },
          "metadata": {},
          "output_type": "display_data"
        },
        {
          "data": {
            "application/vnd.jupyter.widget-view+json": {
              "model_id": "300b23b264e443e3a550d226888e4d83",
              "version_major": 2,
              "version_minor": 0
            },
            "text/plain": [
              "Epoch 1/5 - Eval:   0%|          | 0/123 [00:00<?, ?it/s]"
            ]
          },
          "metadata": {},
          "output_type": "display_data"
        },
        {
          "name": "stdout",
          "output_type": "stream",
          "text": [
            "Entramiento: Loss: 1.5323, accuracy: 0.3689\n",
            "Evaluacion: Loss: 1.4924, accuracy: 0.3889\n",
            "Tiempo de la época: 1660.91 segundos\n",
            "\n",
            "Epoch 2 de 5\n",
            "-----------------------------------\n"
          ]
        },
        {
          "data": {
            "application/vnd.jupyter.widget-view+json": {
              "model_id": "6e561621298040e7b97d7ff75b132295",
              "version_major": 2,
              "version_minor": 0
            },
            "text/plain": [
              "Epoch 2/5 - Train:   0%|          | 0/491 [00:00<?, ?it/s]"
            ]
          },
          "metadata": {},
          "output_type": "display_data"
        },
        {
          "data": {
            "application/vnd.jupyter.widget-view+json": {
              "model_id": "bc555e3b56ee41da9b7113508143dd29",
              "version_major": 2,
              "version_minor": 0
            },
            "text/plain": [
              "Epoch 2/5 - Eval:   0%|          | 0/123 [00:00<?, ?it/s]"
            ]
          },
          "metadata": {},
          "output_type": "display_data"
        },
        {
          "name": "stdout",
          "output_type": "stream",
          "text": [
            "Entramiento: Loss: 1.3361, accuracy: 0.4691\n",
            "Evaluacion: Loss: 1.3825, accuracy: 0.4526\n",
            "Tiempo de la época: 2200.35 segundos\n",
            "\n",
            "Epoch 3 de 5\n",
            "-----------------------------------\n"
          ]
        },
        {
          "data": {
            "application/vnd.jupyter.widget-view+json": {
              "model_id": "766bd5a221a9422799781552b31968c0",
              "version_major": 2,
              "version_minor": 0
            },
            "text/plain": [
              "Epoch 3/5 - Train:   0%|          | 0/491 [00:00<?, ?it/s]"
            ]
          },
          "metadata": {},
          "output_type": "display_data"
        },
        {
          "data": {
            "application/vnd.jupyter.widget-view+json": {
              "model_id": "0577d65994624ebf9e966ea116612ef2",
              "version_major": 2,
              "version_minor": 0
            },
            "text/plain": [
              "Epoch 3/5 - Eval:   0%|          | 0/123 [00:00<?, ?it/s]"
            ]
          },
          "metadata": {},
          "output_type": "display_data"
        },
        {
          "name": "stdout",
          "output_type": "stream",
          "text": [
            "Entramiento: Loss: 1.1617, accuracy: 0.5605\n",
            "Evaluacion: Loss: 1.2662, accuracy: 0.5122\n",
            "Tiempo de la época: 24425.40 segundos\n",
            "\n",
            "Epoch 4 de 5\n",
            "-----------------------------------\n"
          ]
        },
        {
          "data": {
            "application/vnd.jupyter.widget-view+json": {
              "model_id": "49cecd0f76634fcda4434c793ae1e302",
              "version_major": 2,
              "version_minor": 0
            },
            "text/plain": [
              "Epoch 4/5 - Train:   0%|          | 0/491 [00:00<?, ?it/s]"
            ]
          },
          "metadata": {},
          "output_type": "display_data"
        },
        {
          "data": {
            "application/vnd.jupyter.widget-view+json": {
              "model_id": "2bf275015453421c87d81b45c259de5f",
              "version_major": 2,
              "version_minor": 0
            },
            "text/plain": [
              "Epoch 4/5 - Eval:   0%|          | 0/123 [00:00<?, ?it/s]"
            ]
          },
          "metadata": {},
          "output_type": "display_data"
        },
        {
          "name": "stdout",
          "output_type": "stream",
          "text": [
            "Entramiento: Loss: 1.0216, accuracy: 0.6275\n",
            "Evaluacion: Loss: 1.2322, accuracy: 0.5566\n",
            "Tiempo de la época: 1630.41 segundos\n",
            "\n",
            "Epoch 5 de 5\n",
            "-----------------------------------\n"
          ]
        },
        {
          "data": {
            "application/vnd.jupyter.widget-view+json": {
              "model_id": "ac13f514e1e74e2ca08211e16a1d9d03",
              "version_major": 2,
              "version_minor": 0
            },
            "text/plain": [
              "Epoch 5/5 - Train:   0%|          | 0/491 [00:00<?, ?it/s]"
            ]
          },
          "metadata": {},
          "output_type": "display_data"
        },
        {
          "data": {
            "application/vnd.jupyter.widget-view+json": {
              "model_id": "2bec01009df94223a3e3b9ac73f5a9f4",
              "version_major": 2,
              "version_minor": 0
            },
            "text/plain": [
              "Epoch 5/5 - Eval:   0%|          | 0/123 [00:00<?, ?it/s]"
            ]
          },
          "metadata": {},
          "output_type": "display_data"
        },
        {
          "name": "stdout",
          "output_type": "stream",
          "text": [
            "Entramiento: Loss: 0.8996, accuracy: 0.6812\n",
            "Evaluacion: Loss: 1.2323, accuracy: 0.5596\n",
            "Tiempo de la época: 1630.03 segundos\n",
            "\n"
          ]
        }
      ],
      "source": [
        "import time\n",
        "from tqdm.notebook import tqdm\n",
        "\n",
        "# Entrenamiento del Modelo con barras de progreso\n",
        "for epoch in range(EPOCHS):\n",
        "  print(\"Epoch {} de {}\".format(epoch + 1, EPOCHS))\n",
        "  print(\"-----------------------------------\")\n",
        "  start_time = time.time()\n",
        "\n",
        "  # --- Training loop with tqdm ---\n",
        "  model.train()\n",
        "  train_losses = []\n",
        "  train_correct = 0\n",
        "  train_total = len(df_train)\n",
        "\n",
        "  train_iter = tqdm(train_data_loader, desc=f\"Epoch {epoch+1}/{EPOCHS} - Train\", leave=False)\n",
        "  for batch in train_iter:\n",
        "    input_ids = batch[\"input_ids\"].to(device)\n",
        "    attention_mask = batch[\"attention_mask\"].to(device)\n",
        "    labels = batch[\"labels\"].to(device)\n",
        "\n",
        "    outputs = model(input_ids=input_ids, attention_mask=attention_mask)\n",
        "    _, preds = torch.max(outputs, dim=1)\n",
        "    loss = loss_fn(outputs, labels)\n",
        "\n",
        "    train_correct += torch.sum(preds == labels)\n",
        "    train_losses.append(loss.item())\n",
        "\n",
        "    loss.backward()\n",
        "    nn.utils.clip_grad_norm_(model.parameters(), max_norm=1.0)\n",
        "    optimizer.step()\n",
        "    scheduler.step()\n",
        "    optimizer.zero_grad()\n",
        "\n",
        "    train_iter.set_postfix(loss=np.mean(train_losses), acc=(train_correct.double() / train_total).item())\n",
        "\n",
        "  train_acc = train_correct.double() / train_total\n",
        "  train_loss = np.mean(train_losses)\n",
        "\n",
        "  # --- Evaluation loop with tqdm ---\n",
        "  model.eval()\n",
        "  test_losses = []\n",
        "  test_correct = 0\n",
        "  test_total = len(df_test)\n",
        "\n",
        "  eval_iter = tqdm(test_data_loader, desc=f\"Epoch {epoch+1}/{EPOCHS} - Eval\", leave=False)\n",
        "  with torch.no_grad():\n",
        "    for batch in eval_iter:\n",
        "      input_ids = batch[\"input_ids\"].to(device)\n",
        "      attention_mask = batch[\"attention_mask\"].to(device)\n",
        "      labels = batch[\"labels\"].to(device)\n",
        "\n",
        "      outputs = model(input_ids=input_ids, attention_mask=attention_mask)\n",
        "      _, preds = torch.max(outputs, dim=1)\n",
        "      loss = loss_fn(outputs, labels)\n",
        "\n",
        "      test_correct += torch.sum(preds == labels)\n",
        "      test_losses.append(loss.item())\n",
        "\n",
        "      eval_iter.set_postfix(loss=np.mean(test_losses), acc=(test_correct.double() / test_total).item())\n",
        "\n",
        "  test_acc = test_correct.double() / test_total\n",
        "  test_loss = np.mean(test_losses)\n",
        "\n",
        "  end_time = time.time()\n",
        "\n",
        "  print(\"Entramiento: Loss: {:.4f}, accuracy: {:.4f}\".format(train_loss, train_acc))\n",
        "  print(\"Evaluacion: Loss: {:.4f}, accuracy: {:.4f}\".format(test_loss, test_acc))\n",
        "  print(f\"Tiempo de la época: {end_time - start_time:.2f} segundos\")\n",
        "  print(\"\")\n"
      ]
    }
  ],
  "metadata": {
    "accelerator": "GPU",
    "colab": {
      "gpuType": "T4",
      "provenance": []
    },
    "kernelspec": {
      "display_name": "BERT_NLP (3.10.11)",
      "language": "python",
      "name": "python3"
    },
    "language_info": {
      "codemirror_mode": {
        "name": "ipython",
        "version": 3
      },
      "file_extension": ".py",
      "mimetype": "text/x-python",
      "name": "python",
      "nbconvert_exporter": "python",
      "pygments_lexer": "ipython3",
      "version": "3.10.11"
    }
  },
  "nbformat": 4,
  "nbformat_minor": 5
}
